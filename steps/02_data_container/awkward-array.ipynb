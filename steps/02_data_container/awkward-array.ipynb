{
 "cells": [
  {
   "cell_type": "code",
   "execution_count": 33,
   "metadata": {},
   "outputs": [],
   "source": [
    "import pandas as pd\n",
    "from sktime.datasets import load_basic_motions, load_arrow_head\n",
    "from sktime.utils.data_container import nested_to_3d_numpy, from_nested_to_long\n",
    "import numpy as np\n",
    "import awkward1 as ak"
   ]
  },
  {
   "cell_type": "code",
   "execution_count": 34,
   "metadata": {},
   "outputs": [],
   "source": [
    "import numpy as np\n",
    "from sktime.utils._testing.series_as_features import \\\n",
    "    make_classification_problem\n",
    "\n",
    "from benchmarks.benchmark import ak_3d_arr\n",
    "from benchmarks.benchmark import ak_record_arr\n",
    "from benchmarks.benchmark import np_arr\n",
    "\n",
    "\n",
    "def _mean(X, axis=-1):\n",
    "    return np.mean(X, axis=axis)\n",
    "\n",
    "\n",
    "X, y = make_classification_problem(n_instances=100, n_timepoints=100)\n",
    "\n",
    "expected = _mean(np_arr(X))\n"
   ]
  },
  {
   "cell_type": "code",
   "execution_count": null,
   "metadata": {},
   "outputs": [],
   "source": []
  },
  {
   "cell_type": "code",
   "execution_count": null,
   "metadata": {},
   "outputs": [],
   "source": []
  },
  {
   "cell_type": "markdown",
   "metadata": {
    "collapsed": "true"
   },
   "source": [
    "## Using pandas with multi-indexing"
   ]
  },
  {
   "cell_type": "code",
   "execution_count": 2,
   "metadata": {},
   "outputs": [
    {
     "data": {
      "text/plain": [
       "(80, 6, 100)"
      ]
     },
     "execution_count": 2,
     "metadata": {},
     "output_type": "execute_result"
    }
   ],
   "source": [
    "X, y = load_basic_motions(return_X_y=True)\n",
    "X = X.reset_index(drop=True)\n",
    "nested_to_3d_numpy(X).shape"
   ]
  },
  {
   "cell_type": "code",
   "execution_count": 4,
   "metadata": {},
   "outputs": [
    {
     "data": {
      "text/html": [
       "<div>\n",
       "<style scoped>\n",
       "    .dataframe tbody tr th:only-of-type {\n",
       "        vertical-align: middle;\n",
       "    }\n",
       "\n",
       "    .dataframe tbody tr th {\n",
       "        vertical-align: top;\n",
       "    }\n",
       "\n",
       "    .dataframe thead th {\n",
       "        text-align: right;\n",
       "    }\n",
       "</style>\n",
       "<table border=\"1\" class=\"dataframe\">\n",
       "  <thead>\n",
       "    <tr style=\"text-align: right;\">\n",
       "      <th></th>\n",
       "      <th>dim_0</th>\n",
       "      <th>dim_1</th>\n",
       "      <th>dim_2</th>\n",
       "      <th>dim_3</th>\n",
       "      <th>dim_4</th>\n",
       "      <th>dim_5</th>\n",
       "    </tr>\n",
       "  </thead>\n",
       "  <tbody>\n",
       "    <tr>\n",
       "      <th>0</th>\n",
       "      <td>0     0.079106\n",
       "1     0.079106\n",
       "2    -0.903497\n",
       "3...</td>\n",
       "      <td>0     0.394032\n",
       "1     0.394032\n",
       "2    -3.666397\n",
       "3...</td>\n",
       "      <td>0     0.551444\n",
       "1     0.551444\n",
       "2    -0.282844\n",
       "3...</td>\n",
       "      <td>0     0.351565\n",
       "1     0.351565\n",
       "2    -0.095881\n",
       "3...</td>\n",
       "      <td>0     0.023970\n",
       "1     0.023970\n",
       "2    -0.319605\n",
       "3...</td>\n",
       "      <td>0     0.633883\n",
       "1     0.633883\n",
       "2     0.972131\n",
       "3...</td>\n",
       "    </tr>\n",
       "    <tr>\n",
       "      <th>1</th>\n",
       "      <td>0     0.377751\n",
       "1     0.377751\n",
       "2     2.952965\n",
       "3...</td>\n",
       "      <td>0    -0.610850\n",
       "1    -0.610850\n",
       "2     0.970717\n",
       "3...</td>\n",
       "      <td>0    -0.147376\n",
       "1    -0.147376\n",
       "2    -5.962515\n",
       "3...</td>\n",
       "      <td>0    -0.103872\n",
       "1    -0.103872\n",
       "2    -7.593275\n",
       "3...</td>\n",
       "      <td>0    -0.109198\n",
       "1    -0.109198\n",
       "2    -0.697804\n",
       "3...</td>\n",
       "      <td>0    -0.037287\n",
       "1    -0.037287\n",
       "2    -2.865789\n",
       "3...</td>\n",
       "    </tr>\n",
       "    <tr>\n",
       "      <th>2</th>\n",
       "      <td>0    -0.813905\n",
       "1    -0.813905\n",
       "2    -0.424628\n",
       "3...</td>\n",
       "      <td>0     0.825666\n",
       "1     0.825666\n",
       "2    -1.305033\n",
       "3...</td>\n",
       "      <td>0     0.032712\n",
       "1     0.032712\n",
       "2     0.826170\n",
       "3...</td>\n",
       "      <td>0     0.021307\n",
       "1     0.021307\n",
       "2    -0.372872\n",
       "3...</td>\n",
       "      <td>0     0.122515\n",
       "1     0.122515\n",
       "2    -0.045277\n",
       "3...</td>\n",
       "      <td>0     0.775041\n",
       "1     0.775041\n",
       "2     0.383526\n",
       "3...</td>\n",
       "    </tr>\n",
       "    <tr>\n",
       "      <th>3</th>\n",
       "      <td>0     0.289855\n",
       "1     0.289855\n",
       "2    -0.669185\n",
       "3...</td>\n",
       "      <td>0     0.284130\n",
       "1     0.284130\n",
       "2    -0.210466\n",
       "3...</td>\n",
       "      <td>0     0.213680\n",
       "1     0.213680\n",
       "2     0.252267\n",
       "3...</td>\n",
       "      <td>0    -0.314278\n",
       "1    -0.314278\n",
       "2     0.018644\n",
       "3...</td>\n",
       "      <td>0     0.074574\n",
       "1     0.074574\n",
       "2     0.007990\n",
       "3...</td>\n",
       "      <td>0    -0.079901\n",
       "1    -0.079901\n",
       "2     0.237040\n",
       "3...</td>\n",
       "    </tr>\n",
       "    <tr>\n",
       "      <th>4</th>\n",
       "      <td>0    -0.123238\n",
       "1    -0.123238\n",
       "2    -0.249547\n",
       "3...</td>\n",
       "      <td>0     0.379341\n",
       "1     0.379341\n",
       "2     0.541501\n",
       "3...</td>\n",
       "      <td>0    -0.286006\n",
       "1    -0.286006\n",
       "2     0.208420\n",
       "3...</td>\n",
       "      <td>0    -0.098545\n",
       "1    -0.098545\n",
       "2    -0.023970\n",
       "3...</td>\n",
       "      <td>0     0.058594\n",
       "1     0.058594\n",
       "2     0.175783\n",
       "3...</td>\n",
       "      <td>0    -0.074574\n",
       "1    -0.074574\n",
       "2     0.114525\n",
       "3...</td>\n",
       "    </tr>\n",
       "  </tbody>\n",
       "</table>\n",
       "</div>"
      ],
      "text/plain": [
       "                                               dim_0  \\\n",
       "0  0     0.079106\n",
       "1     0.079106\n",
       "2    -0.903497\n",
       "3...   \n",
       "1  0     0.377751\n",
       "1     0.377751\n",
       "2     2.952965\n",
       "3...   \n",
       "2  0    -0.813905\n",
       "1    -0.813905\n",
       "2    -0.424628\n",
       "3...   \n",
       "3  0     0.289855\n",
       "1     0.289855\n",
       "2    -0.669185\n",
       "3...   \n",
       "4  0    -0.123238\n",
       "1    -0.123238\n",
       "2    -0.249547\n",
       "3...   \n",
       "\n",
       "                                               dim_1  \\\n",
       "0  0     0.394032\n",
       "1     0.394032\n",
       "2    -3.666397\n",
       "3...   \n",
       "1  0    -0.610850\n",
       "1    -0.610850\n",
       "2     0.970717\n",
       "3...   \n",
       "2  0     0.825666\n",
       "1     0.825666\n",
       "2    -1.305033\n",
       "3...   \n",
       "3  0     0.284130\n",
       "1     0.284130\n",
       "2    -0.210466\n",
       "3...   \n",
       "4  0     0.379341\n",
       "1     0.379341\n",
       "2     0.541501\n",
       "3...   \n",
       "\n",
       "                                               dim_2  \\\n",
       "0  0     0.551444\n",
       "1     0.551444\n",
       "2    -0.282844\n",
       "3...   \n",
       "1  0    -0.147376\n",
       "1    -0.147376\n",
       "2    -5.962515\n",
       "3...   \n",
       "2  0     0.032712\n",
       "1     0.032712\n",
       "2     0.826170\n",
       "3...   \n",
       "3  0     0.213680\n",
       "1     0.213680\n",
       "2     0.252267\n",
       "3...   \n",
       "4  0    -0.286006\n",
       "1    -0.286006\n",
       "2     0.208420\n",
       "3...   \n",
       "\n",
       "                                               dim_3  \\\n",
       "0  0     0.351565\n",
       "1     0.351565\n",
       "2    -0.095881\n",
       "3...   \n",
       "1  0    -0.103872\n",
       "1    -0.103872\n",
       "2    -7.593275\n",
       "3...   \n",
       "2  0     0.021307\n",
       "1     0.021307\n",
       "2    -0.372872\n",
       "3...   \n",
       "3  0    -0.314278\n",
       "1    -0.314278\n",
       "2     0.018644\n",
       "3...   \n",
       "4  0    -0.098545\n",
       "1    -0.098545\n",
       "2    -0.023970\n",
       "3...   \n",
       "\n",
       "                                               dim_4  \\\n",
       "0  0     0.023970\n",
       "1     0.023970\n",
       "2    -0.319605\n",
       "3...   \n",
       "1  0    -0.109198\n",
       "1    -0.109198\n",
       "2    -0.697804\n",
       "3...   \n",
       "2  0     0.122515\n",
       "1     0.122515\n",
       "2    -0.045277\n",
       "3...   \n",
       "3  0     0.074574\n",
       "1     0.074574\n",
       "2     0.007990\n",
       "3...   \n",
       "4  0     0.058594\n",
       "1     0.058594\n",
       "2     0.175783\n",
       "3...   \n",
       "\n",
       "                                               dim_5  \n",
       "0  0     0.633883\n",
       "1     0.633883\n",
       "2     0.972131\n",
       "3...  \n",
       "1  0    -0.037287\n",
       "1    -0.037287\n",
       "2    -2.865789\n",
       "3...  \n",
       "2  0     0.775041\n",
       "1     0.775041\n",
       "2     0.383526\n",
       "3...  \n",
       "3  0    -0.079901\n",
       "1    -0.079901\n",
       "2     0.237040\n",
       "3...  \n",
       "4  0    -0.074574\n",
       "1    -0.074574\n",
       "2     0.114525\n",
       "3...  "
      ]
     },
     "execution_count": 4,
     "metadata": {},
     "output_type": "execute_result"
    }
   ],
   "source": [
    "# nested format \n",
    "X.head()"
   ]
  },
  {
   "cell_type": "code",
   "execution_count": 7,
   "metadata": {},
   "outputs": [
    {
     "data": {
      "text/plain": [
       "0     0.079106\n",
       "1     0.079106\n",
       "2    -0.903497\n",
       "3     1.116125\n",
       "4     1.638200\n",
       "        ...   \n",
       "95   -0.167918\n",
       "96   -0.227670\n",
       "97   -0.193271\n",
       "98   -0.193271\n",
       "99   -0.205150\n",
       "Length: 100, dtype: float64"
      ]
     },
     "execution_count": 7,
     "metadata": {},
     "output_type": "execute_result"
    }
   ],
   "source": [
    "X.iloc[0, 0]"
   ]
  },
  {
   "cell_type": "code",
   "execution_count": null,
   "metadata": {},
   "outputs": [],
   "source": []
  },
  {
   "cell_type": "markdown",
   "metadata": {
    "collapsed": "true"
   },
   "source": [
    "### Wide format: multi-index columns\n",
    "* assumes instances share time index"
   ]
  },
  {
   "cell_type": "code",
   "execution_count": null,
   "metadata": {},
   "outputs": [],
   "source": []
  },
  {
   "cell_type": "markdown",
   "metadata": {
    "collapsed": "true"
   },
   "source": [
    "### Long format: multi-index over rows\n",
    "* does not work with time-constant variables\n",
    "* does not work with type-heterogenous data"
   ]
  },
  {
   "cell_type": "code",
   "execution_count": 4,
   "metadata": {},
   "outputs": [
    {
     "data": {
      "text/plain": [
       "(48000, 1)"
      ]
     },
     "execution_count": 4,
     "metadata": {},
     "output_type": "execute_result"
    }
   ],
   "source": [
    "long = from_nested_to_long(X)\n",
    "long = long.rename(columns={\"index\": \"instance\", \"column\": \"variable\", \"time_index\": \"time\"})\n",
    "long.time = long.time.astype(int)\n",
    "long = long.set_index([\"instance\", \"variable\", \"time\"])\n",
    "\n",
    "# sorting seems necessary to avoid performance issues in later slicing operations and for prettier display of index \n",
    "long = long.sort_index()\n",
    "long.shape"
   ]
  },
  {
   "cell_type": "code",
   "execution_count": 164,
   "metadata": {},
   "outputs": [
    {
     "data": {
      "text/html": [
       "<div>\n",
       "<style scoped>\n",
       "    .dataframe tbody tr th:only-of-type {\n",
       "        vertical-align: middle;\n",
       "    }\n",
       "\n",
       "    .dataframe tbody tr th {\n",
       "        vertical-align: top;\n",
       "    }\n",
       "\n",
       "    .dataframe thead th {\n",
       "        text-align: right;\n",
       "    }\n",
       "</style>\n",
       "<table border=\"1\" class=\"dataframe\">\n",
       "  <thead>\n",
       "    <tr style=\"text-align: right;\">\n",
       "      <th></th>\n",
       "      <th></th>\n",
       "      <th></th>\n",
       "      <th>value</th>\n",
       "    </tr>\n",
       "    <tr>\n",
       "      <th>instance</th>\n",
       "      <th>variable</th>\n",
       "      <th>time</th>\n",
       "      <th></th>\n",
       "    </tr>\n",
       "  </thead>\n",
       "  <tbody>\n",
       "    <tr>\n",
       "      <th rowspan=\"5\" valign=\"top\">0</th>\n",
       "      <th rowspan=\"5\" valign=\"top\">dim_0</th>\n",
       "      <th>0</th>\n",
       "      <td>0.079106</td>\n",
       "    </tr>\n",
       "    <tr>\n",
       "      <th>1</th>\n",
       "      <td>0.079106</td>\n",
       "    </tr>\n",
       "    <tr>\n",
       "      <th>2</th>\n",
       "      <td>-0.903497</td>\n",
       "    </tr>\n",
       "    <tr>\n",
       "      <th>3</th>\n",
       "      <td>1.116125</td>\n",
       "    </tr>\n",
       "    <tr>\n",
       "      <th>4</th>\n",
       "      <td>1.638200</td>\n",
       "    </tr>\n",
       "  </tbody>\n",
       "</table>\n",
       "</div>"
      ],
      "text/plain": [
       "                           value\n",
       "instance variable time          \n",
       "0        dim_0    0     0.079106\n",
       "                  1     0.079106\n",
       "                  2    -0.903497\n",
       "                  3     1.116125\n",
       "                  4     1.638200"
      ]
     },
     "execution_count": 164,
     "metadata": {},
     "output_type": "execute_result"
    }
   ],
   "source": [
    "# multi-index df\n",
    "long.head()"
   ]
  },
  {
   "cell_type": "code",
   "execution_count": 166,
   "metadata": {},
   "outputs": [
    {
     "data": {
      "text/plain": [
       "pandas.core.indexes.multi.MultiIndex"
      ]
     },
     "execution_count": 166,
     "metadata": {},
     "output_type": "execute_result"
    }
   ],
   "source": [
    "type(long.index)"
   ]
  },
  {
   "cell_type": "code",
   "execution_count": 168,
   "metadata": {},
   "outputs": [
    {
     "name": "stdout",
     "output_type": "stream",
     "text": [
      "<class 'pandas.core.frame.DataFrame'>\n",
      "MultiIndex: 48000 entries, (0, 'dim_0', 0) to (79, 'dim_5', 99)\n",
      "Data columns (total 1 columns):\n",
      " #   Column  Non-Null Count  Dtype  \n",
      "---  ------  --------------  -----  \n",
      " 0   value   48000 non-null  float64\n",
      "dtypes: float64(1)\n",
      "memory usage: 1.8+ MB\n"
     ]
    }
   ],
   "source": [
    "long.info()"
   ]
  },
  {
   "cell_type": "code",
   "execution_count": 167,
   "metadata": {},
   "outputs": [
    {
     "data": {
      "text/plain": [
       "(48000, 1)"
      ]
     },
     "execution_count": 167,
     "metadata": {},
     "output_type": "execute_result"
    }
   ],
   "source": [
    "long.to_numpy().shape"
   ]
  },
  {
   "cell_type": "markdown",
   "metadata": {},
   "source": [
    "#### loc indexing\n",
    "loc indexing works as expected but requires knowledge of index labels (i.e. instance names, variable names, time point labels)"
   ]
  },
  {
   "cell_type": "code",
   "execution_count": 162,
   "metadata": {},
   "outputs": [
    {
     "data": {
      "text/html": [
       "<div>\n",
       "<style scoped>\n",
       "    .dataframe tbody tr th:only-of-type {\n",
       "        vertical-align: middle;\n",
       "    }\n",
       "\n",
       "    .dataframe tbody tr th {\n",
       "        vertical-align: top;\n",
       "    }\n",
       "\n",
       "    .dataframe thead th {\n",
       "        text-align: right;\n",
       "    }\n",
       "</style>\n",
       "<table border=\"1\" class=\"dataframe\">\n",
       "  <thead>\n",
       "    <tr style=\"text-align: right;\">\n",
       "      <th></th>\n",
       "      <th></th>\n",
       "      <th></th>\n",
       "      <th>value</th>\n",
       "    </tr>\n",
       "    <tr>\n",
       "      <th>instance</th>\n",
       "      <th>variable</th>\n",
       "      <th>time</th>\n",
       "      <th></th>\n",
       "    </tr>\n",
       "  </thead>\n",
       "  <tbody>\n",
       "    <tr>\n",
       "      <th rowspan=\"3\" valign=\"top\">0</th>\n",
       "      <th rowspan=\"3\" valign=\"top\">dim_0</th>\n",
       "      <th>3</th>\n",
       "      <td>1.116125</td>\n",
       "    </tr>\n",
       "    <tr>\n",
       "      <th>4</th>\n",
       "      <td>1.638200</td>\n",
       "    </tr>\n",
       "    <tr>\n",
       "      <th>5</th>\n",
       "      <td>1.003448</td>\n",
       "    </tr>\n",
       "  </tbody>\n",
       "</table>\n",
       "</div>"
      ],
      "text/plain": [
       "                           value\n",
       "instance variable time          \n",
       "0        dim_0    3     1.116125\n",
       "                  4     1.638200\n",
       "                  5     1.003448"
      ]
     },
     "execution_count": 162,
     "metadata": {},
     "output_type": "execute_result"
    }
   ],
   "source": [
    "long.loc[0, \"dim_0\", 3:5]"
   ]
  },
  {
   "cell_type": "code",
   "execution_count": 163,
   "metadata": {},
   "outputs": [],
   "source": [
    "# but requires to know variable names, so this does not work:\n",
    "# long.loc[0, 0, 3:5]"
   ]
  },
  {
   "cell_type": "markdown",
   "metadata": {},
   "source": [
    "#### iloc indexing\n",
    "iloc indexing does *not* work as desired, in the sense that it does not return first instance, first variable, 3rd-5th time point\n",
    "\n",
    "```python\n",
    "long.iloc[0, 0, 3:5]\n",
    "```"
   ]
  },
  {
   "cell_type": "code",
   "execution_count": 16,
   "metadata": {},
   "outputs": [
    {
     "data": {
      "text/html": [
       "<div>\n",
       "<style scoped>\n",
       "    .dataframe tbody tr th:only-of-type {\n",
       "        vertical-align: middle;\n",
       "    }\n",
       "\n",
       "    .dataframe tbody tr th {\n",
       "        vertical-align: top;\n",
       "    }\n",
       "\n",
       "    .dataframe thead th {\n",
       "        text-align: right;\n",
       "    }\n",
       "</style>\n",
       "<table border=\"1\" class=\"dataframe\">\n",
       "  <thead>\n",
       "    <tr style=\"text-align: right;\">\n",
       "      <th></th>\n",
       "      <th></th>\n",
       "      <th></th>\n",
       "      <th>value</th>\n",
       "    </tr>\n",
       "    <tr>\n",
       "      <th>instance</th>\n",
       "      <th>variable</th>\n",
       "      <th>time</th>\n",
       "      <th></th>\n",
       "    </tr>\n",
       "  </thead>\n",
       "  <tbody>\n",
       "    <tr>\n",
       "      <th rowspan=\"3\" valign=\"top\">0</th>\n",
       "      <th rowspan=\"3\" valign=\"top\">dim_0</th>\n",
       "      <th>1</th>\n",
       "      <td>0.079106</td>\n",
       "    </tr>\n",
       "    <tr>\n",
       "      <th>2</th>\n",
       "      <td>-0.903497</td>\n",
       "    </tr>\n",
       "    <tr>\n",
       "      <th>3</th>\n",
       "      <td>1.116125</td>\n",
       "    </tr>\n",
       "  </tbody>\n",
       "</table>\n",
       "</div>"
      ],
      "text/plain": [
       "                           value\n",
       "instance variable time          \n",
       "0        dim_0    1     0.079106\n",
       "                  2    -0.903497\n",
       "                  3     1.116125"
      ]
     },
     "execution_count": 16,
     "metadata": {},
     "output_type": "execute_result"
    }
   ],
   "source": [
    "# instead returns simply first rows\n",
    "long.iloc[1:4]"
   ]
  },
  {
   "cell_type": "markdown",
   "metadata": {
    "collapsed": "true"
   },
   "source": [
    "#### Work around to still be able to use iloc"
   ]
  },
  {
   "cell_type": "markdown",
   "metadata": {},
   "source": [
    "* we would want `.iloc[0]` to return the first instance, not the first row, and `.iloc[0, 0, 0]` to return the first row\n",
    "* could we rewrite iloc to behave like this? "
   ]
  },
  {
   "cell_type": "code",
   "execution_count": 154,
   "metadata": {},
   "outputs": [
    {
     "data": {
      "text/html": [
       "<div>\n",
       "<style scoped>\n",
       "    .dataframe tbody tr th:only-of-type {\n",
       "        vertical-align: middle;\n",
       "    }\n",
       "\n",
       "    .dataframe tbody tr th {\n",
       "        vertical-align: top;\n",
       "    }\n",
       "\n",
       "    .dataframe thead th {\n",
       "        text-align: right;\n",
       "    }\n",
       "</style>\n",
       "<table border=\"1\" class=\"dataframe\">\n",
       "  <thead>\n",
       "    <tr style=\"text-align: right;\">\n",
       "      <th></th>\n",
       "      <th></th>\n",
       "      <th></th>\n",
       "      <th>value</th>\n",
       "    </tr>\n",
       "    <tr>\n",
       "      <th>instance</th>\n",
       "      <th>variable</th>\n",
       "      <th>time</th>\n",
       "      <th></th>\n",
       "    </tr>\n",
       "  </thead>\n",
       "  <tbody>\n",
       "    <tr>\n",
       "      <th rowspan=\"6\" valign=\"top\">11</th>\n",
       "      <th rowspan=\"3\" valign=\"top\">dim_2</th>\n",
       "      <th>3</th>\n",
       "      <td>-3.230503</td>\n",
       "    </tr>\n",
       "    <tr>\n",
       "      <th>4</th>\n",
       "      <td>-3.833633</td>\n",
       "    </tr>\n",
       "    <tr>\n",
       "      <th>5</th>\n",
       "      <td>-9.051298</td>\n",
       "    </tr>\n",
       "    <tr>\n",
       "      <th rowspan=\"3\" valign=\"top\">dim_3</th>\n",
       "      <th>3</th>\n",
       "      <td>2.972324</td>\n",
       "    </tr>\n",
       "    <tr>\n",
       "      <th>4</th>\n",
       "      <td>3.803296</td>\n",
       "    </tr>\n",
       "    <tr>\n",
       "      <th>5</th>\n",
       "      <td>1.984213</td>\n",
       "    </tr>\n",
       "    <tr>\n",
       "      <th rowspan=\"6\" valign=\"top\">12</th>\n",
       "      <th rowspan=\"3\" valign=\"top\">dim_2</th>\n",
       "      <th>3</th>\n",
       "      <td>-0.526095</td>\n",
       "    </tr>\n",
       "    <tr>\n",
       "      <th>4</th>\n",
       "      <td>-3.895602</td>\n",
       "    </tr>\n",
       "    <tr>\n",
       "      <th>5</th>\n",
       "      <td>-5.755945</td>\n",
       "    </tr>\n",
       "    <tr>\n",
       "      <th rowspan=\"3\" valign=\"top\">dim_3</th>\n",
       "      <th>3</th>\n",
       "      <td>0.221060</td>\n",
       "    </tr>\n",
       "    <tr>\n",
       "      <th>4</th>\n",
       "      <td>2.961670</td>\n",
       "    </tr>\n",
       "    <tr>\n",
       "      <th>5</th>\n",
       "      <td>3.089512</td>\n",
       "    </tr>\n",
       "  </tbody>\n",
       "</table>\n",
       "</div>"
      ],
      "text/plain": [
       "                           value\n",
       "instance variable time          \n",
       "11       dim_2    3    -3.230503\n",
       "                  4    -3.833633\n",
       "                  5    -9.051298\n",
       "         dim_3    3     2.972324\n",
       "                  4     3.803296\n",
       "                  5     1.984213\n",
       "12       dim_2    3    -0.526095\n",
       "                  4    -3.895602\n",
       "                  5    -5.755945\n",
       "         dim_3    3     0.221060\n",
       "                  4     2.961670\n",
       "                  5     3.089512"
      ]
     },
     "execution_count": 154,
     "metadata": {},
     "output_type": "execute_result"
    }
   ],
   "source": [
    "# go from iloc to loc values\n",
    "instances = long.index.get_level_values(\"instance\").unique()\n",
    "variables = long.index.get_level_values(\"variable\").unique()\n",
    "timepoints = long.index.get_level_values(\"time\").unique()\n",
    "\n",
    "instances_loc = instances[11:13]\n",
    "variables_loc = variables[2:4]\n",
    "timepoints_loc = timepoints[3:6]\n",
    "\n",
    "a = long.loc[instances_loc, variables_loc, timepoints_loc]\n",
    "a"
   ]
  },
  {
   "cell_type": "code",
   "execution_count": 155,
   "metadata": {},
   "outputs": [
    {
     "data": {
      "text/html": [
       "<div>\n",
       "<style scoped>\n",
       "    .dataframe tbody tr th:only-of-type {\n",
       "        vertical-align: middle;\n",
       "    }\n",
       "\n",
       "    .dataframe tbody tr th {\n",
       "        vertical-align: top;\n",
       "    }\n",
       "\n",
       "    .dataframe thead th {\n",
       "        text-align: right;\n",
       "    }\n",
       "</style>\n",
       "<table border=\"1\" class=\"dataframe\">\n",
       "  <thead>\n",
       "    <tr style=\"text-align: right;\">\n",
       "      <th></th>\n",
       "      <th></th>\n",
       "      <th>value</th>\n",
       "    </tr>\n",
       "    <tr>\n",
       "      <th>instance</th>\n",
       "      <th>variable</th>\n",
       "      <th></th>\n",
       "    </tr>\n",
       "  </thead>\n",
       "  <tbody>\n",
       "    <tr>\n",
       "      <th rowspan=\"2\" valign=\"top\">11</th>\n",
       "      <th>dim_2</th>\n",
       "      <td>-5.371811</td>\n",
       "    </tr>\n",
       "    <tr>\n",
       "      <th>dim_3</th>\n",
       "      <td>2.919944</td>\n",
       "    </tr>\n",
       "    <tr>\n",
       "      <th rowspan=\"2\" valign=\"top\">12</th>\n",
       "      <th>dim_2</th>\n",
       "      <td>-3.392547</td>\n",
       "    </tr>\n",
       "    <tr>\n",
       "      <th>dim_3</th>\n",
       "      <td>2.090747</td>\n",
       "    </tr>\n",
       "  </tbody>\n",
       "</table>\n",
       "</div>"
      ],
      "text/plain": [
       "                      value\n",
       "instance variable          \n",
       "11       dim_2    -5.371811\n",
       "         dim_3     2.919944\n",
       "12       dim_2    -3.392547\n",
       "         dim_3     2.090747"
      ]
     },
     "execution_count": 155,
     "metadata": {},
     "output_type": "execute_result"
    }
   ],
   "source": [
    "# operations over levels\n",
    "a.mean(level=[\"instance\", \"variable\"])"
   ]
  },
  {
   "cell_type": "code",
   "execution_count": null,
   "metadata": {},
   "outputs": [],
   "source": []
  },
  {
   "cell_type": "markdown",
   "metadata": {},
   "source": [
    "---\n",
    "## Awkward array\n",
    "* like 3d numpy, but support for ragged arrays with varying number of time points across instances and/or variables\n",
    "* in its simplest form, does not keep track of time index\n",
    "* question: how much more complicated/less efficient will it be if we keep track of index?"
   ]
  },
  {
   "cell_type": "code",
   "execution_count": 2,
   "metadata": {},
   "outputs": [],
   "source": [
    "from sktime.datasets import load_arrow_head, load_basic_motions\n",
    "from sktime.utils.data_container import tabularize, nested_to_3d_numpy\n",
    "import awkward1 as ak\n",
    "import numpy as np\n",
    "import pandas as pd"
   ]
  },
  {
   "cell_type": "markdown",
   "metadata": {},
   "source": [
    "## Using awkward array"
   ]
  },
  {
   "cell_type": "markdown",
   "metadata": {},
   "source": [
    "### Time-homogeneous panel data: simple 3d ak.array"
   ]
  },
  {
   "cell_type": "markdown",
   "metadata": {},
   "source": [
    "#### Univariate panel data"
   ]
  },
  {
   "cell_type": "code",
   "execution_count": 47,
   "metadata": {},
   "outputs": [
    {
     "data": {
      "text/plain": [
       "(211, 1, 251)"
      ]
     },
     "execution_count": 47,
     "metadata": {},
     "output_type": "execute_result"
    }
   ],
   "source": [
    "equal, target = load_arrow_head(return_X_y=True)\n",
    "X = nested_to_3d_numpy(equal)\n",
    "X.shape"
   ]
  },
  {
   "cell_type": "code",
   "execution_count": 30,
   "metadata": {},
   "outputs": [
    {
     "name": "stdout",
     "output_type": "stream",
     "text": [
      "52.8 µs ± 161 ns per loop (mean ± std. dev. of 7 runs, 10000 loops each)\n"
     ]
    }
   ],
   "source": [
    "%timeit np.mean(X, axis=-1)"
   ]
  },
  {
   "cell_type": "code",
   "execution_count": 48,
   "metadata": {},
   "outputs": [
    {
     "data": {
      "text/plain": [
       "<Array [[[-1.96, -1.96, ... -1.6, -1.62]]] type='211 * 1 * 251 * float64'>"
      ]
     },
     "execution_count": 48,
     "metadata": {},
     "output_type": "execute_result"
    }
   ],
   "source": [
    "X = ak.Array(X)\n",
    "X"
   ]
  },
  {
   "cell_type": "code",
   "execution_count": 50,
   "metadata": {},
   "outputs": [
    {
     "data": {
      "text/plain": [
       "(251,)"
      ]
     },
     "execution_count": 50,
     "metadata": {},
     "output_type": "execute_result"
    }
   ],
   "source": [
    "X[0, 0].shape"
   ]
  },
  {
   "cell_type": "code",
   "execution_count": 32,
   "metadata": {},
   "outputs": [
    {
     "name": "stdout",
     "output_type": "stream",
     "text": [
      "2.69 ms ± 9.31 µs per loop (mean ± std. dev. of 7 runs, 100 loops each)\n"
     ]
    }
   ],
   "source": [
    "%timeit np.mean(X, axis=-1)"
   ]
  },
  {
   "cell_type": "code",
   "execution_count": 356,
   "metadata": {},
   "outputs": [
    {
     "data": {
      "text/plain": [
       "(211,)"
      ]
     },
     "execution_count": 356,
     "metadata": {},
     "output_type": "execute_result"
    }
   ],
   "source": [
    "X.shape"
   ]
  },
  {
   "cell_type": "code",
   "execution_count": 357,
   "metadata": {},
   "outputs": [
    {
     "data": {
      "text/plain": [
       "<Array [[[-1.96, -1.96, ... -0.903, -0.861]]] type='211 * 1 * 20 * float64'>"
      ]
     },
     "execution_count": 357,
     "metadata": {},
     "output_type": "execute_result"
    }
   ],
   "source": [
    "# temporal slice\n",
    "X[:, :, :20]"
   ]
  },
  {
   "cell_type": "code",
   "execution_count": 358,
   "metadata": {},
   "outputs": [
    {
     "data": {
      "text/plain": [
       "awkward1._ext.NumpyArray"
      ]
     },
     "execution_count": 358,
     "metadata": {},
     "output_type": "execute_result"
    }
   ],
   "source": [
    "layout = X.layout\n",
    "type(layout)"
   ]
  },
  {
   "cell_type": "code",
   "execution_count": 92,
   "metadata": {},
   "outputs": [
    {
     "data": {
      "text/plain": [
       "[211, 1, 251]"
      ]
     },
     "execution_count": 92,
     "metadata": {},
     "output_type": "execute_result"
    }
   ],
   "source": [
    "layout.shape"
   ]
  },
  {
   "cell_type": "code",
   "execution_count": 95,
   "metadata": {},
   "outputs": [
    {
     "data": {
      "text/plain": [
       "{\n",
       "    \"class\": \"NumpyArray\",\n",
       "    \"inner_shape\": [\n",
       "        1,\n",
       "        251\n",
       "    ],\n",
       "    \"itemsize\": 8,\n",
       "    \"format\": \"d\",\n",
       "    \"primitive\": \"float64\"\n",
       "}"
      ]
     },
     "execution_count": 95,
     "metadata": {},
     "output_type": "execute_result"
    }
   ],
   "source": [
    "layout.form"
   ]
  },
  {
   "cell_type": "code",
   "execution_count": 96,
   "metadata": {},
   "outputs": [
    {
     "data": {
      "text/plain": [
       "'d'"
      ]
     },
     "execution_count": 96,
     "metadata": {},
     "output_type": "execute_result"
    }
   ],
   "source": [
    "layout.format"
   ]
  },
  {
   "cell_type": "code",
   "execution_count": 99,
   "metadata": {},
   "outputs": [
    {
     "data": {
      "text/plain": [
       "3"
      ]
     },
     "execution_count": 99,
     "metadata": {},
     "output_type": "execute_result"
    }
   ],
   "source": [
    "layout.ndim"
   ]
  },
  {
   "cell_type": "markdown",
   "metadata": {
    "collapsed": "true"
   },
   "source": [
    "#### Multivariate panel data"
   ]
  },
  {
   "cell_type": "code",
   "execution_count": 20,
   "metadata": {},
   "outputs": [
    {
     "data": {
      "text/plain": [
       "(80, 6, 100)"
      ]
     },
     "execution_count": 20,
     "metadata": {},
     "output_type": "execute_result"
    }
   ],
   "source": [
    "X, target = load_basic_motions(return_X_y=True)\n",
    "X = nested_to_3d_numpy(X)\n",
    "X.shape"
   ]
  },
  {
   "cell_type": "code",
   "execution_count": 516,
   "metadata": {},
   "outputs": [
    {
     "data": {
      "text/plain": [
       "<Array [[[0.0791, 0.0791, ... -0.722, -1.78]]] type='80 * 6 * 100 * float64'>"
      ]
     },
     "execution_count": 516,
     "metadata": {},
     "output_type": "execute_result"
    }
   ],
   "source": [
    "X = ak.Array(X)\n",
    "X"
   ]
  },
  {
   "cell_type": "code",
   "execution_count": 517,
   "metadata": {},
   "outputs": [
    {
     "data": {
      "text/plain": [
       "<Array [[[-0.00799, 0.0186, ... 3.6, 3.6]]] type='15 * 2 * 30 * float64'>"
      ]
     },
     "execution_count": 517,
     "metadata": {},
     "output_type": "execute_result"
    }
   ],
   "source": [
    "X[5:20, 3:5, 45:75]"
   ]
  },
  {
   "cell_type": "markdown",
   "metadata": {
    "collapsed": "true"
   },
   "source": [
    "### Time-heterogeneous panel data"
   ]
  },
  {
   "cell_type": "markdown",
   "metadata": {
    "collapsed": "true"
   },
   "source": [
    "#### Univariate unequal length data"
   ]
  },
  {
   "cell_type": "code",
   "execution_count": 5,
   "metadata": {},
   "outputs": [
    {
     "data": {
      "text/html": [
       "<div>\n",
       "<style scoped>\n",
       "    .dataframe tbody tr th:only-of-type {\n",
       "        vertical-align: middle;\n",
       "    }\n",
       "\n",
       "    .dataframe tbody tr th {\n",
       "        vertical-align: top;\n",
       "    }\n",
       "\n",
       "    .dataframe thead th {\n",
       "        text-align: right;\n",
       "    }\n",
       "</style>\n",
       "<table border=\"1\" class=\"dataframe\">\n",
       "  <thead>\n",
       "    <tr style=\"text-align: right;\">\n",
       "      <th></th>\n",
       "      <th>0</th>\n",
       "    </tr>\n",
       "  </thead>\n",
       "  <tbody>\n",
       "    <tr>\n",
       "      <th>0</th>\n",
       "      <td>0     -1.9630\n",
       "1     -1.9578\n",
       "2     -1.9561\n",
       "3   ...</td>\n",
       "    </tr>\n",
       "    <tr>\n",
       "      <th>1</th>\n",
       "      <td>0     -1.7746\n",
       "1     -1.7740\n",
       "2     -1.7766\n",
       "3   ...</td>\n",
       "    </tr>\n",
       "    <tr>\n",
       "      <th>2</th>\n",
       "      <td>0     -1.8660\n",
       "1     -1.8420\n",
       "2     -1.8350\n",
       "3   ...</td>\n",
       "    </tr>\n",
       "    <tr>\n",
       "      <th>3</th>\n",
       "      <td>0     -2.0738\n",
       "1     -2.0733\n",
       "2     -2.0446\n",
       "3   ...</td>\n",
       "    </tr>\n",
       "    <tr>\n",
       "      <th>4</th>\n",
       "      <td>0     -1.7463\n",
       "1     -1.7413\n",
       "2     -1.7227\n",
       "3   ...</td>\n",
       "    </tr>\n",
       "  </tbody>\n",
       "</table>\n",
       "</div>"
      ],
      "text/plain": [
       "                                                   0\n",
       "0  0     -1.9630\n",
       "1     -1.9578\n",
       "2     -1.9561\n",
       "3   ...\n",
       "1  0     -1.7746\n",
       "1     -1.7740\n",
       "2     -1.7766\n",
       "3   ...\n",
       "2  0     -1.8660\n",
       "1     -1.8420\n",
       "2     -1.8350\n",
       "3   ...\n",
       "3  0     -2.0738\n",
       "1     -2.0733\n",
       "2     -2.0446\n",
       "3   ...\n",
       "4  0     -1.7463\n",
       "1     -1.7413\n",
       "2     -1.7227\n",
       "3   ..."
      ]
     },
     "execution_count": 5,
     "metadata": {},
     "output_type": "execute_result"
    }
   ],
   "source": [
    "X, target = load_arrow_head(return_X_y=True)\n",
    "unequal = X.copy()\n",
    "l = unequal.iloc[:, 0].tolist()\n",
    "l[0] = l[0][:200]\n",
    "unequal = pd.DataFrame(pd.Series([pd.Series(s) for s in l]))\n",
    "assert unequal.iloc[0, 0].shape[0] != unequal.iloc[1, 0].shape[0]\n",
    "unequal.head()"
   ]
  },
  {
   "cell_type": "markdown",
   "metadata": {},
   "source": [
    "* why is the 2nd dimension \"var\" now and not \"1\"? "
   ]
  },
  {
   "cell_type": "code",
   "execution_count": 53,
   "metadata": {},
   "outputs": [
    {
     "data": {
      "text/plain": [
       "<Array [[[-1.96, -1.96, ... -1.6, -1.62]]] type='211 * var * var * float64'>"
      ]
     },
     "execution_count": 53,
     "metadata": {},
     "output_type": "execute_result"
    }
   ],
   "source": [
    "X = ak.Array([[i] for i in unequal.iloc[:, 0].tolist()])\n",
    "X"
   ]
  },
  {
   "cell_type": "code",
   "execution_count": 40,
   "metadata": {},
   "outputs": [
    {
     "data": {
      "text/plain": [
       "True"
      ]
     },
     "execution_count": 40,
     "metadata": {},
     "output_type": "execute_result"
    }
   ],
   "source": [
    "np.all([isinstance(j, list) for j in [[i] for i in unequal.iloc[:, 0].tolist()]])"
   ]
  },
  {
   "cell_type": "code",
   "execution_count": 43,
   "metadata": {},
   "outputs": [
    {
     "data": {
      "text/plain": [
       "(211,)"
      ]
     },
     "execution_count": 43,
     "metadata": {},
     "output_type": "execute_result"
    }
   ],
   "source": [
    "X.shape"
   ]
  },
  {
   "cell_type": "code",
   "execution_count": 44,
   "metadata": {},
   "outputs": [],
   "source": [
    "layout = X.layout"
   ]
  },
  {
   "cell_type": "code",
   "execution_count": 45,
   "metadata": {},
   "outputs": [
    {
     "data": {
      "text/plain": [
       "{\n",
       "    \"class\": \"ListOffsetArray64\",\n",
       "    \"offsets\": \"i64\",\n",
       "    \"content\": {\n",
       "        \"class\": \"ListOffsetArray64\",\n",
       "        \"offsets\": \"i64\",\n",
       "        \"content\": \"float64\"\n",
       "    }\n",
       "}"
      ]
     },
     "execution_count": 45,
     "metadata": {},
     "output_type": "execute_result"
    }
   ],
   "source": [
    "layout.form"
   ]
  },
  {
   "cell_type": "code",
   "execution_count": 46,
   "metadata": {},
   "outputs": [
    {
     "data": {
      "text/plain": [
       "<Index64 i=\"[0 1 2 3 4 ... 207 208 209 210 211]\" offset=\"0\" length=\"212\" at=\"0x7fc2a3d44a00\"/>"
      ]
     },
     "execution_count": 46,
     "metadata": {},
     "output_type": "execute_result"
    }
   ],
   "source": [
    "layout.offsets"
   ]
  },
  {
   "cell_type": "code",
   "execution_count": 47,
   "metadata": {},
   "outputs": [
    {
     "data": {
      "text/plain": [
       "<Array [[[-1.96, -1.96, ... -0.903, -0.861]]] type='211 * var * var * float64'>"
      ]
     },
     "execution_count": 47,
     "metadata": {},
     "output_type": "execute_result"
    }
   ],
   "source": [
    "# temporal slicing\n",
    "X[:, :, :20]"
   ]
  },
  {
   "cell_type": "code",
   "execution_count": 48,
   "metadata": {},
   "outputs": [
    {
     "data": {
      "text/plain": [
       "<Array [-1.96, -1.96, -1.96, ... 1.45, 1.47] type='200 * float64'>"
      ]
     },
     "execution_count": 48,
     "metadata": {},
     "output_type": "execute_result"
    }
   ],
   "source": [
    "X[0, 0, :] # unequal length array"
   ]
  },
  {
   "cell_type": "code",
   "execution_count": 52,
   "metadata": {},
   "outputs": [],
   "source": [
    "np.testing.assert_almost_equal(ak.mean(X, axis=2)[0][0], np.mean(unequal[0][0]))"
   ]
  },
  {
   "cell_type": "code",
   "execution_count": null,
   "metadata": {},
   "outputs": [],
   "source": []
  },
  {
   "cell_type": "markdown",
   "metadata": {
    "collapsed": "true"
   },
   "source": [
    "#### Multivariate unequal-length data"
   ]
  },
  {
   "cell_type": "code",
   "execution_count": 361,
   "metadata": {},
   "outputs": [],
   "source": [
    "X, y = load_basic_motions(return_X_y=True)\n",
    "unequal = X.copy()\n",
    "l = unequal.iloc[:, 1].tolist()\n",
    "l[0] = l[0][:50]\n",
    "unequal.iloc[:, 1] = pd.Series([pd.Series(s) for s in l])"
   ]
  },
  {
   "cell_type": "code",
   "execution_count": 362,
   "metadata": {},
   "outputs": [
    {
     "name": "stdout",
     "output_type": "stream",
     "text": [
      "(50,) (100,)\n"
     ]
    }
   ],
   "source": [
    "print(unequal.iloc[:, 1].iloc[0].shape, unequal.iloc[:, 1].iloc[1].shape)"
   ]
  },
  {
   "cell_type": "code",
   "execution_count": 363,
   "metadata": {},
   "outputs": [],
   "source": [
    "n_instances, n_variables = X.shape\n",
    "il = []\n",
    "\n",
    "for i in range(n_instances):\n",
    "    xl = []\n",
    "    for v in range(n_variables):\n",
    "        # get time series\n",
    "        series = X.iloc[i, v]\n",
    "        \n",
    "        # separate values/index\n",
    "        values = series.to_numpy()\n",
    "        index = series.index.to_numpy()\n",
    "        \n",
    "        x = {\"values\": values, \"index\": index}\n",
    "        xl.append(x)\n",
    "    il.append(xl)\n",
    "arr = ak.Array(il)"
   ]
  },
  {
   "cell_type": "code",
   "execution_count": 366,
   "metadata": {},
   "outputs": [
    {
     "data": {
      "text/plain": [
       "<Array [[[-0.147, -0.147, ... 0.0772, 0.152]]] type='49 * var * var * float64'>"
      ]
     },
     "execution_count": 366,
     "metadata": {},
     "output_type": "execute_result"
    }
   ],
   "source": [
    "arr[1:50, 2:4, :20].values"
   ]
  },
  {
   "cell_type": "markdown",
   "metadata": {
    "collapsed": "true"
   },
   "source": [
    "### Keeping track of the time index: ak.RecordArray"
   ]
  },
  {
   "cell_type": "markdown",
   "metadata": {
    "collapsed": "true"
   },
   "source": [
    "#### Univariate unequal length panel data "
   ]
  },
  {
   "cell_type": "code",
   "execution_count": 6,
   "metadata": {},
   "outputs": [
    {
     "data": {
      "text/html": [
       "<div>\n",
       "<style scoped>\n",
       "    .dataframe tbody tr th:only-of-type {\n",
       "        vertical-align: middle;\n",
       "    }\n",
       "\n",
       "    .dataframe tbody tr th {\n",
       "        vertical-align: top;\n",
       "    }\n",
       "\n",
       "    .dataframe thead th {\n",
       "        text-align: right;\n",
       "    }\n",
       "</style>\n",
       "<table border=\"1\" class=\"dataframe\">\n",
       "  <thead>\n",
       "    <tr style=\"text-align: right;\">\n",
       "      <th></th>\n",
       "      <th>0</th>\n",
       "    </tr>\n",
       "  </thead>\n",
       "  <tbody>\n",
       "    <tr>\n",
       "      <th>0</th>\n",
       "      <td>0     -1.9630\n",
       "1     -1.9578\n",
       "2     -1.9561\n",
       "3   ...</td>\n",
       "    </tr>\n",
       "    <tr>\n",
       "      <th>1</th>\n",
       "      <td>0     -1.7746\n",
       "1     -1.7740\n",
       "2     -1.7766\n",
       "3   ...</td>\n",
       "    </tr>\n",
       "    <tr>\n",
       "      <th>2</th>\n",
       "      <td>0     -1.8660\n",
       "1     -1.8420\n",
       "2     -1.8350\n",
       "3   ...</td>\n",
       "    </tr>\n",
       "    <tr>\n",
       "      <th>3</th>\n",
       "      <td>0     -2.0738\n",
       "1     -2.0733\n",
       "2     -2.0446\n",
       "3   ...</td>\n",
       "    </tr>\n",
       "    <tr>\n",
       "      <th>4</th>\n",
       "      <td>0     -1.7463\n",
       "1     -1.7413\n",
       "2     -1.7227\n",
       "3   ...</td>\n",
       "    </tr>\n",
       "  </tbody>\n",
       "</table>\n",
       "</div>"
      ],
      "text/plain": [
       "                                                   0\n",
       "0  0     -1.9630\n",
       "1     -1.9578\n",
       "2     -1.9561\n",
       "3   ...\n",
       "1  0     -1.7746\n",
       "1     -1.7740\n",
       "2     -1.7766\n",
       "3   ...\n",
       "2  0     -1.8660\n",
       "1     -1.8420\n",
       "2     -1.8350\n",
       "3   ...\n",
       "3  0     -2.0738\n",
       "1     -2.0733\n",
       "2     -2.0446\n",
       "3   ...\n",
       "4  0     -1.7463\n",
       "1     -1.7413\n",
       "2     -1.7227\n",
       "3   ..."
      ]
     },
     "execution_count": 6,
     "metadata": {},
     "output_type": "execute_result"
    }
   ],
   "source": [
    "X = unequal.copy()\n",
    "X.head()"
   ]
  },
  {
   "cell_type": "code",
   "execution_count": 10,
   "metadata": {},
   "outputs": [
    {
     "name": "stdout",
     "output_type": "stream",
     "text": [
      "n_instances:  211 \n",
      "n_variables:  1\n"
     ]
    }
   ],
   "source": [
    "n_instances, n_variables = X.shape\n",
    "print(\"n_instances: \", n_instances, \"\\nn_variables: \", n_variables)\n",
    "instances = []\n",
    "for i in range(n_instances):\n",
    "    instance = []\n",
    "    for v in range(n_variables):\n",
    "        # get time series\n",
    "        series = X.iloc[i, v]\n",
    "        \n",
    "        # separate values/index\n",
    "        values = series.to_numpy()\n",
    "        index = series.index.to_numpy()\n",
    "      \n",
    "        variable = {\"values\": values, \"index\": index}\n",
    "        instance.append(variable)\n",
    "    instances.append(instance)\n",
    "arr = ak.Array(instances)"
   ]
  },
  {
   "cell_type": "code",
   "execution_count": 11,
   "metadata": {},
   "outputs": [
    {
     "data": {
      "text/plain": [
       "<Array [[{values: [-1.96, -1.96, ... 250]}]] type='211 * var * {\"values\": var * ...'>"
      ]
     },
     "execution_count": 11,
     "metadata": {},
     "output_type": "execute_result"
    }
   ],
   "source": [
    "arr"
   ]
  },
  {
   "cell_type": "code",
   "execution_count": 12,
   "metadata": {},
   "outputs": [
    {
     "data": {
      "text/plain": [
       "<ListOffsetArray64>\n",
       "    <offsets><Index64 i=\"[0 1 2 3 4 ... 207 208 209 210 211]\" offset=\"0\" length=\"212\" at=\"0x7f92bc59aa00\"/></offsets>\n",
       "    <content><RecordArray>\n",
       "        <field index=\"0\" key=\"values\">\n",
       "            <ListOffsetArray64>\n",
       "                <offsets><Index64 i=\"[0 200 451 702 953 ... 51906 52157 52408 52659 52910]\" offset=\"0\" length=\"212\" at=\"0x7f92bc59ca00\"/></offsets>\n",
       "                <content><NumpyArray format=\"d\" shape=\"52910\" data=\"-1.963 -1.9578 -1.9561 -1.9383 -1.8967 ... -1.5136 -1.5504 -1.5816 -1.5953 -1.6208\" at=\"0x7f92c39bc000\"/></content>\n",
       "            </ListOffsetArray64>\n",
       "        </field>\n",
       "        <field index=\"1\" key=\"index\">\n",
       "            <ListOffsetArray64>\n",
       "                <offsets><Index64 i=\"[0 200 451 702 953 ... 51906 52157 52408 52659 52910]\" offset=\"0\" length=\"212\" at=\"0x7f92bc5a0a00\"/></offsets>\n",
       "                <content><NumpyArray format=\"l\" shape=\"52910\" data=\"0 1 2 3 4 ... 246 247 248 249 250\" at=\"0x7f92c03c9000\"/></content>\n",
       "            </ListOffsetArray64>\n",
       "        </field>\n",
       "    </RecordArray></content>\n",
       "</ListOffsetArray64>"
      ]
     },
     "execution_count": 12,
     "metadata": {},
     "output_type": "execute_result"
    }
   ],
   "source": [
    "arr.layout"
   ]
  },
  {
   "cell_type": "code",
   "execution_count": 13,
   "metadata": {},
   "outputs": [
    {
     "data": {
      "text/plain": [
       "<Record ... 12, 13, 14, 15, 16, 17, 18, 19]} type='{\"values\": var * float64, \"in...'>"
      ]
     },
     "execution_count": 13,
     "metadata": {},
     "output_type": "execute_result"
    }
   ],
   "source": [
    "# returns series of first 20 observations, incl both values and time index/points\n",
    "arr[0, 0, :20]"
   ]
  },
  {
   "cell_type": "code",
   "execution_count": 14,
   "metadata": {},
   "outputs": [
    {
     "data": {
      "text/plain": [
       "<Array [-1.96, -1.96, ... -0.969, -0.832] type='20 * float64'>"
      ]
     },
     "execution_count": 14,
     "metadata": {},
     "output_type": "execute_result"
    }
   ],
   "source": [
    "# returns values of first 20 time points\n",
    "arr[0, 0, :20, \"values\"]"
   ]
  },
  {
   "cell_type": "code",
   "execution_count": 15,
   "metadata": {},
   "outputs": [
    {
     "data": {
      "text/plain": [
       "<Array [-1.96, -1.96, ... -0.969, -0.832] type='20 * float64'>"
      ]
     },
     "execution_count": 15,
     "metadata": {},
     "output_type": "execute_result"
    }
   ],
   "source": [
    "# works the same\n",
    "arr[0, 0, :20].values"
   ]
  },
  {
   "cell_type": "code",
   "execution_count": 16,
   "metadata": {},
   "outputs": [
    {
     "data": {
      "text/plain": [
       "<Array [0, 1, 2, 3, 4, ... 15, 16, 17, 18, 19] type='20 * int64'>"
      ]
     },
     "execution_count": 16,
     "metadata": {},
     "output_type": "execute_result"
    }
   ],
   "source": [
    "# returns index of first 20 time points\n",
    "arr[0, 0, :20, \"index\"]"
   ]
  },
  {
   "cell_type": "code",
   "execution_count": 17,
   "metadata": {},
   "outputs": [
    {
     "data": {
      "text/plain": [
       "<Array [0, 1, 2, 3, 4, ... 15, 16, 17, 18, 19] type='20 * int64'>"
      ]
     },
     "execution_count": 17,
     "metadata": {},
     "output_type": "execute_result"
    }
   ],
   "source": [
    "# works the same\n",
    "arr[0, 0, :20].index "
   ]
  },
  {
   "cell_type": "code",
   "execution_count": 527,
   "metadata": {},
   "outputs": [
    {
     "data": {
      "text/plain": [
       "Int64Index([0, 1, 2, 3, 4, 5, 6, 7, 8, 9, 10, 11, 12, 13, 14, 15, 16, 17, 18,\n",
       "            19],\n",
       "           dtype='int64')"
      ]
     },
     "execution_count": 527,
     "metadata": {},
     "output_type": "execute_result"
    }
   ],
   "source": [
    "# transform to pd.Index\n",
    "pd.Index(np.array(arr[0, 0, :20].index))"
   ]
  },
  {
   "cell_type": "markdown",
   "metadata": {},
   "source": [
    "* this works, but note that \"index\" and \"values\" are not linked, deleting a value from \"index\" won't delete the corresponding value from \"values\"\n",
    "* can we transform a one-dimensional ak.array to a `pd.Series` or `pd.Index`?"
   ]
  },
  {
   "cell_type": "code",
   "execution_count": 529,
   "metadata": {},
   "outputs": [
    {
     "data": {
      "text/plain": [
       "0    -1.96300\n",
       "1    -1.95780\n",
       "2    -1.95610\n",
       "3    -1.93830\n",
       "4    -1.89670\n",
       "5    -1.86990\n",
       "6    -1.83870\n",
       "7    -1.81230\n",
       "8    -1.73640\n",
       "9    -1.67330\n",
       "10   -1.62310\n",
       "11   -1.58590\n",
       "12   -1.54380\n",
       "13   -1.45680\n",
       "14   -1.37870\n",
       "15   -1.29250\n",
       "16   -1.21700\n",
       "17   -1.10900\n",
       "18   -0.96869\n",
       "19   -0.83160\n",
       "dtype: float64"
      ]
     },
     "execution_count": 529,
     "metadata": {},
     "output_type": "execute_result"
    }
   ],
   "source": [
    "pd.Series(np.array(arr[0, 0, :20].values))"
   ]
  },
  {
   "cell_type": "code",
   "execution_count": 334,
   "metadata": {},
   "outputs": [
    {
     "data": {
      "text/plain": [
       "<ListOffsetArray64>\n",
       "    <offsets><Index64 i=\"[0 1 2 3 4 ... 207 208 209 210 211]\" offset=\"0\" length=\"212\" at=\"0x7fd2623dc200\"/></offsets>\n",
       "    <content><RecordArray>\n",
       "        <field index=\"0\" key=\"values\">\n",
       "            <ListOffsetArray64>\n",
       "                <offsets><Index64 i=\"[0 200 451 702 953 ... 51906 52157 52408 52659 52910]\" offset=\"0\" length=\"212\" at=\"0x7fd2623e0200\"/></offsets>\n",
       "                <content><NumpyArray format=\"d\" shape=\"52910\" data=\"-1.963 -1.9578 -1.9561 -1.9383 -1.8967 ... -1.5136 -1.5504 -1.5816 -1.5953 -1.6208\" at=\"0x7fd2382b5000\"/></content>\n",
       "            </ListOffsetArray64>\n",
       "        </field>\n",
       "        <field index=\"1\" key=\"index\">\n",
       "            <ListOffsetArray64>\n",
       "                <offsets><Index64 i=\"[0 200 451 702 953 ... 51906 52157 52408 52659 52910]\" offset=\"0\" length=\"212\" at=\"0x7fd2623e4200\"/></offsets>\n",
       "                <content><NumpyArray format=\"l\" shape=\"52910\" data=\"0 1 2 3 4 ... 246 247 248 249 250\" at=\"0x7fd238329000\"/></content>\n",
       "            </ListOffsetArray64>\n",
       "        </field>\n",
       "    </RecordArray></content>\n",
       "</ListOffsetArray64>"
      ]
     },
     "execution_count": 334,
     "metadata": {},
     "output_type": "execute_result"
    }
   ],
   "source": [
    "arr.layout"
   ]
  },
  {
   "cell_type": "markdown",
   "metadata": {
    "collapsed": "true"
   },
   "source": [
    "#### Linking index with value\n",
    "* based on conversation with Jim"
   ]
  },
  {
   "cell_type": "code",
   "execution_count": 3,
   "metadata": {},
   "outputs": [],
   "source": [
    "def make_ak_array(Xl, n_instances, n_variables):\n",
    "    assert isinstance(Xl, list)\n",
    "    instances = []\n",
    "    for i in range(n_instances):\n",
    "        instance = []\n",
    "        for v in range(n_variables):\n",
    "            # get time series\n",
    "            series = Xl[i][v]\n",
    "\n",
    "            # separate values/index\n",
    "            values = series.to_numpy()\n",
    "            times = series.index.to_numpy()\n",
    "\n",
    "            variable = [{\"time\": time, \"value\": value} \n",
    "                        for time, value in zip(times, values)]\n",
    "            instance.append(variable)\n",
    "        instances.append(instance)\n",
    "    return ak.Array(instances)"
   ]
  },
  {
   "cell_type": "code",
   "execution_count": 21,
   "metadata": {},
   "outputs": [],
   "source": [
    "def make_heterogeneous_time_ak_array(X):\n",
    "    Xc = X.copy()\n",
    "    n_instances, n_variables = Xc.shape\n",
    "    n_timepoints = Xc.iloc[0, 0].shape[0]\n",
    "    variable_names = list(X.columns)\n",
    "    min_n_timepoints = 10\n",
    "\n",
    "    # convert data into nested list \n",
    "    Xl = []\n",
    "    for i in range(n_instances):\n",
    "        variables = []\n",
    "        for v in range(n_variables):\n",
    "            series = Xc.iloc[i, v]\n",
    "            assert series.shape == (n_timepoints,)\n",
    "            variables.append(series)\n",
    "        Xl.append(variables)\n",
    "    assert len(Xl) == n_instances\n",
    "\n",
    "    # select instances, variables and time points for cutting\n",
    "    instances_to_cut = np.random.choice(np.arange(n_instances), replace=False, \n",
    "                                        size=n_instances)\n",
    "    variables_to_cut = np.random.choice(np.arange(n_variables), replace=False, \n",
    "                                 size=n_variables)\n",
    "    timepoints_to_cut = np.random.randint(min_n_timepoints, n_timepoints, \n",
    "                                         size=(len(instances_to_cut), len(variables_to_cut)))\n",
    "\n",
    "    # cut \n",
    "    for ii, i in enumerate(instances_to_cut):\n",
    "        variables = []\n",
    "        for vv, v in enumerate(variables_to_cut):\n",
    "            timepoint = timepoints_to_cut[ii, vv]\n",
    "            Xl[i][v] = Xl[i][v].iloc[:timepoint]\n",
    "            assert len(Xl[i][v]) == timepoint\n",
    "\n",
    "    # create array\n",
    "    arr = make_ak_array(Xl, n_instances=n_instances, n_variables=n_variables)\n",
    "\n",
    "    # quick check\n",
    "    for ii, i in enumerate(instances_to_cut):\n",
    "        for vv, v in enumerate(variables_to_cut):\n",
    "            assert len(arr[int(i), int(v)]) == timepoints_to_cut[ii, vv]\n",
    "    \n",
    "    return arr"
   ]
  },
  {
   "cell_type": "code",
   "execution_count": 22,
   "metadata": {},
   "outputs": [
    {
     "data": {
      "text/plain": [
       "<Array [[[{time: 0, ... value: 0.959}]]] type='80 * var * var * {\"time\": int64, ...'>"
      ]
     },
     "execution_count": 22,
     "metadata": {},
     "output_type": "execute_result"
    }
   ],
   "source": [
    "X, _ = load_basic_motions(return_X_y=True)\n",
    "arr = make_heterogeneous_time_ak_array(X)\n",
    "arr"
   ]
  },
  {
   "cell_type": "code",
   "execution_count": 24,
   "metadata": {},
   "outputs": [
    {
     "data": {
      "text/plain": [
       "<Array [0.394, 0.394, -3.67, ... 1.96, 1.96] type='10 * float64'>"
      ]
     },
     "execution_count": 24,
     "metadata": {},
     "output_type": "execute_result"
    }
   ],
   "source": [
    "arr[0, 1, :10, \"value\"]"
   ]
  },
  {
   "cell_type": "code",
   "execution_count": 25,
   "metadata": {},
   "outputs": [
    {
     "data": {
      "text/plain": [
       "<Array [0, 1, 2, 3, 4, 5, 6, 7, 8, 9] type='10 * int64'>"
      ]
     },
     "execution_count": 25,
     "metadata": {},
     "output_type": "execute_result"
    }
   ],
   "source": [
    "arr[0, 1, :10, \"time\"]"
   ]
  },
  {
   "cell_type": "code",
   "execution_count": 27,
   "metadata": {},
   "outputs": [
    {
     "data": {
      "text/plain": [
       "<Array [[{time: 0, ... value: 0.238}]] type='5 * var * {\"time\": int64, \"value\": ...'>"
      ]
     },
     "execution_count": 27,
     "metadata": {},
     "output_type": "execute_result"
    }
   ],
   "source": [
    "arr[:5, , :10]"
   ]
  },
  {
   "cell_type": "code",
   "execution_count": null,
   "metadata": {},
   "outputs": [],
   "source": []
  },
  {
   "cell_type": "code",
   "execution_count": 6,
   "metadata": {},
   "outputs": [
    {
     "data": {
      "text/plain": [
       "<ListOffsetArray64>\n",
       "    <offsets><Index64 i=\"[0 6 12 18 24 ... 456 462 468 474 480]\" offset=\"0\" length=\"81\" at=\"0x7fba7c234a00\"/></offsets>\n",
       "    <content><ListOffsetArray64>\n",
       "        <offsets><Index64 i=\"[0 96 146 170 205 ... 25734 25788 25828 25894 25971]\" offset=\"0\" length=\"481\" at=\"0x7fba7c23ba00\"/></offsets>\n",
       "        <content><RecordArray>\n",
       "            <field index=\"0\" key=\"time\">\n",
       "                <NumpyArray format=\"l\" shape=\"25971\" data=\"0 1 2 3 4 ... 72 73 74 75 76\" at=\"0x7fba83767000\"/>\n",
       "            </field>\n",
       "            <field index=\"1\" key=\"value\">\n",
       "                <NumpyArray format=\"d\" shape=\"25971\" data=\"0.079106 0.079106 -0.903497 1.11613 1.6382 ... -1.35299 -1.1346 -1.98155 -1.60601 -6.79426\" at=\"0x7fba8379b000\"/>\n",
       "            </field>\n",
       "        </RecordArray></content>\n",
       "    </ListOffsetArray64></content>\n",
       "</ListOffsetArray64>"
      ]
     },
     "execution_count": 6,
     "metadata": {},
     "output_type": "execute_result"
    }
   ],
   "source": [
    "arr.layout"
   ]
  },
  {
   "cell_type": "code",
   "execution_count": 7,
   "metadata": {},
   "outputs": [
    {
     "data": {
      "text/plain": [
       "<Array [{time: 0, ... value: -0.12}] type='10 * {\"time\": int64, \"value\": float64}'>"
      ]
     },
     "execution_count": 7,
     "metadata": {},
     "output_type": "execute_result"
    }
   ],
   "source": [
    "# multidimensional slicing works\n",
    "arr[0, 0, :10]"
   ]
  },
  {
   "cell_type": "code",
   "execution_count": 8,
   "metadata": {},
   "outputs": [
    {
     "data": {
      "text/plain": [
       "<Array [[0.214, -0.314, ... 0.0746, 0.16]] type='3 * var * float64'>"
      ]
     },
     "execution_count": 8,
     "metadata": {},
     "output_type": "execute_result"
    }
   ],
   "source": [
    "arr[3:6, 2:5, 0, \"value\"]"
   ]
  },
  {
   "cell_type": "code",
   "execution_count": 9,
   "metadata": {},
   "outputs": [
    {
     "data": {
      "text/plain": [
       "<Array [[-0.0812, 0.279, ... -0.364, -0.592]] type='80 * var * ?float64'>"
      ]
     },
     "execution_count": 9,
     "metadata": {},
     "output_type": "execute_result"
    }
   ],
   "source": [
    "# applying functions works\n",
    "ak.mean(arr[\"value\"], axis=-1)"
   ]
  },
  {
   "cell_type": "code",
   "execution_count": 10,
   "metadata": {},
   "outputs": [
    {
     "data": {
      "text/plain": [
       "<Record {time: 0, value: 0.0791} type='{\"time\": int64, \"value\": float64}'>"
      ]
     },
     "execution_count": 10,
     "metadata": {},
     "output_type": "execute_result"
    }
   ],
   "source": [
    "# subsetting based on time index doesn't work directly \n",
    "arr[0, 0, \"time\" == 10]"
   ]
  },
  {
   "cell_type": "code",
   "execution_count": 11,
   "metadata": {},
   "outputs": [
    {
     "data": {
      "text/plain": [
       "<Array [{time: 10, value: 0.667}] type='1 * {\"time\": int64, \"value\": float64}'>"
      ]
     },
     "execution_count": 11,
     "metadata": {},
     "output_type": "execute_result"
    }
   ],
   "source": [
    "# but this works as expected\n",
    "arr[0, 0, arr[0, 0, \"time\"] == 10]"
   ]
  },
  {
   "cell_type": "code",
   "execution_count": 12,
   "metadata": {},
   "outputs": [
    {
     "data": {
      "text/plain": [
       "<Array [{time: 2, ... value: -0.168}] type='75 * {\"time\": int64, \"value\": float64}'>"
      ]
     },
     "execution_count": 12,
     "metadata": {},
     "output_type": "execute_result"
    }
   ],
   "source": [
    "# and this also works for subsetting based on values\n",
    "arr[0, 0, arr[0, 0, \"value\"] < 0]"
   ]
  },
  {
   "cell_type": "code",
   "execution_count": 13,
   "metadata": {},
   "outputs": [
    {
     "data": {
      "text/plain": [
       "array([ 0,  1,  2,  3,  4,  5,  6,  7,  8,  9, 10, 11, 12, 13, 14, 15, 16,\n",
       "       17, 18, 19, 20, 21, 22, 23, 24, 25, 26, 27, 28, 29, 30, 31, 32, 33,\n",
       "       34, 35, 36, 37, 38, 39, 40, 41, 42, 43, 44, 45, 46, 47, 48, 49, 50,\n",
       "       51, 52, 53, 54, 55, 56, 57, 58, 59, 60, 61, 62, 63, 64, 65, 66, 67,\n",
       "       68, 69, 70, 71, 72, 73, 74, 75, 76, 77, 78, 79, 80, 81, 82, 83, 84,\n",
       "       85, 86, 87, 88, 89, 90, 91, 92, 93, 94, 95])"
      ]
     },
     "execution_count": 13,
     "metadata": {},
     "output_type": "execute_result"
    }
   ],
   "source": [
    "ak.to_numpy(arr[0, 0, \"time\"])"
   ]
  },
  {
   "cell_type": "code",
   "execution_count": 20,
   "metadata": {},
   "outputs": [
    {
     "data": {
      "text/plain": [
       "0.079106"
      ]
     },
     "execution_count": 20,
     "metadata": {},
     "output_type": "execute_result"
    }
   ],
   "source": [
    "arr[0, 0, 1, \"value\"]"
   ]
  },
  {
   "cell_type": "code",
   "execution_count": null,
   "metadata": {},
   "outputs": [],
   "source": []
  },
  {
   "cell_type": "code",
   "execution_count": null,
   "metadata": {},
   "outputs": [],
   "source": []
  },
  {
   "cell_type": "markdown",
   "metadata": {
    "collapsed": "true"
   },
   "source": [
    "### Dictionary based transform and histogram data"
   ]
  },
  {
   "cell_type": "code",
   "execution_count": 401,
   "metadata": {},
   "outputs": [],
   "source": [
    "from sktime.transformers.series_as_features.dictionary_based import SAX\n",
    "\n",
    "X, target = load_arrow_head(return_X_y=True)\n",
    "\n",
    "sax = SAX(save_words=True)\n",
    "Xt = sax.fit_transform(X)"
   ]
  },
  {
   "cell_type": "code",
   "execution_count": 402,
   "metadata": {},
   "outputs": [
    {
     "data": {
      "text/plain": [
       "(211, 1)"
      ]
     },
     "execution_count": 402,
     "metadata": {},
     "output_type": "execute_result"
    }
   ],
   "source": [
    "Xt.shape"
   ]
  },
  {
   "cell_type": "code",
   "execution_count": 403,
   "metadata": {},
   "outputs": [
    {
     "name": "stdout",
     "output_type": "stream",
     "text": [
      "1 62\n"
     ]
    }
   ],
   "source": [
    "# check if unequal length\n",
    "for i in range(1, X.shape[0]):\n",
    "    if not len(Xt.iloc[0, 0]) == len(Xt.iloc[i, 0]):\n",
    "        print(i, len(Xt.iloc[i, 0]))\n",
    "        break"
   ]
  },
  {
   "cell_type": "code",
   "execution_count": 404,
   "metadata": {},
   "outputs": [
    {
     "data": {
      "text/html": [
       "<div>\n",
       "<style scoped>\n",
       "    .dataframe tbody tr th:only-of-type {\n",
       "        vertical-align: middle;\n",
       "    }\n",
       "\n",
       "    .dataframe tbody tr th {\n",
       "        vertical-align: top;\n",
       "    }\n",
       "\n",
       "    .dataframe thead th {\n",
       "        text-align: right;\n",
       "    }\n",
       "</style>\n",
       "<table border=\"1\" class=\"dataframe\">\n",
       "  <thead>\n",
       "    <tr style=\"text-align: right;\">\n",
       "      <th></th>\n",
       "      <th>index</th>\n",
       "      <th>counts</th>\n",
       "    </tr>\n",
       "  </thead>\n",
       "  <tbody>\n",
       "    <tr>\n",
       "      <th>0</th>\n",
       "      <td>431</td>\n",
       "      <td>21</td>\n",
       "    </tr>\n",
       "    <tr>\n",
       "      <th>1</th>\n",
       "      <td>1455</td>\n",
       "      <td>32</td>\n",
       "    </tr>\n",
       "    <tr>\n",
       "      <th>2</th>\n",
       "      <td>1471</td>\n",
       "      <td>26</td>\n",
       "    </tr>\n",
       "    <tr>\n",
       "      <th>3</th>\n",
       "      <td>447</td>\n",
       "      <td>6</td>\n",
       "    </tr>\n",
       "    <tr>\n",
       "      <th>4</th>\n",
       "      <td>1727</td>\n",
       "      <td>1</td>\n",
       "    </tr>\n",
       "    <tr>\n",
       "      <th>...</th>\n",
       "      <td>...</td>\n",
       "      <td>...</td>\n",
       "    </tr>\n",
       "    <tr>\n",
       "      <th>57</th>\n",
       "      <td>12180</td>\n",
       "      <td>1</td>\n",
       "    </tr>\n",
       "    <tr>\n",
       "      <th>58</th>\n",
       "      <td>44868</td>\n",
       "      <td>1</td>\n",
       "    </tr>\n",
       "    <tr>\n",
       "      <th>59</th>\n",
       "      <td>64848</td>\n",
       "      <td>1</td>\n",
       "    </tr>\n",
       "    <tr>\n",
       "      <th>60</th>\n",
       "      <td>63824</td>\n",
       "      <td>1</td>\n",
       "    </tr>\n",
       "    <tr>\n",
       "      <th>61</th>\n",
       "      <td>63888</td>\n",
       "      <td>1</td>\n",
       "    </tr>\n",
       "  </tbody>\n",
       "</table>\n",
       "<p>62 rows × 2 columns</p>\n",
       "</div>"
      ],
      "text/plain": [
       "    index  counts\n",
       "0     431      21\n",
       "1    1455      32\n",
       "2    1471      26\n",
       "3     447       6\n",
       "4    1727       1\n",
       "..    ...     ...\n",
       "57  12180       1\n",
       "58  44868       1\n",
       "59  64848       1\n",
       "60  63824       1\n",
       "61  63888       1\n",
       "\n",
       "[62 rows x 2 columns]"
      ]
     },
     "execution_count": 404,
     "metadata": {},
     "output_type": "execute_result"
    }
   ],
   "source": [
    "# print single series\n",
    "a = pd.DataFrame(Xt.iloc[i, 0]).reset_index().rename(columns={0: \"counts\"})\n",
    "a"
   ]
  },
  {
   "cell_type": "code",
   "execution_count": 277,
   "metadata": {},
   "outputs": [
    {
     "name": "stdout",
     "output_type": "stream",
     "text": [
      "index: [431, 1455, 1471] counts: [21, 32, 26]\n"
     ]
    }
   ],
   "source": [
    "ll = [\n",
    "    np.column_stack([\n",
    "    Xt.iloc[i, 0].index.to_numpy(), # index\n",
    "    Xt.iloc[i, 0].to_numpy() # counts\n",
    "    ]).T\n",
    "for i in range(Xt.shape[0])]\n",
    "a = ak.Array(ll)\n",
    "print(\"index:\", a[1, 0, :3], \"counts:\", ak.Array(ll)[1, 1, :3])"
   ]
  },
  {
   "cell_type": "code",
   "execution_count": 276,
   "metadata": {},
   "outputs": [
    {
     "name": "stdout",
     "output_type": "stream",
     "text": [
      "index: [431, 1455, 1471] counts: [21, 32, 26]\n"
     ]
    }
   ],
   "source": [
    "# alternatively\n",
    "ll = [{\n",
    "    \"index\": Xt.iloc[i, 0].index.to_numpy(), # index\n",
    "    \"counts\": Xt.iloc[i, 0].to_numpy() # counts\n",
    "}\n",
    "for i in range(Xt.shape[0])]\n",
    "a = ak.Array(ll)\n",
    "print(\"index:\", a[1, \"index\", :3], \"counts:\", ak.Array(ll)[1, \"counts\", :3])"
   ]
  },
  {
   "cell_type": "code",
   "execution_count": null,
   "metadata": {},
   "outputs": [],
   "source": []
  },
  {
   "cell_type": "code",
   "execution_count": 192,
   "metadata": {},
   "outputs": [
    {
     "data": {
      "text/plain": [
       "<Array [[[3, 25, 19, 14, 10, ... 1, 1, 1, 1]]] type='211 * var * var * int64'>"
      ]
     },
     "execution_count": 192,
     "metadata": {},
     "output_type": "execute_result"
    }
   ],
   "source": [
    "r = ak.Array([[i] for i in Xt.iloc[:, 0].tolist()])\n",
    "r"
   ]
  },
  {
   "cell_type": "code",
   "execution_count": 205,
   "metadata": {},
   "outputs": [
    {
     "data": {
      "text/plain": [
       "<Array [3, 25, 19, 14, 10, ... 1, 1, 2, 1, 1] type='88 * int64'>"
      ]
     },
     "execution_count": 205,
     "metadata": {},
     "output_type": "execute_result"
    }
   ],
   "source": [
    "r[0, 0, :]"
   ]
  },
  {
   "cell_type": "code",
   "execution_count": null,
   "metadata": {},
   "outputs": [],
   "source": []
  },
  {
   "cell_type": "markdown",
   "metadata": {
    "collapsed": "true"
   },
   "source": [
    "### Univariate data (single-instance data)"
   ]
  },
  {
   "cell_type": "code",
   "execution_count": 541,
   "metadata": {},
   "outputs": [
    {
     "data": {
      "text/plain": [
       "DatetimeIndex(['1960-01-31', '1960-02-29', '1960-03-31', '1960-04-30',\n",
       "               '1960-05-31', '1960-06-30', '1960-07-31', '1960-08-31',\n",
       "               '1960-09-30', '1960-10-31',\n",
       "               ...\n",
       "               '1971-03-31', '1971-04-30', '1971-05-31', '1971-06-30',\n",
       "               '1971-07-31', '1971-08-31', '1971-09-30', '1971-10-31',\n",
       "               '1971-11-30', '1971-12-31'],\n",
       "              dtype='datetime64[ns]', length=144, freq='M')"
      ]
     },
     "execution_count": 541,
     "metadata": {},
     "output_type": "execute_result"
    }
   ],
   "source": [
    "from sktime.datasets import load_airline\n",
    "y = load_airline()\n",
    "\n",
    "# date/time index\n",
    "y.index = pd.date_range(start=\"1960\", periods=len(y), freq=\"M\")\n",
    "y.index"
   ]
  },
  {
   "cell_type": "code",
   "execution_count": 542,
   "metadata": {},
   "outputs": [
    {
     "data": {
      "text/plain": [
       "DatetimeIndex(['1960-01-31', '1960-02-29', '1960-03-31', '1960-04-30',\n",
       "               '1960-05-31', '1960-06-30', '1960-07-31', '1960-08-31',\n",
       "               '1960-09-30', '1960-10-31',\n",
       "               ...\n",
       "               '1971-03-31', '1971-04-30', '1971-05-31', '1971-06-30',\n",
       "               '1971-07-31', '1971-08-31', '1971-09-30', '1971-10-31',\n",
       "               '1971-11-30', '1971-12-31'],\n",
       "              dtype='datetime64[ns]', length=144, freq=None)"
      ]
     },
     "execution_count": 542,
     "metadata": {},
     "output_type": "execute_result"
    }
   ],
   "source": [
    "pd.DatetimeIndex(y.index.to_native_types())  # freq is lost, otherwise restores index"
   ]
  },
  {
   "cell_type": "code",
   "execution_count": 543,
   "metadata": {},
   "outputs": [
    {
     "data": {
      "text/plain": [
       "'M'"
      ]
     },
     "execution_count": 543,
     "metadata": {},
     "output_type": "execute_result"
    }
   ],
   "source": [
    "# freq can be inferred automatically in some cases\n",
    "# or we keep track of it somewhere in the estimator\n",
    "pd.infer_freq(y.index.to_native_types())"
   ]
  },
  {
   "cell_type": "code",
   "execution_count": 544,
   "metadata": {},
   "outputs": [
    {
     "data": {
      "text/plain": [
       "(144,)"
      ]
     },
     "execution_count": 544,
     "metadata": {},
     "output_type": "execute_result"
    }
   ],
   "source": [
    "arr = ak.Array(y)\n",
    "arr.shape"
   ]
  },
  {
   "cell_type": "code",
   "execution_count": 545,
   "metadata": {},
   "outputs": [
    {
     "data": {
      "text/plain": [
       "(1,)"
      ]
     },
     "execution_count": 545,
     "metadata": {},
     "output_type": "execute_result"
    }
   ],
   "source": [
    "# uniform representation across learning tasks: [instance, variable, time points, values/index]\n",
    "arr = ak.Array([[{\"values\": y.to_numpy(), \"index\": y.index.to_native_types()}]])\n",
    "arr.shape"
   ]
  },
  {
   "cell_type": "code",
   "execution_count": 546,
   "metadata": {},
   "outputs": [
    {
     "data": {
      "text/plain": [
       "<Array [112, 118, 132, 129, ... 149, 170, 170] type='20 * int64'>"
      ]
     },
     "execution_count": 546,
     "metadata": {},
     "output_type": "execute_result"
    }
   ],
   "source": [
    "arr[0, 0, :20, \"values\"]  # [instance, variable, time points, values/index]"
   ]
  },
  {
   "cell_type": "code",
   "execution_count": 547,
   "metadata": {},
   "outputs": [
    {
     "data": {
      "text/plain": [
       "<Array ['1960-01-31', ... '1961-08-31'] type='20 * string'>"
      ]
     },
     "execution_count": 547,
     "metadata": {},
     "output_type": "execute_result"
    }
   ],
   "source": [
    "arr[0, 0, :20, \"index\"]  # [instance, variable, time points, values/index]"
   ]
  },
  {
   "cell_type": "code",
   "execution_count": 548,
   "metadata": {},
   "outputs": [
    {
     "data": {
      "text/html": [
       "<div>\n",
       "<style scoped>\n",
       "    .dataframe tbody tr th:only-of-type {\n",
       "        vertical-align: middle;\n",
       "    }\n",
       "\n",
       "    .dataframe tbody tr th {\n",
       "        vertical-align: top;\n",
       "    }\n",
       "\n",
       "    .dataframe thead tr th {\n",
       "        text-align: left;\n",
       "    }\n",
       "\n",
       "    .dataframe thead tr:last-of-type th {\n",
       "        text-align: right;\n",
       "    }\n",
       "</style>\n",
       "<table border=\"1\" class=\"dataframe\">\n",
       "  <thead>\n",
       "    <tr>\n",
       "      <th></th>\n",
       "      <th></th>\n",
       "      <th></th>\n",
       "      <th></th>\n",
       "      <th>values</th>\n",
       "      <th>index</th>\n",
       "    </tr>\n",
       "    <tr>\n",
       "      <th>entry</th>\n",
       "      <th>subentry</th>\n",
       "      <th>subsubentry</th>\n",
       "      <th>subsubsubentry</th>\n",
       "      <th></th>\n",
       "      <th></th>\n",
       "    </tr>\n",
       "  </thead>\n",
       "  <tbody>\n",
       "    <tr>\n",
       "      <th rowspan=\"11\" valign=\"top\">0</th>\n",
       "      <th rowspan=\"11\" valign=\"top\">0</th>\n",
       "      <th rowspan=\"5\" valign=\"top\">0</th>\n",
       "      <th>0</th>\n",
       "      <td>112</td>\n",
       "      <td>49</td>\n",
       "    </tr>\n",
       "    <tr>\n",
       "      <th>1</th>\n",
       "      <td>112</td>\n",
       "      <td>57</td>\n",
       "    </tr>\n",
       "    <tr>\n",
       "      <th>2</th>\n",
       "      <td>112</td>\n",
       "      <td>54</td>\n",
       "    </tr>\n",
       "    <tr>\n",
       "      <th>3</th>\n",
       "      <td>112</td>\n",
       "      <td>48</td>\n",
       "    </tr>\n",
       "    <tr>\n",
       "      <th>4</th>\n",
       "      <td>112</td>\n",
       "      <td>45</td>\n",
       "    </tr>\n",
       "    <tr>\n",
       "      <th>...</th>\n",
       "      <th>...</th>\n",
       "      <td>...</td>\n",
       "      <td>...</td>\n",
       "    </tr>\n",
       "    <tr>\n",
       "      <th rowspan=\"5\" valign=\"top\">143</th>\n",
       "      <th>5</th>\n",
       "      <td>432</td>\n",
       "      <td>49</td>\n",
       "    </tr>\n",
       "    <tr>\n",
       "      <th>6</th>\n",
       "      <td>432</td>\n",
       "      <td>50</td>\n",
       "    </tr>\n",
       "    <tr>\n",
       "      <th>7</th>\n",
       "      <td>432</td>\n",
       "      <td>45</td>\n",
       "    </tr>\n",
       "    <tr>\n",
       "      <th>8</th>\n",
       "      <td>432</td>\n",
       "      <td>51</td>\n",
       "    </tr>\n",
       "    <tr>\n",
       "      <th>9</th>\n",
       "      <td>432</td>\n",
       "      <td>49</td>\n",
       "    </tr>\n",
       "  </tbody>\n",
       "</table>\n",
       "<p>1440 rows × 2 columns</p>\n",
       "</div>"
      ],
      "text/plain": [
       "                                          values index\n",
       "entry subentry subsubentry subsubsubentry             \n",
       "0     0        0           0                 112    49\n",
       "                           1                 112    57\n",
       "                           2                 112    54\n",
       "                           3                 112    48\n",
       "                           4                 112    45\n",
       "...                                          ...   ...\n",
       "               143         5                 432    49\n",
       "                           6                 432    50\n",
       "                           7                 432    45\n",
       "                           8                 432    51\n",
       "                           9                 432    49\n",
       "\n",
       "[1440 rows x 2 columns]"
      ]
     },
     "execution_count": 548,
     "metadata": {},
     "output_type": "execute_result"
    }
   ],
   "source": [
    "ak.pandas.df(arr) # returns unexpected result"
   ]
  },
  {
   "cell_type": "code",
   "execution_count": 549,
   "metadata": {},
   "outputs": [
    {
     "data": {
      "text/plain": [
       "(1,)"
      ]
     },
     "execution_count": 549,
     "metadata": {},
     "output_type": "execute_result"
    }
   ],
   "source": [
    "# alternatively, for single-instances settings: [variable, time points, values/index]\n",
    "arr = ak.Array([{\"values\": y.to_numpy(), \"index\": y.index.to_native_types()}])\n",
    "arr.shape"
   ]
  },
  {
   "cell_type": "code",
   "execution_count": 550,
   "metadata": {},
   "outputs": [
    {
     "data": {
      "text/plain": [
       "<Array [112, 118, 132, 129, ... 149, 170, 170] type='20 * int64'>"
      ]
     },
     "execution_count": 550,
     "metadata": {},
     "output_type": "execute_result"
    }
   ],
   "source": [
    "arr[0, :20, \"values\"] # [variable, time points, index/values]"
   ]
  },
  {
   "cell_type": "code",
   "execution_count": 566,
   "metadata": {},
   "outputs": [
    {
     "data": {
      "text/plain": [
       "<Array [204] type='1 * int64'>"
      ]
     },
     "execution_count": 566,
     "metadata": {},
     "output_type": "execute_result"
    }
   ],
   "source": [
    "# index based slicing\n",
    "mask = arr[0, :, \"index\"] == \"1965-01-31\"\n",
    "arr[0, mask, \"values\"]"
   ]
  },
  {
   "cell_type": "markdown",
   "metadata": {},
   "source": [
    "* for one-dimensional representation, if we want to keep track of the index, we cannot use a ak.Array but would have to use ak.Record "
   ]
  },
  {
   "cell_type": "code",
   "execution_count": 505,
   "metadata": {},
   "outputs": [
    {
     "data": {
      "text/plain": [
       "<Array [112, 118, 132, 129, ... 461, 390, 432] type='144 * int64'>"
      ]
     },
     "execution_count": 505,
     "metadata": {},
     "output_type": "execute_result"
    }
   ],
   "source": [
    "# for univariate data we can use ak.Record\n",
    "arr = ak.Record({\"values\": y.to_numpy(), \"index\": y.index.to_native_types()})\n",
    "arr.values"
   ]
  },
  {
   "cell_type": "code",
   "execution_count": 513,
   "metadata": {},
   "outputs": [
    {
     "data": {
      "text/plain": [
       "<Array ['1960-12-31', ... '2103-12-31'] type='144 * string'>"
      ]
     },
     "execution_count": 513,
     "metadata": {},
     "output_type": "execute_result"
    }
   ],
   "source": [
    "arr.index"
   ]
  },
  {
   "cell_type": "code",
   "execution_count": 512,
   "metadata": {},
   "outputs": [
    {
     "data": {
      "text/plain": [
       "1960-12-31    112\n",
       "1961-12-31    118\n",
       "1962-12-31    132\n",
       "1963-12-31    129\n",
       "1964-12-31    121\n",
       "             ... \n",
       "2099-12-31    606\n",
       "2100-12-31    508\n",
       "2101-12-31    461\n",
       "2102-12-31    390\n",
       "2103-12-31    432\n",
       "Length: 144, dtype: int64"
      ]
     },
     "execution_count": 512,
     "metadata": {},
     "output_type": "execute_result"
    }
   ],
   "source": [
    "# or just a series\n",
    "pd.Series(np.array(arr.values), index=pd.DatetimeIndex(np.array(arr.index)))"
   ]
  },
  {
   "cell_type": "markdown",
   "metadata": {},
   "source": [
    "* conversion to pd.DataFrame and pd.Series seems a bit tricky still, with an intermediate step to numpy"
   ]
  },
  {
   "cell_type": "markdown",
   "metadata": {
    "collapsed": "true"
   },
   "source": [
    "## Benchmarking"
   ]
  },
  {
   "cell_type": "code",
   "execution_count": 123,
   "metadata": {},
   "outputs": [],
   "source": [
    "from benchmark import make_ak_array\n",
    "import awkward1 as ak\n",
    "import numpy as np\n",
    "from sklearn.base import clone\n",
    "from sktime.classification.interval_based import TimeSeriesForest\n",
    "from sktime.datasets import load_arrow_head\n",
    "from tsf_awkward import TimeSeriesForestAwkward\n",
    "from sktime.utils.data_container import tabularize"
   ]
  },
  {
   "cell_type": "code",
   "execution_count": 124,
   "metadata": {},
   "outputs": [],
   "source": [
    "X_train, y_train = load_arrow_head(split=\"train\", return_X_y=True)\n",
    "X_test, y_test = load_arrow_head(split=\"test\", return_X_y=True)"
   ]
  },
  {
   "cell_type": "code",
   "execution_count": 118,
   "metadata": {},
   "outputs": [],
   "source": [
    "def slope_np(Y):\n",
    "    x = np.arange(Y.shape[1]) + 1\n",
    "    slope = (np.mean(x * Y, axis=1) - np.mean(x) * np.mean(Y, axis=1)) / ((x * x).mean() - x.mean() ** 2)\n",
    "    return slope\n",
    "\n",
    "X = tabularize(X_train).to_numpy()\n",
    "a = slope_np(X)\n",
    "assert a.shape == (X_train.shape[0],)\n",
    "\n",
    "def slope_ak(Y):\n",
    "    x = np.arange(Y[0].shape[0]) + 1\n",
    "    slope = (np.mean(x * np.array(Y), axis=1) - np.mean(x) * np.mean(Y, axis=1)) / ((x * x).mean() - x.mean() ** 2)\n",
    "    return slope\n",
    "\n",
    "X = make_ak_array(X_train)[:, 0, \"value\"]\n",
    "b = slope_ak(X)\n",
    "assert a.shape == (X_train.shape[0],)\n",
    "\n",
    "np.testing.assert_array_almost_equal(a, b)"
   ]
  },
  {
   "cell_type": "code",
   "execution_count": 119,
   "metadata": {},
   "outputs": [
    {
     "name": "stdout",
     "output_type": "stream",
     "text": [
      "69.8 µs ± 2.3 µs per loop (mean ± std. dev. of 7 runs, 10000 loops each)\n"
     ]
    }
   ],
   "source": [
    "X = tabularize(X_train).to_numpy()\n",
    "%timeit slope_np(X)"
   ]
  },
  {
   "cell_type": "code",
   "execution_count": 120,
   "metadata": {},
   "outputs": [
    {
     "name": "stdout",
     "output_type": "stream",
     "text": [
      "29.8 ms ± 1.61 ms per loop (mean ± std. dev. of 7 runs, 10 loops each)\n"
     ]
    }
   ],
   "source": [
    "X = make_ak_array(X_train)[:, 0, \"value\"]\n",
    "%timeit b = slope_ak(X)"
   ]
  },
  {
   "cell_type": "code",
   "execution_count": 121,
   "metadata": {},
   "outputs": [
    {
     "data": {
      "text/plain": [
       "Timer unit: 1e-06 s\n",
       "\n",
       "Total time: 0.00025 s\n",
       "File: <ipython-input-118-39fb83790250>\n",
       "Function: slope_np at line 1\n",
       "\n",
       "Line #      Hits         Time  Per Hit   % Time  Line Contents\n",
       "==============================================================\n",
       "     1                                           def slope_np(Y):\n",
       "     2         1         17.0     17.0      6.8      x = np.arange(Y.shape[1]) + 1\n",
       "     3         1        232.0    232.0     92.8      slope = (np.mean(x * Y, axis=1) - np.mean(x) * np.mean(Y, axis=1)) / ((x * x).mean() - x.mean() ** 2)\n",
       "     4         1          1.0      1.0      0.4      return slope"
      ]
     },
     "metadata": {},
     "output_type": "display_data"
    }
   ],
   "source": [
    "X = tabularize(X_train).to_numpy()\n",
    "%lprun -f slope_np slope_np(X)"
   ]
  },
  {
   "cell_type": "code",
   "execution_count": 122,
   "metadata": {},
   "outputs": [
    {
     "data": {
      "text/plain": [
       "Timer unit: 1e-06 s\n",
       "\n",
       "Total time: 0.088384 s\n",
       "File: <ipython-input-118-39fb83790250>\n",
       "Function: slope_ak at line 10\n",
       "\n",
       "Line #      Hits         Time  Per Hit   % Time  Line Contents\n",
       "==============================================================\n",
       "    10                                           def slope_ak(Y):\n",
       "    11         1         95.0     95.0      0.1      x = np.arange(Y[0].shape[0]) + 1\n",
       "    12         1      88288.0  88288.0     99.9      slope = (np.mean(x * np.array(Y), axis=1) - np.mean(x) * np.mean(Y, axis=1)) / ((x * x).mean() - x.mean() ** 2)\n",
       "    13         1          1.0      1.0      0.0      return slope"
      ]
     },
     "metadata": {},
     "output_type": "display_data"
    }
   ],
   "source": [
    "X = make_ak_array(X_train)[:, 0, \"value\"]\n",
    "%lprun -f slope_ak slope_ak(X)"
   ]
  },
  {
   "cell_type": "code",
   "execution_count": 100,
   "metadata": {},
   "outputs": [],
   "source": [
    "%load_ext line_profiler"
   ]
  },
  {
   "cell_type": "code",
   "execution_count": 129,
   "metadata": {},
   "outputs": [
    {
     "name": "stdout",
     "output_type": "stream",
     "text": [
      "10.3 µs ± 185 ns per loop (mean ± std. dev. of 7 runs, 100000 loops each)\n",
      "510 µs ± 8.6 µs per loop (mean ± std. dev. of 7 runs, 1000 loops each)\n"
     ]
    }
   ],
   "source": [
    "X = tabularize(X_train).to_numpy()\n",
    "a = X.mean(axis=1)\n",
    "%timeit X.mean(axis=1)\n",
    "\n",
    "X = make_ak_array(X_train)[:, 0, \"value\"]\n",
    "b = ak.mean(X, axis=1)\n",
    "%timeit ak.mean(X, axis=1)\n",
    "np.testing.assert_array_almost_equal(a, b)"
   ]
  },
  {
   "cell_type": "code",
   "execution_count": 130,
   "metadata": {},
   "outputs": [
    {
     "name": "stdout",
     "output_type": "stream",
     "text": [
      "36.9 µs ± 138 ns per loop (mean ± std. dev. of 7 runs, 10000 loops each)\n",
      "2.48 ms ± 7.33 µs per loop (mean ± std. dev. of 7 runs, 100 loops each)\n"
     ]
    }
   ],
   "source": [
    "X = tabularize(X_train).to_numpy()\n",
    "a = np.std(X, axis=1)\n",
    "%timeit np.std(X, axis=1)\n",
    "\n",
    "X = make_ak_array(X_train)[:, 0, \"value\"]\n",
    "b = ak.std(X, axis=1)\n",
    "%timeit ak.std(X, axis=1)\n",
    "np.testing.assert_array_almost_equal(a, b)"
   ]
  },
  {
   "cell_type": "markdown",
   "metadata": {
    "collapsed": "true"
   },
   "source": [
    "## Alternatives"
   ]
  },
  {
   "cell_type": "code",
   "execution_count": 311,
   "metadata": {},
   "outputs": [],
   "source": [
    "arr = ak.Array([\n",
    "     [[{\n",
    "         \"series\": [\n",
    "             {\"time\": t, \"value\": v} for t, v in zip(np.arange(10), np.repeat(1.0, 10))],\n",
    "         \"meta\": \"meta\"\n",
    "     }],   \n",
    "     [{\n",
    "         \"series\": [\n",
    "             {\"time\": t, \"value\": v} for t, v in zip(np.arange(10), np.repeat(2.0, 10))],\n",
    "         \"meta\": \"meta\"\n",
    "     }]], \n",
    "     [[{\n",
    "         \"series\": [\n",
    "             {\"time\": t, \"value\": v} for t, v in zip(np.arange(10), np.repeat(3.0, 10))],\n",
    "         \"meta\": \"meta\"\n",
    "     }],   \n",
    "     [{\n",
    "         \"series\": [\n",
    "             {\"time\": t, \"value\": v} for t, v in zip(np.arange(10), np.repeat(4.0, 10))],\n",
    "         \"meta\": \"meta\"\n",
    "     }]]\n",
    "])"
   ]
  },
  {
   "cell_type": "code",
   "execution_count": 312,
   "metadata": {},
   "outputs": [
    {
     "data": {
      "text/plain": [
       "<Array [[1, 1, 1, 1, 1, 1, 1, 1, 1, 1]] type='1 * var * float64'>"
      ]
     },
     "execution_count": 312,
     "metadata": {},
     "output_type": "execute_result"
    }
   ],
   "source": [
    "arr[0, 0, \"series\", :3, \"value\"]"
   ]
  },
  {
   "cell_type": "code",
   "execution_count": 314,
   "metadata": {},
   "outputs": [
    {
     "data": {
      "text/plain": [
       "'meta'"
      ]
     },
     "execution_count": 314,
     "metadata": {},
     "output_type": "execute_result"
    }
   ],
   "source": [
    "# works, but does not allow to use arbitrary objects because \"meta\" is still stored as an array\n",
    "arr[1, 1, \"meta\", 0]"
   ]
  },
  {
   "cell_type": "code",
   "execution_count": null,
   "metadata": {},
   "outputs": [],
   "source": []
  },
  {
   "cell_type": "code",
   "execution_count": null,
   "metadata": {},
   "outputs": [],
   "source": []
  },
  {
   "cell_type": "code",
   "execution_count": null,
   "metadata": {},
   "outputs": [],
   "source": []
  },
  {
   "cell_type": "code",
   "execution_count": null,
   "metadata": {},
   "outputs": [],
   "source": []
  },
  {
   "cell_type": "code",
   "execution_count": null,
   "metadata": {},
   "outputs": [],
   "source": []
  },
  {
   "cell_type": "code",
   "execution_count": null,
   "metadata": {},
   "outputs": [],
   "source": [
    "\n",
    "\n",
    "\n",
    "\n",
    "array = ak.Array([{\"patient\": \"A\", \"data\": [{\"variable\": \"pressure\", \"series\": [{\"idx\": 0, \"time\": 0.0, \"value\": 22.8}]}, {\"variable\": \"temperature\", \"series\": [{\"idx\": 0, \"time\": 0.0, \"value\": 98.6}]}]}, {\"patient\": \"B\", \"data\": [{\"variable\": \"pressure\", \"series\": [{\"idx\": 0, \"time\": 0.0, \"value\": 22.8}]}, {\"variable\": \"temperature\", \"series\": [{\"idx\": 0, \"time\": 0.0, \"value\": 98.6}]}]}])\n",
    "\n",
    "\n",
    "\n",
    "\n",
    "\n",
    "array = ak.Array([(\"A\", [{\"variable\": \"pressure\", \"series\": [{\"idx\": 0, \"time\": 0.0, \"value\": 22.8}]}, {\"variable\": \"temperature\", \"series\": [{\"idx\": 0, \"time\": 0.0, \"value\": 98.6}]}]), (\"B\", [{\"variable\": \"pressure\", \"series\": [{\"idx\": 0, \"time\": 0.0, \"value\": 22.8}]}, {\"variable\": \"temperature\", \"series\": [{\"idx\": 0, \"time\": 0.0, \"value\": 98.6}]}])])\n",
    "\n",
    "\n",
    "array[:, \"1\", \"series\", :, 0].tolist()\n",
    "[[{'idx': 0, 'time': 0.0, 'value': 22.8}, {'idx': 0, 'time': 0.0, 'value': 98.6}], [{'idx': 0, 'time': 0.0, 'value': 22.8}, {'idx': 0, 'time': 0.0, 'value': 98.6}]]\n",
    "array.slot1[:, \"series\", :, 0].tolist()\n",
    "[[{'idx': 0, 'time': 0.0, 'value': 22.8}, {'idx': 0, 'time': 0.0, 'value': 98.6}], [{'idx': 0, 'time': 0.0, 'value': 22.8}, {'idx': 0, 'time': 0.0, 'value': 98.6}]]\n",
    "array.slot0\n",
    "<Array ['A', 'B'] type='2 * string'>\n",
    "\n",
    "\n",
    "array = ak.Array([{\"patient\": \"A\", \"data\": [{\"variable\": \"pressure\", \"series\": [{\"idx\": 0, \"time\": 0.0, \"value\": 22.8}]}, {\"variable\": \"temperature\", \"series\": [{\"idx\": 0, \"time\": 0.0, \"value\": 98.6}]}]}, {\"patient\": \"B\", \"data\": [{\"variable\": \"pressure\", \"series\": [{\"idx\": 0, \"time\": 0.0, \"value\": 22.8}]}, {\"variable\": \"temperature\", \"series\": [{\"idx\": 0, \"time\": 0.0, \"value\": 98.6}]}]}])\n",
    "\n",
    "\n",
    "\n",
    "array[:, \"data\", 0]\n",
    "<Array [{variable: 'pressure', ... ] type='2 * {\"variable\": string, \"series\": va...'>\n",
    "array[:, \"data\", 0].tolist()\n",
    "[{'variable': 'pressure', 'series': [{'idx': 0, 'time': 0.0, 'value': 22.8}]}, {'variable': 'pressure', 'series': [{'idx': 0, 'time': 0.0, 'value': 22.8}]}]\n",
    "array[:, \"data\", 0, \"series\", \"value\"].tolist()\n",
    "[[22.8], [22.8]]\n",
    "ak.mean(array[:, \"data\", 0, \"series\", \"value\"])\n",
    "22.8\n",
    "ak.mean(array[:, \"data\", 0, \"series\", \"value\"], axis=None)\n",
    "22.8\n",
    "ak.mean(array[:, \"data\", 0, \"series\", \"value\"], axis=-1)\n",
    "<Array [22.8, 22.8] type='2 * ?float64'>\n"
   ]
  }
 ],
 "metadata": {
  "kernelspec": {
   "display_name": "Python 3",
   "language": "python",
   "name": "python3"
  },
  "language_info": {
   "codemirror_mode": {
    "name": "ipython",
    "version": 3
   },
   "file_extension": ".py",
   "mimetype": "text/x-python",
   "name": "python",
   "nbconvert_exporter": "python",
   "pygments_lexer": "ipython3",
   "version": "3.7.8"
  }
 },
 "nbformat": 4,
 "nbformat_minor": 4
}
