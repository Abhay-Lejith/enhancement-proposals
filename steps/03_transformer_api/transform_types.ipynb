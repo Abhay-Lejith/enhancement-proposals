{
 "cells": [
  {
   "cell_type": "markdown",
   "metadata": {},
   "source": [
    "# Typing time series transformations\n",
    "\n",
    "## Problem statement\n",
    "Time series data comes in many different forms: univariate or multivariate, a single instances or multiple instances. \n",
    "\n",
    "Correspondingly, there are many different forms of transformations that can be applied to time series data. \n",
    "\n",
    "This is an attempt to organise these transformations into categories with common APIs.\n",
    "\n",
    "1. Find a taxonomy of time series transformations using scientific types based on input and output types\n",
    "2. Develop transformer class structure/hierarchies in Python based on scitype taxonomy"
   ]
  },
  {
   "cell_type": "code",
   "execution_count": 1,
   "metadata": {},
   "outputs": [],
   "source": [
    "from sktime.forecasting.all import *\n",
    "from sktime.forecasting.model_selection import temporal_train_test_split\n",
    "from sklearn.preprocessing import FunctionTransformer\n",
    "from sklearn.base import BaseEstimator\n",
    "import typing\n",
    "from typing import Union, NewType\n",
    "import pandas as pd\n",
    "import numpy as np"
   ]
  },
  {
   "cell_type": "markdown",
   "metadata": {},
   "source": [
    "## Data types\n",
    "\n",
    "### Primitives\n",
    "* single or multiple primitives\n",
    "* primitive types or 1d array "
   ]
  },
  {
   "cell_type": "code",
   "execution_count": 2,
   "metadata": {},
   "outputs": [],
   "source": [
    "# single or mulitple primitives\n",
    "Primitive = Union[np.integer, int, np.float, float, str]\n",
    "Primitives = np.ndarray"
   ]
  },
  {
   "cell_type": "markdown",
   "metadata": {},
   "source": [
    "### Tabular\n",
    "* scikit-learn-like data\n",
    "* 2d arrays: rows represent instances, columns represent variables/features, cells contain Primitives"
   ]
  },
  {
   "cell_type": "code",
   "execution_count": 3,
   "metadata": {},
   "outputs": [],
   "source": [
    "Tabular = Union[pd.DataFrame, np.ndarray]  # 2d arrays"
   ]
  },
  {
   "cell_type": "markdown",
   "metadata": {},
   "source": [
    "### Series\n",
    "* univariate or multivariate\n",
    "* 1d or 2d arrays: rows represent time points, columns represent variables, cells represent observations\n",
    "* observations are Primitives\n",
    "* observations are ordered (usually in time)"
   ]
  },
  {
   "cell_type": "code",
   "execution_count": 4,
   "metadata": {},
   "outputs": [],
   "source": [
    "# univariate or multivariate\n",
    "UnivariateSeries = Union[pd.Series, np.ndarray]\n",
    "MultivariateSeries = Union[pd.DataFrame, np.ndarray]\n",
    "Series = Union[UnivariateSeries, MultivariateSeries]"
   ]
  },
  {
   "cell_type": "code",
   "execution_count": 5,
   "metadata": {},
   "outputs": [],
   "source": [
    "def make_series(n_timepoints=10, n_variables=1):\n",
    "    assert n_timepoints > 1\n",
    "    assert n_variables > 0\n",
    "    index = pd.date_range(\"2020-01-01\", periods=n_timepoints, freq=\"D\")\n",
    "    if n_variables == 1:\n",
    "        return pd.Series(np.random.lognormal(size=n_timepoints), index=index, name=\"Data\")\n",
    "    else:\n",
    "        return pd.DataFrame(np.random.lognormal(size=(n_timepoints, n_variables)), index=index)"
   ]
  },
  {
   "cell_type": "code",
   "execution_count": 6,
   "metadata": {},
   "outputs": [],
   "source": [
    "y = make_series(n_timepoints=10)\n",
    "Y  = make_series(n_timepoints=10, n_variables=3)\n",
    "y_train, y_test = temporal_train_test_split(make_series(n_timepoints=20))"
   ]
  },
  {
   "cell_type": "markdown",
   "metadata": {},
   "source": [
    "### Series-as-features\n",
    "* panel/longitudinal data with multiple instances of univariate/multivariate Series (and potentially Primitives)\n",
    "* nested/3d arrays, potentially also awkward array: rows represent instances, columns represent variables/features, 3rd dimension represents time points"
   ]
  },
  {
   "cell_type": "code",
   "execution_count": 7,
   "metadata": {},
   "outputs": [],
   "source": [
    "SeriesAsFeatures = Union[pd.DataFrame, np.ndarray]"
   ]
  },
  {
   "cell_type": "markdown",
   "metadata": {},
   "source": [
    "## Transformation types\n",
    "\n",
    "### 1. Series -> Primitives\n",
    "* encapsulated in functions - not classes - because not fittable, so no parameters have to be stored (not stateful)\n",
    "* may have tuneable arguments (e.g. which quantile to extract), which can be exposed in comopsitions via FunctionTransformer\n",
    "* optionally, wrapped in classes for convenience\n",
    "\n",
    "#### Examples:\n",
    "* mean\n",
    "* quantile"
   ]
  },
  {
   "cell_type": "code",
   "execution_count": 8,
   "metadata": {},
   "outputs": [],
   "source": [
    "def series_to_primitive(x: Series, **kwargs) -> Primitives:\n",
    "    # non-fittable\n",
    "    pass"
   ]
  },
  {
   "cell_type": "code",
   "execution_count": 9,
   "metadata": {},
   "outputs": [],
   "source": [
    "# example\n",
    "def quantile(x, q=0.5):\n",
    "    # non-fittable\n",
    "    return np.quantile(x, q, axis=0)"
   ]
  },
  {
   "cell_type": "code",
   "execution_count": 10,
   "metadata": {},
   "outputs": [
    {
     "data": {
      "text/plain": [
       "0.7227260461650926"
      ]
     },
     "execution_count": 10,
     "metadata": {},
     "output_type": "execute_result"
    }
   ],
   "source": [
    "quantile(y)"
   ]
  },
  {
   "cell_type": "code",
   "execution_count": 11,
   "metadata": {},
   "outputs": [
    {
     "data": {
      "text/plain": [
       "array([0.8209263 , 0.89320774, 1.9748594 ])"
      ]
     },
     "execution_count": 11,
     "metadata": {},
     "output_type": "execute_result"
    }
   ],
   "source": [
    "quantile(Y)"
   ]
  },
  {
   "cell_type": "code",
   "execution_count": 12,
   "metadata": {},
   "outputs": [
    {
     "data": {
      "text/plain": [
       "0.7227260461650926"
      ]
     },
     "execution_count": 12,
     "metadata": {},
     "output_type": "execute_result"
    }
   ],
   "source": [
    "# turn functions into classes for model composition \n",
    "from sklearn.preprocessing import FunctionTransformer\n",
    "transformer = FunctionTransformer(quantile)\n",
    "transformer.fit_transform(y)"
   ]
  },
  {
   "cell_type": "markdown",
   "metadata": {},
   "source": [
    "#### Aside: Callable transformers\n",
    "Optionally, we can create callable transformers, but not sure if they add much. "
   ]
  },
  {
   "cell_type": "code",
   "execution_count": 13,
   "metadata": {},
   "outputs": [],
   "source": [
    "# alternatively, base class with __call__\n",
    "class _SeriesToPrimitivesTransformer(BaseEstimator):\n",
    "    \n",
    "    def __init__(self, **kwargs):\n",
    "        self.func = None\n",
    "        self.kwargs = kwargs\n",
    "        self._fixed_kwargs = None\n",
    "    \n",
    "    def __call__(self, X: Series, q=0.5) -> Primitives:\n",
    "        # call function with kwargs\n",
    "        # ignore kwargs passed to __init__\n",
    "        return self.func(X, q, **self._fixed_kwargs)\n",
    "    \n",
    "    def fit(self, X: Series, y=None):\n",
    "        # empty fit\n",
    "        return self\n",
    "    \n",
    "    def transform(self, X: Series, y=None) -> Primitives:\n",
    "        return self.func(X, **self.kwargs)\n",
    "    \n",
    "    def fit_transform(self, X: Series, y=None) -> Primitives:\n",
    "        return self.fit(X, y).transform(X, y)\n",
    "    \n",
    "    def inverse_transform(self, X: Series, y=None) -> Primitives:\n",
    "        # any examples of inverse transform? \n",
    "        # all series -> primitive transforms seem lossy \n",
    "        raise NotImplementedError(\"abstract method\")"
   ]
  },
  {
   "cell_type": "code",
   "execution_count": 14,
   "metadata": {},
   "outputs": [],
   "source": [
    "# example\n",
    "class QuantileTransformer(_SeriesToPrimitivesTransformer):\n",
    "    \n",
    "    def __init__(self, q=0.5):\n",
    "        self.q = q\n",
    "        self._fixed_kwargs = {\"axis\": 0}\n",
    "        self.func = np.quantile\n",
    "        \n",
    "    def transform(self, X, y=None):\n",
    "        return self.func(X, self.q, **self._fixed_kwargs)\n",
    "    \n",
    "    def fit_transform(self, X: Series, y=None) -> Primitives:\n",
    "        return self.fit(X, y).transform(X, y)"
   ]
  },
  {
   "cell_type": "code",
   "execution_count": 15,
   "metadata": {},
   "outputs": [
    {
     "data": {
      "text/plain": [
       "0.4055988469076195"
      ]
     },
     "execution_count": 15,
     "metadata": {},
     "output_type": "execute_result"
    }
   ],
   "source": [
    "# call, but not too useful, since we still have to instantiate the class\n",
    "transformer = QuantileTransformer()\n",
    "transformer(y, q=0.25)"
   ]
  },
  {
   "cell_type": "code",
   "execution_count": 16,
   "metadata": {},
   "outputs": [
    {
     "data": {
      "text/plain": [
       "0.4055988469076195"
      ]
     },
     "execution_count": 16,
     "metadata": {},
     "output_type": "execute_result"
    }
   ],
   "source": [
    "transformer = QuantileTransformer(q=0.25)\n",
    "transformer.fit_transform(y)"
   ]
  },
  {
   "cell_type": "markdown",
   "metadata": {},
   "source": [
    "### 2. Series -> Series\n",
    "* may be fittable (e.g. extract AR coefficients from series)\n",
    "* if not fittable, encapsulated as functions, composable via FunctionTransformer, optionally wrapped in classes for convenience\n",
    "* if fittable, encapsulated in classes\n",
    "* input and output of transform may have different number of time points and different index\n",
    "* input and output may have different domain (no longer on the same time line)\n",
    "* in a forecasting pipeline, fit_transform is called before call fit of the final forecaster, and inverse_transform is called after calling predict of the final forecaster\n",
    "\n",
    "#### Examples\n",
    "* Box-Cox transform\n",
    "* logarithm\n",
    "* smoothing, filters\n",
    "* detrender\n",
    "* deseasonalisation \n",
    "* Change point annotator (e.g. returns sequence of change point waiting times)\n",
    "* Adding holiday dummies \n",
    "* Adding Fourier terms"
   ]
  },
  {
   "cell_type": "code",
   "execution_count": 17,
   "metadata": {},
   "outputs": [],
   "source": [
    "def series_to_series(x: Series, **kwargs) -> Series:\n",
    "    # non-fittable\n",
    "    pass"
   ]
  },
  {
   "cell_type": "code",
   "execution_count": 18,
   "metadata": {},
   "outputs": [],
   "source": [
    "def fourier_transform(x): \n",
    "    return np.fft.fft(x, axis=0)"
   ]
  },
  {
   "cell_type": "code",
   "execution_count": 19,
   "metadata": {},
   "outputs": [
    {
     "data": {
      "text/plain": [
       "(10,)"
      ]
     },
     "execution_count": 19,
     "metadata": {},
     "output_type": "execute_result"
    }
   ],
   "source": [
    "fourier_transform(y).shape"
   ]
  },
  {
   "cell_type": "code",
   "execution_count": 20,
   "metadata": {},
   "outputs": [
    {
     "data": {
      "text/plain": [
       "(10, 3)"
      ]
     },
     "execution_count": 20,
     "metadata": {},
     "output_type": "execute_result"
    }
   ],
   "source": [
    "fourier_transform(Y).shape"
   ]
  },
  {
   "cell_type": "code",
   "execution_count": 21,
   "metadata": {},
   "outputs": [
    {
     "data": {
      "text/plain": [
       "(10,)"
      ]
     },
     "execution_count": 21,
     "metadata": {},
     "output_type": "execute_result"
    }
   ],
   "source": [
    "# scikit-learn FunctionTransformer\n",
    "transformer = FunctionTransformer(fourier_transform)\n",
    "transformer.fit_transform(y).shape"
   ]
  },
  {
   "cell_type": "code",
   "execution_count": 22,
   "metadata": {},
   "outputs": [],
   "source": [
    "# bespoke class implementations\n",
    "class _SeriesToSeriesTransformer(BaseEstimator):\n",
    "    \n",
    "    def fit(self, X: Series, y=None):\n",
    "        # empty fit by default, but some series-to-series transformers \n",
    "        # are fittable (detrender)\n",
    "        return self\n",
    "    \n",
    "    def transform(self, X: Series, y=None) -> Series:\n",
    "        raise NotImplementedError(\"abstract method\")\n",
    "        \n",
    "    def inverse_transform(self, X: Series, y=None) -> Series:\n",
    "        raise NotImplementedError(\"abstract method\")\n",
    "    \n",
    "    def fit_transform(self, X: Series, y=None) -> Series:\n",
    "        return self.fit(X, y).transform(X, y)"
   ]
  },
  {
   "cell_type": "code",
   "execution_count": 23,
   "metadata": {},
   "outputs": [],
   "source": [
    "# example\n",
    "class LogTransformer(_SeriesToSeriesTransformer):\n",
    "    \n",
    "    def transform(self, X, y=None):\n",
    "        return np.log(X)\n",
    "    \n",
    "    def inverse_transform(self, X, y=None):\n",
    "        return np.exp(X)"
   ]
  },
  {
   "cell_type": "code",
   "execution_count": 24,
   "metadata": {},
   "outputs": [
    {
     "data": {
      "text/html": [
       "<div>\n",
       "<style scoped>\n",
       "    .dataframe tbody tr th:only-of-type {\n",
       "        vertical-align: middle;\n",
       "    }\n",
       "\n",
       "    .dataframe tbody tr th {\n",
       "        vertical-align: top;\n",
       "    }\n",
       "\n",
       "    .dataframe thead th {\n",
       "        text-align: right;\n",
       "    }\n",
       "</style>\n",
       "<table border=\"1\" class=\"dataframe\">\n",
       "  <thead>\n",
       "    <tr style=\"text-align: right;\">\n",
       "      <th></th>\n",
       "      <th>0</th>\n",
       "      <th>1</th>\n",
       "      <th>2</th>\n",
       "    </tr>\n",
       "  </thead>\n",
       "  <tbody>\n",
       "    <tr>\n",
       "      <th>2020-01-01</th>\n",
       "      <td>-0.515835</td>\n",
       "      <td>0.372193</td>\n",
       "      <td>0.112130</td>\n",
       "    </tr>\n",
       "    <tr>\n",
       "      <th>2020-01-02</th>\n",
       "      <td>3.095066</td>\n",
       "      <td>-0.289596</td>\n",
       "      <td>0.809287</td>\n",
       "    </tr>\n",
       "    <tr>\n",
       "      <th>2020-01-03</th>\n",
       "      <td>-1.208329</td>\n",
       "      <td>-0.256039</td>\n",
       "      <td>0.950091</td>\n",
       "    </tr>\n",
       "    <tr>\n",
       "      <th>2020-01-04</th>\n",
       "      <td>2.042524</td>\n",
       "      <td>0.602140</td>\n",
       "      <td>-2.330337</td>\n",
       "    </tr>\n",
       "    <tr>\n",
       "      <th>2020-01-05</th>\n",
       "      <td>-0.122535</td>\n",
       "      <td>0.321508</td>\n",
       "      <td>-0.256482</td>\n",
       "    </tr>\n",
       "    <tr>\n",
       "      <th>2020-01-06</th>\n",
       "      <td>-0.096535</td>\n",
       "      <td>0.990142</td>\n",
       "      <td>0.698641</td>\n",
       "    </tr>\n",
       "    <tr>\n",
       "      <th>2020-01-07</th>\n",
       "      <td>-1.345440</td>\n",
       "      <td>0.012229</td>\n",
       "      <td>0.662018</td>\n",
       "    </tr>\n",
       "    <tr>\n",
       "      <th>2020-01-08</th>\n",
       "      <td>-1.484844</td>\n",
       "      <td>-0.621910</td>\n",
       "      <td>1.274051</td>\n",
       "    </tr>\n",
       "    <tr>\n",
       "      <th>2020-01-09</th>\n",
       "      <td>-0.235011</td>\n",
       "      <td>-0.462800</td>\n",
       "      <td>1.020862</td>\n",
       "    </tr>\n",
       "    <tr>\n",
       "      <th>2020-01-10</th>\n",
       "      <td>-0.161002</td>\n",
       "      <td>-0.879149</td>\n",
       "      <td>-0.091590</td>\n",
       "    </tr>\n",
       "  </tbody>\n",
       "</table>\n",
       "</div>"
      ],
      "text/plain": [
       "                   0         1         2\n",
       "2020-01-01 -0.515835  0.372193  0.112130\n",
       "2020-01-02  3.095066 -0.289596  0.809287\n",
       "2020-01-03 -1.208329 -0.256039  0.950091\n",
       "2020-01-04  2.042524  0.602140 -2.330337\n",
       "2020-01-05 -0.122535  0.321508 -0.256482\n",
       "2020-01-06 -0.096535  0.990142  0.698641\n",
       "2020-01-07 -1.345440  0.012229  0.662018\n",
       "2020-01-08 -1.484844 -0.621910  1.274051\n",
       "2020-01-09 -0.235011 -0.462800  1.020862\n",
       "2020-01-10 -0.161002 -0.879149 -0.091590"
      ]
     },
     "execution_count": 24,
     "metadata": {},
     "output_type": "execute_result"
    }
   ],
   "source": [
    "transformer = LogTransformer()\n",
    "transformer.fit_transform(Y)"
   ]
  },
  {
   "cell_type": "markdown",
   "metadata": {},
   "source": [
    "### Special case: Featurizer\n",
    "In a forecasting pipeline, fit_transform is called before calling fit of the final forecaster and transform is called *before* calling predict of the final forecaster. So, Featurizers need to be aware of the forecasting horizon and need to be able to return transformed data even when y (forecasted values) are not available yet.\n",
    "\n",
    "#### Option 1: Keep transformer API but change inner workings"
   ]
  },
  {
   "cell_type": "code",
   "execution_count": 25,
   "metadata": {},
   "outputs": [],
   "source": [
    "# examples\n",
    "from pmdarima.preprocessing.exog.fourier import _fourier_terms\n",
    "\n",
    "def _get_index(X=None, y=None):\n",
    "        assert X is not None or y is not None\n",
    "        if X is None:\n",
    "            return y.index\n",
    "        else:\n",
    "            return X.index\n",
    "\n",
    "class HolidayFeaturizer(_SeriesToSeriesTransformer):\n",
    "    \n",
    "    def __init__(self, calendar=None):\n",
    "        self.calendar = calendar\n",
    "    \n",
    "    def transform(self, X, y=None):\n",
    "        index = _get_index(X, y)\n",
    "        start, end = index[0], index[-1]\n",
    "        holidays = self.calendar.holidays(start, end, return_name=True)\n",
    "        if holidays.empty:\n",
    "            return X\n",
    "        \n",
    "        Xt = pd.get_dummies(holidays.reindex(index))\n",
    "        return pd.concat([X, Xt], axis=1)\n",
    "    \n",
    "class FourierFeaturizer(_SeriesToSeriesTransformer):\n",
    "    \n",
    "    def __init__(self, sp=None, k=None):\n",
    "        self.sp = sp\n",
    "        self.k = k\n",
    "        \n",
    "    def fit(self, X, y=None):\n",
    "        index = _get_index(X, y)\n",
    "        assert self.sp is not None\n",
    "        if self.k is None:\n",
    "            k = self.sp // 2\n",
    "        else:\n",
    "            k = self.k\n",
    "            \n",
    "        if 2 * k > self.sp or k < 1:\n",
    "            raise ValueError(\"k must be a positive integer not greater \"\n",
    "                             \"than sp//2\")\n",
    "\n",
    "        # Compute the periods of all Fourier terms. Since R allows multiple\n",
    "        # seasonality and we do not, we can do this much more simply.\n",
    "        p = ((np.arange(k) + 1) / self.sp).astype(np.float64)  # 1:K / m\n",
    "\n",
    "        # If sinpi is 0... maybe blow up?\n",
    "        # if abs(2 * p - round(2 * p)) < np.finfo(y.dtype).eps:  # min eps\n",
    "\n",
    "        self.p_ = p\n",
    "        self.k_ = k\n",
    "        self.n_ = index.shape[0]\n",
    "        self._start = index[0]\n",
    "        self._cutoff = index[-1]\n",
    "        return self\n",
    "    \n",
    "    def transform(self, X, y=None):\n",
    "        index = _get_index(X, y)\n",
    "        # extrapolate fourier terms \n",
    "        fh = ForecastingHorizon(index, is_relative=False)\n",
    "        start = self._start\n",
    "        cutoff = self._cutoff\n",
    "        times = fh.to_absolute_int(start, cutoff).to_numpy(dtype=np.float64) + 1\n",
    "        Xt = pd.DataFrame(_fourier_terms(self.p_, times), index=index)\n",
    "        return pd.concat([X, Xt], axis=1)"
   ]
  },
  {
   "cell_type": "code",
   "execution_count": 26,
   "metadata": {},
   "outputs": [
    {
     "data": {
      "text/html": [
       "<div>\n",
       "<style scoped>\n",
       "    .dataframe tbody tr th:only-of-type {\n",
       "        vertical-align: middle;\n",
       "    }\n",
       "\n",
       "    .dataframe tbody tr th {\n",
       "        vertical-align: top;\n",
       "    }\n",
       "\n",
       "    .dataframe thead th {\n",
       "        text-align: right;\n",
       "    }\n",
       "</style>\n",
       "<table border=\"1\" class=\"dataframe\">\n",
       "  <thead>\n",
       "    <tr style=\"text-align: right;\">\n",
       "      <th></th>\n",
       "      <th>Martin Luther King Jr. Day</th>\n",
       "      <th>New Years Day</th>\n",
       "      <th>Presidents Day</th>\n",
       "    </tr>\n",
       "  </thead>\n",
       "  <tbody>\n",
       "    <tr>\n",
       "      <th>2020-01-01</th>\n",
       "      <td>0</td>\n",
       "      <td>1</td>\n",
       "      <td>0</td>\n",
       "    </tr>\n",
       "    <tr>\n",
       "      <th>2020-01-02</th>\n",
       "      <td>0</td>\n",
       "      <td>0</td>\n",
       "      <td>0</td>\n",
       "    </tr>\n",
       "    <tr>\n",
       "      <th>2020-01-03</th>\n",
       "      <td>0</td>\n",
       "      <td>0</td>\n",
       "      <td>0</td>\n",
       "    </tr>\n",
       "  </tbody>\n",
       "</table>\n",
       "</div>"
      ],
      "text/plain": [
       "            Martin Luther King Jr. Day  New Years Day  Presidents Day\n",
       "2020-01-01                           0              1               0\n",
       "2020-01-02                           0              0               0\n",
       "2020-01-03                           0              0               0"
      ]
     },
     "execution_count": 26,
     "metadata": {},
     "output_type": "execute_result"
    }
   ],
   "source": [
    "# fitting \n",
    "from pandas.tseries.holiday import USFederalHolidayCalendar\n",
    "y_train = make_series(100)\n",
    "transformer = HolidayFeaturizer(calendar=USFederalHolidayCalendar())\n",
    "transformer.fit_transform(None, y_train).head(3)"
   ]
  },
  {
   "cell_type": "code",
   "execution_count": 27,
   "metadata": {},
   "outputs": [
    {
     "data": {
      "text/html": [
       "<div>\n",
       "<style scoped>\n",
       "    .dataframe tbody tr th:only-of-type {\n",
       "        vertical-align: middle;\n",
       "    }\n",
       "\n",
       "    .dataframe tbody tr th {\n",
       "        vertical-align: top;\n",
       "    }\n",
       "\n",
       "    .dataframe thead th {\n",
       "        text-align: right;\n",
       "    }\n",
       "</style>\n",
       "<table border=\"1\" class=\"dataframe\">\n",
       "  <thead>\n",
       "    <tr style=\"text-align: right;\">\n",
       "      <th></th>\n",
       "      <th>0</th>\n",
       "      <th>1</th>\n",
       "      <th>2</th>\n",
       "      <th>3</th>\n",
       "    </tr>\n",
       "  </thead>\n",
       "  <tbody>\n",
       "    <tr>\n",
       "      <th>2020-04-07</th>\n",
       "      <td>0.866026</td>\n",
       "      <td>0.499999</td>\n",
       "      <td>0.866024</td>\n",
       "      <td>-0.500002</td>\n",
       "    </tr>\n",
       "    <tr>\n",
       "      <th>2020-04-08</th>\n",
       "      <td>1.000000</td>\n",
       "      <td>-0.000001</td>\n",
       "      <td>-0.000003</td>\n",
       "      <td>-1.000000</td>\n",
       "    </tr>\n",
       "    <tr>\n",
       "      <th>2020-04-09</th>\n",
       "      <td>0.866025</td>\n",
       "      <td>-0.500001</td>\n",
       "      <td>-0.866027</td>\n",
       "      <td>-0.499997</td>\n",
       "    </tr>\n",
       "  </tbody>\n",
       "</table>\n",
       "</div>"
      ],
      "text/plain": [
       "                   0         1         2         3\n",
       "2020-04-07  0.866026  0.499999  0.866024 -0.500002\n",
       "2020-04-08  1.000000 -0.000001 -0.000003 -1.000000\n",
       "2020-04-09  0.866025 -0.500001 -0.866027 -0.499997"
      ]
     },
     "execution_count": 27,
     "metadata": {},
     "output_type": "execute_result"
    }
   ],
   "source": [
    "# fitting \n",
    "X_train = None\n",
    "t = FourierFeaturizer(sp=12, k=2)\n",
    "Xt = t.fit_transform(X_train, y=y_train)\n",
    "Xt.tail(3)"
   ]
  },
  {
   "cell_type": "code",
   "execution_count": 28,
   "metadata": {},
   "outputs": [
    {
     "data": {
      "text/plain": [
       "(<Figure size 1152x288 with 1 Axes>, <AxesSubplot:ylabel='3'>)"
      ]
     },
     "execution_count": 28,
     "metadata": {},
     "output_type": "execute_result"
    },
    {
     "data": {
      "image/png": "[encoded data removed]",
      "text/plain": [
       "<Figure size 1152x288 with 1 Axes>"
      ]
     },
     "metadata": {
      "needs_background": "light"
     },
     "output_type": "display_data"
    }
   ],
   "source": [
    "plot_series(*[Xt.iloc[:, i] for i in range(Xt.shape[1])])"
   ]
  },
  {
   "cell_type": "code",
   "execution_count": 29,
   "metadata": {},
   "outputs": [
    {
     "data": {
      "text/html": [
       "<div>\n",
       "<style scoped>\n",
       "    .dataframe tbody tr th:only-of-type {\n",
       "        vertical-align: middle;\n",
       "    }\n",
       "\n",
       "    .dataframe tbody tr th {\n",
       "        vertical-align: top;\n",
       "    }\n",
       "\n",
       "    .dataframe thead th {\n",
       "        text-align: right;\n",
       "    }\n",
       "</style>\n",
       "<table border=\"1\" class=\"dataframe\">\n",
       "  <thead>\n",
       "    <tr style=\"text-align: right;\">\n",
       "      <th></th>\n",
       "      <th>0</th>\n",
       "      <th>1</th>\n",
       "      <th>2</th>\n",
       "      <th>3</th>\n",
       "    </tr>\n",
       "  </thead>\n",
       "  <tbody>\n",
       "    <tr>\n",
       "      <th>2020-01-16</th>\n",
       "      <td>8.660253e-01</td>\n",
       "      <td>-0.500000</td>\n",
       "      <td>-8.660256e-01</td>\n",
       "      <td>-0.500000</td>\n",
       "    </tr>\n",
       "    <tr>\n",
       "      <th>2020-01-17</th>\n",
       "      <td>4.999998e-01</td>\n",
       "      <td>-0.866026</td>\n",
       "      <td>-8.660252e-01</td>\n",
       "      <td>0.500000</td>\n",
       "    </tr>\n",
       "    <tr>\n",
       "      <th>2020-01-18</th>\n",
       "      <td>-2.622683e-07</td>\n",
       "      <td>-1.000000</td>\n",
       "      <td>5.245367e-07</td>\n",
       "      <td>1.000000</td>\n",
       "    </tr>\n",
       "    <tr>\n",
       "      <th>2020-01-19</th>\n",
       "      <td>-5.000002e-01</td>\n",
       "      <td>-0.866025</td>\n",
       "      <td>8.660257e-01</td>\n",
       "      <td>0.500000</td>\n",
       "    </tr>\n",
       "    <tr>\n",
       "      <th>2020-01-20</th>\n",
       "      <td>-8.660255e-01</td>\n",
       "      <td>-0.500000</td>\n",
       "      <td>8.660251e-01</td>\n",
       "      <td>-0.500001</td>\n",
       "    </tr>\n",
       "  </tbody>\n",
       "</table>\n",
       "</div>"
      ],
      "text/plain": [
       "                       0         1             2         3\n",
       "2020-01-16  8.660253e-01 -0.500000 -8.660256e-01 -0.500000\n",
       "2020-01-17  4.999998e-01 -0.866026 -8.660252e-01  0.500000\n",
       "2020-01-18 -2.622683e-07 -1.000000  5.245367e-07  1.000000\n",
       "2020-01-19 -5.000002e-01 -0.866025  8.660257e-01  0.500000\n",
       "2020-01-20 -8.660255e-01 -0.500000  8.660251e-01 -0.500001"
      ]
     },
     "execution_count": 29,
     "metadata": {},
     "output_type": "execute_result"
    }
   ],
   "source": [
    "# predicting\n",
    "X_test = None\n",
    "fh = ForecastingHorizon(y_test.index, is_relative=False)\n",
    "\n",
    "# pre-initialised empty y_pred with fh as index\n",
    "if X_test is None:\n",
    "    X_test = pd.DataFrame(index=fh.to_absolute(t._cutoff).to_pandas(), dtype=np.float)\n",
    "X_test = t.transform(X_test)\n",
    "X_test.head(5)"
   ]
  },
  {
   "cell_type": "markdown",
   "metadata": {},
   "source": [
    "#### Option 2: Add new Featurizer type and composition class"
   ]
  },
  {
   "cell_type": "code",
   "execution_count": 30,
   "metadata": {},
   "outputs": [],
   "source": [
    "from sktime.forecasting.base._sktime import OptionalForecastingHorizonMixin\n",
    "from sktime.forecasting.base._sktime import BaseSktimeForecaster\n",
    "\n",
    "class _Featurizer(OptionalForecastingHorizonMixin, BaseSktimeForecaster):\n",
    "    \n",
    "    def fit(self, y, fh=None, X=None):\n",
    "        self._set_fh(fh)\n",
    "        self._set_y_X(y, X)\n",
    "        self._is_fitted = True\n",
    "        return self\n",
    "        \n",
    "    def predict(self, fh=None, X=None) -> Series:\n",
    "        raise NotImplementedError(\"abstract method\")\n",
    "        \n",
    "    def fit_predict(self, y, fh=None, X=None) -> Series:\n",
    "        return self.fit(y, fh, X).predict(fh, X)"
   ]
  },
  {
   "cell_type": "code",
   "execution_count": 31,
   "metadata": {},
   "outputs": [],
   "source": [
    "class HolidayFeaturizer(_Featurizer):\n",
    "    \n",
    "    def __init__(self, calendar=None):\n",
    "        self.calendar = calendar\n",
    "        self._features = None\n",
    "        super(HolidayFeaturizer, self).__init__()\n",
    "        \n",
    "    def fit(self, y, fh=None, X=None):\n",
    "        super(HolidayFeaturizer, self).fit(y, fh, X)\n",
    "        assert self.calendar is not None\n",
    "        assert isinstance(y.index, pd.DatetimeIndex)\n",
    "    \n",
    "    def predict(self, fh=None, X=None):\n",
    "        self.check_is_fitted()\n",
    "        self._set_fh(fh)\n",
    "        fh = self.fh.to_absolute(self.cutoff).to_pandas()\n",
    "        holidays = self.calendar.holidays(fh[0], fh[-1], return_name=True)\n",
    "        \n",
    "        return pd.get_dummies(holidays.reindex(fh, axis=0)).reindex(self._features, axis=1, fill_value=0)\n",
    "    \n",
    "    def fit_predict(self, y, fh=None, X=None):\n",
    "        # additionally keeps track of holiday names, so that we generate the same features in fit and predict in pipeline\n",
    "        self.fit(y, fh, X)\n",
    "        X_pred = self.predict(fh, X)\n",
    "        self._features = X_pred.columns\n",
    "        return X_pred"
   ]
  },
  {
   "cell_type": "code",
   "execution_count": 32,
   "metadata": {},
   "outputs": [
    {
     "data": {
      "text/html": [
       "<div>\n",
       "<style scoped>\n",
       "    .dataframe tbody tr th:only-of-type {\n",
       "        vertical-align: middle;\n",
       "    }\n",
       "\n",
       "    .dataframe tbody tr th {\n",
       "        vertical-align: top;\n",
       "    }\n",
       "\n",
       "    .dataframe thead th {\n",
       "        text-align: right;\n",
       "    }\n",
       "</style>\n",
       "<table border=\"1\" class=\"dataframe\">\n",
       "  <thead>\n",
       "    <tr style=\"text-align: right;\">\n",
       "      <th></th>\n",
       "      <th>Martin Luther King Jr. Day</th>\n",
       "      <th>New Years Day</th>\n",
       "      <th>Presidents Day</th>\n",
       "    </tr>\n",
       "  </thead>\n",
       "  <tbody>\n",
       "    <tr>\n",
       "      <th>2020-01-01</th>\n",
       "      <td>0</td>\n",
       "      <td>1</td>\n",
       "      <td>0</td>\n",
       "    </tr>\n",
       "    <tr>\n",
       "      <th>2020-01-02</th>\n",
       "      <td>0</td>\n",
       "      <td>0</td>\n",
       "      <td>0</td>\n",
       "    </tr>\n",
       "    <tr>\n",
       "      <th>2020-01-03</th>\n",
       "      <td>0</td>\n",
       "      <td>0</td>\n",
       "      <td>0</td>\n",
       "    </tr>\n",
       "    <tr>\n",
       "      <th>2020-01-04</th>\n",
       "      <td>0</td>\n",
       "      <td>0</td>\n",
       "      <td>0</td>\n",
       "    </tr>\n",
       "    <tr>\n",
       "      <th>2020-01-05</th>\n",
       "      <td>0</td>\n",
       "      <td>0</td>\n",
       "      <td>0</td>\n",
       "    </tr>\n",
       "  </tbody>\n",
       "</table>\n",
       "</div>"
      ],
      "text/plain": [
       "            Martin Luther King Jr. Day  New Years Day  Presidents Day\n",
       "2020-01-01                           0              1               0\n",
       "2020-01-02                           0              0               0\n",
       "2020-01-03                           0              0               0\n",
       "2020-01-04                           0              0               0\n",
       "2020-01-05                           0              0               0"
      ]
     },
     "execution_count": 32,
     "metadata": {},
     "output_type": "execute_result"
    }
   ],
   "source": [
    "from pandas.tseries.holiday import USFederalHolidayCalendar\n",
    "y_train = make_series(100)\n",
    "featurizer = HolidayFeaturizer(calendar=USFederalHolidayCalendar())\n",
    "featurizer.fit(y_train)\n",
    "fh = ForecastingHorizon(y_train.index, is_relative=False)\n",
    "X_pred = featurizer.predict(fh)\n",
    "X_pred.head() # may return empty data frame"
   ]
  },
  {
   "cell_type": "code",
   "execution_count": 33,
   "metadata": {},
   "outputs": [],
   "source": [
    "from sklearn.base import clone\n",
    "\n",
    "def _clone_estimators(estimators):\n",
    "    return [(name, clone(estimator)) for name, estimator in estimators]\n",
    "\n",
    "class FeaturizedForecaster(OptionalForecastingHorizonMixin, BaseSktimeForecaster):\n",
    "    \n",
    "    def __init__(self, estimators):\n",
    "        self.estimators = estimators\n",
    "        super(FeaturizedForecaster, self).__init__()\n",
    "        \n",
    "    def fit(self, y, fh=None, X=None):\n",
    "        self._set_y_X(y, X)\n",
    "        \n",
    "        _check_estimators(self.estimators)\n",
    "        self.estimators_ = _clone_estimators(self.estimators)\n",
    "        \n",
    "        xs = []\n",
    "        # use in-sample forecasting horizon\n",
    "        h = ForecastingHorizon(self._y.index, is_relative=False)\n",
    "        for i, (name, featurizer) in self.featurizers_():\n",
    "            # 1. fit featurizer\n",
    "            x = featurizer.fit_predict(y, h, X)\n",
    "            xs.append(x)\n",
    "            self.estimators_[i] = (name, featurizer)\n",
    "            \n",
    "        X = pd.concat([X, *xs], axis=1)\n",
    "        \n",
    "        # 3. fit final forecaster\n",
    "        name, forecaster = self.forecaster_\n",
    "        forecaster.fit(y, fh, X)\n",
    "        self.estimators_[-1] = (name, forecaster)\n",
    "        \n",
    "        self._is_fitted = True\n",
    "        return self\n",
    "    \n",
    "    def predict(self, fh=None, X=None):\n",
    "        self.check_is_fitted()\n",
    "        \n",
    "        xs = []\n",
    "        for _, (_, featurizer) in self.featurizers_():\n",
    "            # 3. generate features\n",
    "            x = featurizer.predict(fh, X=X)\n",
    "            xs.append(x)\n",
    "        \n",
    "        X = pd.concat([X, *xs], axis=1)\n",
    "        \n",
    "        # 3. fit final forecaster\n",
    "        _, forecaster = self.forecaster_\n",
    "        y_pred = forecaster.predict(fh, X)\n",
    "        return y_pred\n",
    "    \n",
    "    @property\n",
    "    def forecaster_(self):\n",
    "        return self.estimators_[-1]\n",
    "    \n",
    "    def featurizers_(self):\n",
    "        yield from enumerate(self.estimators_[:-1])\n",
    "\n",
    "\n",
    "def _get_name(estimator):\n",
    "    return estimator.__class__.__name__\n",
    "\n",
    "def _check_estimators(estimators):\n",
    "    assert isinstance(estimators, list)\n",
    "    assert len(estimators) > 0\n",
    "    \n",
    "    for estimator in estimators:\n",
    "        assert isinstance(estimator, tuple)\n",
    "    \n",
    "    names = [name for name, _ in estimators]\n",
    "    assert len(set(names)) == len(names)\n",
    "    \n",
    "    return estimators\n",
    "        \n",
    "def make_featurized_forecaster(*estimators):\n",
    "    return FeaturizedForecaster([(_get_name(estimator), estimator) for estimator in estimators])"
   ]
  },
  {
   "cell_type": "code",
   "execution_count": 34,
   "metadata": {},
   "outputs": [
    {
     "data": {
      "image/png": "[encoded data removed]",
      "text/plain": [
       "<Figure size 1152x288 with 1 Axes>"
      ]
     },
     "metadata": {
      "needs_background": "light"
     },
     "output_type": "display_data"
    }
   ],
   "source": [
    "y = make_series(n_timepoints=365)\n",
    "y_train, y_test = temporal_train_test_split(y, test_size=10)\n",
    "forecaster = make_featurized_forecaster(\n",
    "    HolidayFeaturizer(USFederalHolidayCalendar()), \n",
    "    AutoARIMA(suppress_warnings=True)\n",
    ")\n",
    "forecaster.fit(y_train)\n",
    "fh = ForecastingHorizon(y_test.index, is_relative=False)\n",
    "y_pred = forecaster.predict(fh)\n",
    "plot_series(y_train, y_test, y_pred);"
   ]
  },
  {
   "cell_type": "code",
   "execution_count": 35,
   "metadata": {},
   "outputs": [
    {
     "data": {
      "text/html": [
       "<div>\n",
       "<style scoped>\n",
       "    .dataframe tbody tr th:only-of-type {\n",
       "        vertical-align: middle;\n",
       "    }\n",
       "\n",
       "    .dataframe tbody tr th {\n",
       "        vertical-align: top;\n",
       "    }\n",
       "\n",
       "    .dataframe thead th {\n",
       "        text-align: right;\n",
       "    }\n",
       "</style>\n",
       "<table border=\"1\" class=\"dataframe\">\n",
       "  <thead>\n",
       "    <tr style=\"text-align: right;\">\n",
       "      <th></th>\n",
       "      <th>Columbus Day</th>\n",
       "      <th>July 4th</th>\n",
       "      <th>Labor Day</th>\n",
       "      <th>Martin Luther King Jr. Day</th>\n",
       "      <th>Memorial Day</th>\n",
       "      <th>New Years Day</th>\n",
       "      <th>Presidents Day</th>\n",
       "      <th>Thanksgiving</th>\n",
       "      <th>Veterans Day</th>\n",
       "    </tr>\n",
       "  </thead>\n",
       "  <tbody>\n",
       "    <tr>\n",
       "      <th>2020-01-01</th>\n",
       "      <td>0</td>\n",
       "      <td>0</td>\n",
       "      <td>0</td>\n",
       "      <td>0</td>\n",
       "      <td>0</td>\n",
       "      <td>1</td>\n",
       "      <td>0</td>\n",
       "      <td>0</td>\n",
       "      <td>0</td>\n",
       "    </tr>\n",
       "    <tr>\n",
       "      <th>2020-01-02</th>\n",
       "      <td>0</td>\n",
       "      <td>0</td>\n",
       "      <td>0</td>\n",
       "      <td>0</td>\n",
       "      <td>0</td>\n",
       "      <td>0</td>\n",
       "      <td>0</td>\n",
       "      <td>0</td>\n",
       "      <td>0</td>\n",
       "    </tr>\n",
       "    <tr>\n",
       "      <th>2020-01-03</th>\n",
       "      <td>0</td>\n",
       "      <td>0</td>\n",
       "      <td>0</td>\n",
       "      <td>0</td>\n",
       "      <td>0</td>\n",
       "      <td>0</td>\n",
       "      <td>0</td>\n",
       "      <td>0</td>\n",
       "      <td>0</td>\n",
       "    </tr>\n",
       "    <tr>\n",
       "      <th>2020-01-04</th>\n",
       "      <td>0</td>\n",
       "      <td>0</td>\n",
       "      <td>0</td>\n",
       "      <td>0</td>\n",
       "      <td>0</td>\n",
       "      <td>0</td>\n",
       "      <td>0</td>\n",
       "      <td>0</td>\n",
       "      <td>0</td>\n",
       "    </tr>\n",
       "    <tr>\n",
       "      <th>2020-01-05</th>\n",
       "      <td>0</td>\n",
       "      <td>0</td>\n",
       "      <td>0</td>\n",
       "      <td>0</td>\n",
       "      <td>0</td>\n",
       "      <td>0</td>\n",
       "      <td>0</td>\n",
       "      <td>0</td>\n",
       "      <td>0</td>\n",
       "    </tr>\n",
       "  </tbody>\n",
       "</table>\n",
       "</div>"
      ],
      "text/plain": [
       "            Columbus Day  July 4th  Labor Day  Martin Luther King Jr. Day  \\\n",
       "2020-01-01             0         0          0                           0   \n",
       "2020-01-02             0         0          0                           0   \n",
       "2020-01-03             0         0          0                           0   \n",
       "2020-01-04             0         0          0                           0   \n",
       "2020-01-05             0         0          0                           0   \n",
       "\n",
       "            Memorial Day  New Years Day  Presidents Day  Thanksgiving  \\\n",
       "2020-01-01             0              1               0             0   \n",
       "2020-01-02             0              0               0             0   \n",
       "2020-01-03             0              0               0             0   \n",
       "2020-01-04             0              0               0             0   \n",
       "2020-01-05             0              0               0             0   \n",
       "\n",
       "            Veterans Day  \n",
       "2020-01-01             0  \n",
       "2020-01-02             0  \n",
       "2020-01-03             0  \n",
       "2020-01-04             0  \n",
       "2020-01-05             0  "
      ]
     },
     "execution_count": 35,
     "metadata": {},
     "output_type": "execute_result"
    }
   ],
   "source": [
    "_X = forecaster.estimators_[-1][-1]._X\n",
    "assert _X.shape[0] == y_train.shape[0]\n",
    "assert _X.shape[1] > 1\n",
    "_X.head()"
   ]
  },
  {
   "cell_type": "markdown",
   "metadata": {},
   "source": [
    "### 3. Series-as-features -> Tabular\n",
    "* usually fittable and encapsualted in classes\n",
    "* input of fit and transform always needs to have the same number of columns and time points, but may have different number of instances\n",
    "* input and output of transform always has the same number of instances, but may have different numbers of columns and time points\n",
    "\n",
    "#### Examples\n",
    "* Shapelet transform (returns minimum distance of each instance to found shapelets as tabular matrix)\n",
    "* Feature extractors\n",
    "* Tabularizer/TimeBinner\n",
    "* composite transformers, e.g. applying series-to-primitives transform iteratively over instances/rows"
   ]
  },
  {
   "cell_type": "code",
   "execution_count": 36,
   "metadata": {},
   "outputs": [],
   "source": [
    "class _SeriesAsFeaturesToTabularTransformer(BaseEstimator):\n",
    "\n",
    "    def fit(self, X: SeriesAsFeatures, y=None):\n",
    "        return self\n",
    "        \n",
    "    def transform(self, X: SeriesAsFeatures, y=None) -> Tabular:\n",
    "        return Xt  # tabular\n",
    "\n",
    "    def inverse_transform(self, X: SeriesAsFeatures, y=None) -> Tabular:\n",
    "        return Xt  # tabular\n",
    "    \n",
    "    def fit_transform(self, X: SeriesAsFeatures, y=None) -> Tabular:\n",
    "        return self.fit(X, y).transform(X, y)"
   ]
  },
  {
   "cell_type": "code",
   "execution_count": 37,
   "metadata": {},
   "outputs": [],
   "source": [
    "# example\n",
    "from sktime.transformers.series_as_features.summarize import RandomIntervalFeatureExtractor\n",
    "from sktime.utils._testing import make_classification_problem"
   ]
  },
  {
   "cell_type": "code",
   "execution_count": 38,
   "metadata": {},
   "outputs": [
    {
     "data": {
      "text/html": [
       "<div>\n",
       "<style scoped>\n",
       "    .dataframe tbody tr th:only-of-type {\n",
       "        vertical-align: middle;\n",
       "    }\n",
       "\n",
       "    .dataframe tbody tr th {\n",
       "        vertical-align: top;\n",
       "    }\n",
       "\n",
       "    .dataframe thead th {\n",
       "        text-align: right;\n",
       "    }\n",
       "</style>\n",
       "<table border=\"1\" class=\"dataframe\">\n",
       "  <thead>\n",
       "    <tr style=\"text-align: right;\">\n",
       "      <th></th>\n",
       "      <th>var_9_20_mean</th>\n",
       "      <th>var_3_9_mean</th>\n",
       "      <th>var_14_20_mean</th>\n",
       "      <th>var_10_16_mean</th>\n",
       "    </tr>\n",
       "  </thead>\n",
       "  <tbody>\n",
       "    <tr>\n",
       "      <th>0</th>\n",
       "      <td>0.116812</td>\n",
       "      <td>0.000086</td>\n",
       "      <td>-0.029055</td>\n",
       "      <td>0.100015</td>\n",
       "    </tr>\n",
       "    <tr>\n",
       "      <th>1</th>\n",
       "      <td>20.017252</td>\n",
       "      <td>20.182154</td>\n",
       "      <td>19.928215</td>\n",
       "      <td>19.921868</td>\n",
       "    </tr>\n",
       "    <tr>\n",
       "      <th>2</th>\n",
       "      <td>19.769234</td>\n",
       "      <td>19.845818</td>\n",
       "      <td>19.773196</td>\n",
       "      <td>19.703131</td>\n",
       "    </tr>\n",
       "    <tr>\n",
       "      <th>3</th>\n",
       "      <td>19.966402</td>\n",
       "      <td>19.966789</td>\n",
       "      <td>20.028251</td>\n",
       "      <td>20.000857</td>\n",
       "    </tr>\n",
       "    <tr>\n",
       "      <th>4</th>\n",
       "      <td>19.826926</td>\n",
       "      <td>20.375101</td>\n",
       "      <td>20.082541</td>\n",
       "      <td>19.875460</td>\n",
       "    </tr>\n",
       "  </tbody>\n",
       "</table>\n",
       "</div>"
      ],
      "text/plain": [
       "   var_9_20_mean  var_3_9_mean  var_14_20_mean  var_10_16_mean\n",
       "0       0.116812      0.000086       -0.029055        0.100015\n",
       "1      20.017252     20.182154       19.928215       19.921868\n",
       "2      19.769234     19.845818       19.773196       19.703131\n",
       "3      19.966402     19.966789       20.028251       20.000857\n",
       "4      19.826926     20.375101       20.082541       19.875460"
      ]
     },
     "execution_count": 38,
     "metadata": {},
     "output_type": "execute_result"
    }
   ],
   "source": [
    "X, y = make_classification_problem()\n",
    "X.columns = [\"var\"]\n",
    "transformer = RandomIntervalFeatureExtractor()\n",
    "Xt = transformer.fit_transform(X)\n",
    "Xt.head()"
   ]
  },
  {
   "cell_type": "markdown",
   "metadata": {},
   "source": [
    "### 4. Series-as-features -> Series-as-features\n",
    "* usually fittable and encapsualted in classes\n",
    "* input of fit and transform always needs to have the same number of columns and time points, but may have different number of instances\n",
    "* input and output of transform always has same number of instances, but may have different numbers of columns and time points (including going from time-homogeneous data to time-heterogenous data)\n",
    "\n",
    "#### Examples\n",
    "* dictionary-based transforms \n",
    "* time series segmentation, e.g. splitting a time series columns into multiple ones, see IntervalSegmenter\n",
    "* time series concatenation, e.g. merging multiple time series columns into a single one, see ColumnConcatenator\n",
    "* composite transformers, e.g. applying series-to-series or series-to-primitive transforms iteratively over instances/rows"
   ]
  },
  {
   "cell_type": "code",
   "execution_count": 39,
   "metadata": {},
   "outputs": [],
   "source": [
    "class _SeriesAsFeaturesToSeriesAsFeaturesTransformer(BaseEstimator):\n",
    "\n",
    "    def fit(self, X: SeriesAsFeatures, y=None):\n",
    "        return self\n",
    "        \n",
    "    def transform(self, X: SeriesAsFeatures, y=None) -> SeriesAsFeatures:\n",
    "        return Xt  # tabular\n",
    "\n",
    "    def inverse_transform(self, X: SeriesAsFeatures, y=None) -> SeriesAsFeatures:\n",
    "        return Xt  # tabular\n",
    "    \n",
    "    def fit_transform(self, X: SeriesAsFeatures, y=None) -> SeriesAsFeatures:\n",
    "        return self.fit(X, y).transform(X, y)"
   ]
  },
  {
   "cell_type": "code",
   "execution_count": 40,
   "metadata": {},
   "outputs": [],
   "source": [
    "# example\n",
    "from sktime.transformers.series_as_features.segment import RandomIntervalSegmenter"
   ]
  },
  {
   "cell_type": "code",
   "execution_count": 41,
   "metadata": {},
   "outputs": [
    {
     "name": "stdout",
     "output_type": "stream",
     "text": [
      "[[ 5 17]\n",
      " [ 3 10]\n",
      " [ 5 14]]\n"
     ]
    },
    {
     "data": {
      "text/html": [
       "<div>\n",
       "<style scoped>\n",
       "    .dataframe tbody tr th:only-of-type {\n",
       "        vertical-align: middle;\n",
       "    }\n",
       "\n",
       "    .dataframe tbody tr th {\n",
       "        vertical-align: top;\n",
       "    }\n",
       "\n",
       "    .dataframe thead th {\n",
       "        text-align: right;\n",
       "    }\n",
       "</style>\n",
       "<table border=\"1\" class=\"dataframe\">\n",
       "  <thead>\n",
       "    <tr style=\"text-align: right;\">\n",
       "      <th></th>\n",
       "      <th>var_5_17</th>\n",
       "      <th>var_3_10</th>\n",
       "      <th>var_5_14</th>\n",
       "    </tr>\n",
       "  </thead>\n",
       "  <tbody>\n",
       "    <tr>\n",
       "      <th>0</th>\n",
       "      <td>[0.7203988740564458, -0.06800861165484698, 0.4...</td>\n",
       "      <td>[-0.16191850458475052, -0.6427222098237795, 0....</td>\n",
       "      <td>[0.7203988740564458, -0.06800861165484698, 0.4...</td>\n",
       "    </tr>\n",
       "    <tr>\n",
       "      <th>1</th>\n",
       "      <td>[19.758224695530394, 20.458404113507985, 20.58...</td>\n",
       "      <td>[20.37609102313985, 20.092585938106986, 19.758...</td>\n",
       "      <td>[19.758224695530394, 20.458404113507985, 20.58...</td>\n",
       "    </tr>\n",
       "    <tr>\n",
       "      <th>2</th>\n",
       "      <td>[19.791875850946795, 19.966437583678466, 19.78...</td>\n",
       "      <td>[20.08751167780982, 19.91302129016223, 19.7918...</td>\n",
       "      <td>[19.791875850946795, 19.966437583678466, 19.78...</td>\n",
       "    </tr>\n",
       "    <tr>\n",
       "      <th>3</th>\n",
       "      <td>[19.40407239825091, 19.46845647792172, 19.8866...</td>\n",
       "      <td>[21.11531008343991, 19.3941045734907, 19.40407...</td>\n",
       "      <td>[19.40407239825091, 19.46845647792172, 19.8866...</td>\n",
       "    </tr>\n",
       "    <tr>\n",
       "      <th>4</th>\n",
       "      <td>[20.606577939895164, 20.48166649524029, 20.772...</td>\n",
       "      <td>[20.003606197226855, 20.357174139006965, 20.60...</td>\n",
       "      <td>[20.606577939895164, 20.48166649524029, 20.772...</td>\n",
       "    </tr>\n",
       "  </tbody>\n",
       "</table>\n",
       "</div>"
      ],
      "text/plain": [
       "                                            var_5_17  \\\n",
       "0  [0.7203988740564458, -0.06800861165484698, 0.4...   \n",
       "1  [19.758224695530394, 20.458404113507985, 20.58...   \n",
       "2  [19.791875850946795, 19.966437583678466, 19.78...   \n",
       "3  [19.40407239825091, 19.46845647792172, 19.8866...   \n",
       "4  [20.606577939895164, 20.48166649524029, 20.772...   \n",
       "\n",
       "                                            var_3_10  \\\n",
       "0  [-0.16191850458475052, -0.6427222098237795, 0....   \n",
       "1  [20.37609102313985, 20.092585938106986, 19.758...   \n",
       "2  [20.08751167780982, 19.91302129016223, 19.7918...   \n",
       "3  [21.11531008343991, 19.3941045734907, 19.40407...   \n",
       "4  [20.003606197226855, 20.357174139006965, 20.60...   \n",
       "\n",
       "                                            var_5_14  \n",
       "0  [0.7203988740564458, -0.06800861165484698, 0.4...  \n",
       "1  [19.758224695530394, 20.458404113507985, 20.58...  \n",
       "2  [19.791875850946795, 19.966437583678466, 19.78...  \n",
       "3  [19.40407239825091, 19.46845647792172, 19.8866...  \n",
       "4  [20.606577939895164, 20.48166649524029, 20.772...  "
      ]
     },
     "execution_count": 41,
     "metadata": {},
     "output_type": "execute_result"
    }
   ],
   "source": [
    "transformer = RandomIntervalSegmenter(n_intervals=3)\n",
    "Xt = transformer.fit_transform(X)\n",
    "Xt.head()"
   ]
  },
  {
   "cell_type": "markdown",
   "metadata": {},
   "source": [
    "### 5. Meta-transformers"
   ]
  },
  {
   "cell_type": "code",
   "execution_count": 42,
   "metadata": {},
   "outputs": [],
   "source": [
    "# example\n",
    "def make_instance_transformer(transformer, **kwargs):\n",
    "    if isinstance(transformer, _SeriesToSeriesTransformer):\n",
    "        return SeriesToSeriesInstanceTransformer(transformer, **kwargs)\n",
    "    elif isinstance(transformer, _SeriesToPrimitivesTransformer):\n",
    "        return SeriesToPrimitivesInstanceTransformer(transformer, **kwargs)\n",
    "    else:\n",
    "        raise TypeError(\"transformer type not supported\")\n",
    "        \n",
    "from sklearn.base import clone\n",
    "from sktime.utils.data_container import detabularize\n",
    "\n",
    "def _from_nested_to_series(x):\n",
    "    if x.shape[0] == 1:\n",
    "        return x.iloc[0]\n",
    "    else: \n",
    "        return pd.DataFrame(x.tolist()).T\n",
    "\n",
    "def _make_column_names(columns, prefix):\n",
    "    if len(prefix) > 0:\n",
    "        prefix = prefix + \"_\"\n",
    "    return [f\"{prefix}{column}\" for column in columns]\n",
    "    \n",
    "class _InstanceTransformer:\n",
    "    \n",
    "    def __init__(self, transformer, prefix=\"\", check_transformer=True):\n",
    "        self.transformer = transformer\n",
    "        self.check_transformer = check_transformer\n",
    "        self.prefix = prefix\n",
    "        \n",
    "    def _check_transformer(self):\n",
    "        assert hasattr(self, \"_supported_transformer_type\")\n",
    "        if self.check_transformer and not isinstance(self.transformer, self._supported_transformer_type):\n",
    "            raise TypeError(f\"transformer must be a {self._supported_transformer_type.__class__.__name__}\")\n",
    "        \n",
    "    def fit(self, X, y=None):\n",
    "        self._check_transformer()\n",
    "        transformer = clone(self.transformer)\n",
    "        self.transformer_ = transformer.fit(X, y)\n",
    "        return self\n",
    "\n",
    "class SeriesToPrimitivesInstanceTransformer(_InstanceTransformer, _SeriesAsFeaturesToTabularTransformer):\n",
    "    _supported_transformer_type = _SeriesToPrimitivesTransformer\n",
    "    \n",
    "    def transform(self, X, y=None):\n",
    "        Xt = np.zeros(X.shape)\n",
    "        for i, (_, x) in enumerate(X.iterrows()):\n",
    "            x = _from_nested_to_series(x)\n",
    "            Xt[i] = self.transformer_.transform(x)\n",
    "        return pd.DataFrame(Xt, columns=_make_column_names(X.columns, self.prefix))\n",
    "    \n",
    "class SeriesToSeriesInstanceTransformer(_InstanceTransformer, _SeriesAsFeaturesToSeriesAsFeaturesTransformer):\n",
    "    _supported_transformer_type = _SeriesToSeriesTransformer\n",
    "    \n",
    "    def transform(self, X, y=None):\n",
    "        Xt = None\n",
    "        for i, (_, x) in enumerate(X.iterrows()):\n",
    "            x = _from_nested_to_series(x)\n",
    "            xt = self.transformer_.transform(x)\n",
    "            Xt = pd.concat([Xt, detabularize(xt.T)], axis=1)\n",
    "        Xt = Xt.T\n",
    "        Xt.columns = _make_column_names(X.columns, self.prefix)\n",
    "        return Xt"
   ]
  },
  {
   "cell_type": "code",
   "execution_count": 43,
   "metadata": {},
   "outputs": [],
   "source": [
    "from sktime.datasets import load_basic_motions\n",
    "X, _ = load_basic_motions(return_X_y=True)"
   ]
  },
  {
   "cell_type": "code",
   "execution_count": 44,
   "metadata": {},
   "outputs": [
    {
     "data": {
      "text/html": [
       "<div>\n",
       "<style scoped>\n",
       "    .dataframe tbody tr th:only-of-type {\n",
       "        vertical-align: middle;\n",
       "    }\n",
       "\n",
       "    .dataframe tbody tr th {\n",
       "        vertical-align: top;\n",
       "    }\n",
       "\n",
       "    .dataframe thead th {\n",
       "        text-align: right;\n",
       "    }\n",
       "</style>\n",
       "<table border=\"1\" class=\"dataframe\">\n",
       "  <thead>\n",
       "    <tr style=\"text-align: right;\">\n",
       "      <th></th>\n",
       "      <th>q25_dim_0</th>\n",
       "      <th>q25_dim_1</th>\n",
       "      <th>q25_dim_2</th>\n",
       "      <th>q25_dim_3</th>\n",
       "      <th>q25_dim_4</th>\n",
       "      <th>q25_dim_5</th>\n",
       "    </tr>\n",
       "  </thead>\n",
       "  <tbody>\n",
       "    <tr>\n",
       "      <th>0</th>\n",
       "      <td>-0.229348</td>\n",
       "      <td>-0.170838</td>\n",
       "      <td>-0.146205</td>\n",
       "      <td>-0.093884</td>\n",
       "      <td>-0.050604</td>\n",
       "      <td>-0.191763</td>\n",
       "    </tr>\n",
       "    <tr>\n",
       "      <th>1</th>\n",
       "      <td>-0.342918</td>\n",
       "      <td>-0.352173</td>\n",
       "      <td>-0.040077</td>\n",
       "      <td>-0.049272</td>\n",
       "      <td>-0.029297</td>\n",
       "      <td>-0.167792</td>\n",
       "    </tr>\n",
       "    <tr>\n",
       "      <th>2</th>\n",
       "      <td>-0.219758</td>\n",
       "      <td>-0.786313</td>\n",
       "      <td>-0.003134</td>\n",
       "      <td>-0.125179</td>\n",
       "      <td>-0.128508</td>\n",
       "      <td>-0.380197</td>\n",
       "    </tr>\n",
       "    <tr>\n",
       "      <th>3</th>\n",
       "      <td>-0.280183</td>\n",
       "      <td>-0.201187</td>\n",
       "      <td>-0.269531</td>\n",
       "      <td>-0.091886</td>\n",
       "      <td>-0.117188</td>\n",
       "      <td>-0.104537</td>\n",
       "    </tr>\n",
       "    <tr>\n",
       "      <th>4</th>\n",
       "      <td>-0.348184</td>\n",
       "      <td>-0.265133</td>\n",
       "      <td>-0.056743</td>\n",
       "      <td>-0.058594</td>\n",
       "      <td>-0.015980</td>\n",
       "      <td>-0.123847</td>\n",
       "    </tr>\n",
       "  </tbody>\n",
       "</table>\n",
       "</div>"
      ],
      "text/plain": [
       "   q25_dim_0  q25_dim_1  q25_dim_2  q25_dim_3  q25_dim_4  q25_dim_5\n",
       "0  -0.229348  -0.170838  -0.146205  -0.093884  -0.050604  -0.191763\n",
       "1  -0.342918  -0.352173  -0.040077  -0.049272  -0.029297  -0.167792\n",
       "2  -0.219758  -0.786313  -0.003134  -0.125179  -0.128508  -0.380197\n",
       "3  -0.280183  -0.201187  -0.269531  -0.091886  -0.117188  -0.104537\n",
       "4  -0.348184  -0.265133  -0.056743  -0.058594  -0.015980  -0.123847"
      ]
     },
     "execution_count": 44,
     "metadata": {},
     "output_type": "execute_result"
    }
   ],
   "source": [
    "transformer = make_instance_transformer(QuantileTransformer(q=.25), prefix=\"q25\")\n",
    "Xt = transformer.fit_transform(X)\n",
    "Xt.head()"
   ]
  },
  {
   "cell_type": "code",
   "execution_count": 45,
   "metadata": {},
   "outputs": [
    {
     "name": "stderr",
     "output_type": "stream",
     "text": [
      "/Users/mloning/.conda/envs/sktime-dev/lib/python3.7/site-packages/ipykernel_launcher.py:5: RuntimeWarning: divide by zero encountered in log\n",
      "  \"\"\"\n",
      "/Users/mloning/.conda/envs/sktime-dev/lib/python3.7/site-packages/ipykernel_launcher.py:5: RuntimeWarning: invalid value encountered in log\n",
      "  \"\"\"\n"
     ]
    },
    {
     "data": {
      "text/html": [
       "<div>\n",
       "<style scoped>\n",
       "    .dataframe tbody tr th:only-of-type {\n",
       "        vertical-align: middle;\n",
       "    }\n",
       "\n",
       "    .dataframe tbody tr th {\n",
       "        vertical-align: top;\n",
       "    }\n",
       "\n",
       "    .dataframe thead th {\n",
       "        text-align: right;\n",
       "    }\n",
       "</style>\n",
       "<table border=\"1\" class=\"dataframe\">\n",
       "  <thead>\n",
       "    <tr style=\"text-align: right;\">\n",
       "      <th></th>\n",
       "      <th>log_dim_0</th>\n",
       "      <th>log_dim_1</th>\n",
       "      <th>log_dim_2</th>\n",
       "      <th>log_dim_3</th>\n",
       "      <th>log_dim_4</th>\n",
       "      <th>log_dim_5</th>\n",
       "    </tr>\n",
       "  </thead>\n",
       "  <tbody>\n",
       "    <tr>\n",
       "      <th>0</th>\n",
       "      <td>0    -2.536967\n",
       "1    -2.536967\n",
       "2          NaN\n",
       "3...</td>\n",
       "      <td>0    -0.931323\n",
       "1    -0.931323\n",
       "2          NaN\n",
       "3...</td>\n",
       "      <td>0    -0.595215\n",
       "1    -0.595215\n",
       "2          NaN\n",
       "3...</td>\n",
       "      <td>0    -1.045361\n",
       "1    -1.045361\n",
       "2          NaN\n",
       "3...</td>\n",
       "      <td>0    -3.730952\n",
       "1    -3.730952\n",
       "2          NaN\n",
       "3...</td>\n",
       "      <td>0    -0.455891\n",
       "1    -0.455891\n",
       "2    -0.028265\n",
       "3...</td>\n",
       "    </tr>\n",
       "    <tr>\n",
       "      <th>0</th>\n",
       "      <td>0    -0.973520\n",
       "1    -0.973520\n",
       "2     1.082810\n",
       "3...</td>\n",
       "      <td>0          NaN\n",
       "1          NaN\n",
       "2    -0.029720\n",
       "3...</td>\n",
       "      <td>0          NaN\n",
       "1          NaN\n",
       "2          NaN\n",
       "3...</td>\n",
       "      <td>0    NaN\n",
       "1    NaN\n",
       "2    NaN\n",
       "3    NaN\n",
       "4    NaN\n",
       " ...</td>\n",
       "      <td>0          NaN\n",
       "1          NaN\n",
       "2          NaN\n",
       "3...</td>\n",
       "      <td>0          NaN\n",
       "1          NaN\n",
       "2          NaN\n",
       "3...</td>\n",
       "    </tr>\n",
       "    <tr>\n",
       "      <th>0</th>\n",
       "      <td>0          NaN\n",
       "1          NaN\n",
       "2          NaN\n",
       "3...</td>\n",
       "      <td>0    -0.191565\n",
       "1    -0.191565\n",
       "2          NaN\n",
       "3...</td>\n",
       "      <td>0    -3.420013\n",
       "1    -3.420013\n",
       "2    -0.190955\n",
       "3...</td>\n",
       "      <td>0    -3.848720\n",
       "1    -3.848720\n",
       "2          NaN\n",
       "3...</td>\n",
       "      <td>0    -2.099522\n",
       "1    -2.099522\n",
       "2          NaN\n",
       "3...</td>\n",
       "      <td>0    -0.254839\n",
       "1    -0.254839\n",
       "2    -0.958348\n",
       "3...</td>\n",
       "    </tr>\n",
       "    <tr>\n",
       "      <th>0</th>\n",
       "      <td>0    -1.238374\n",
       "1    -1.238374\n",
       "2          NaN\n",
       "3...</td>\n",
       "      <td>0    -1.258323\n",
       "1    -1.258323\n",
       "2          NaN\n",
       "3...</td>\n",
       "      <td>0    -1.543276\n",
       "1    -1.543276\n",
       "2    -1.377267\n",
       "3...</td>\n",
       "      <td>0          NaN\n",
       "1          NaN\n",
       "2    -3.982231\n",
       "3...</td>\n",
       "      <td>0    -2.595963\n",
       "1    -2.595963\n",
       "2    -4.829565\n",
       "3...</td>\n",
       "      <td>0          NaN\n",
       "1          NaN\n",
       "2    -1.439526\n",
       "3...</td>\n",
       "    </tr>\n",
       "    <tr>\n",
       "      <th>0</th>\n",
       "      <td>0    NaN\n",
       "1    NaN\n",
       "2    NaN\n",
       "3    NaN\n",
       "4    NaN\n",
       " ...</td>\n",
       "      <td>0    -0.969320\n",
       "1    -0.969320\n",
       "2    -0.613410\n",
       "3...</td>\n",
       "      <td>0          NaN\n",
       "1          NaN\n",
       "2    -1.568200\n",
       "3...</td>\n",
       "      <td>0          NaN\n",
       "1          NaN\n",
       "2          NaN\n",
       "3...</td>\n",
       "      <td>0    -2.837123\n",
       "1    -2.837123\n",
       "2    -1.738505\n",
       "3...</td>\n",
       "      <td>0          NaN\n",
       "1          NaN\n",
       "2    -2.166962\n",
       "3...</td>\n",
       "    </tr>\n",
       "  </tbody>\n",
       "</table>\n",
       "</div>"
      ],
      "text/plain": [
       "                                           log_dim_0  \\\n",
       "0  0    -2.536967\n",
       "1    -2.536967\n",
       "2          NaN\n",
       "3...   \n",
       "0  0    -0.973520\n",
       "1    -0.973520\n",
       "2     1.082810\n",
       "3...   \n",
       "0  0          NaN\n",
       "1          NaN\n",
       "2          NaN\n",
       "3...   \n",
       "0  0    -1.238374\n",
       "1    -1.238374\n",
       "2          NaN\n",
       "3...   \n",
       "0  0    NaN\n",
       "1    NaN\n",
       "2    NaN\n",
       "3    NaN\n",
       "4    NaN\n",
       " ...   \n",
       "\n",
       "                                           log_dim_1  \\\n",
       "0  0    -0.931323\n",
       "1    -0.931323\n",
       "2          NaN\n",
       "3...   \n",
       "0  0          NaN\n",
       "1          NaN\n",
       "2    -0.029720\n",
       "3...   \n",
       "0  0    -0.191565\n",
       "1    -0.191565\n",
       "2          NaN\n",
       "3...   \n",
       "0  0    -1.258323\n",
       "1    -1.258323\n",
       "2          NaN\n",
       "3...   \n",
       "0  0    -0.969320\n",
       "1    -0.969320\n",
       "2    -0.613410\n",
       "3...   \n",
       "\n",
       "                                           log_dim_2  \\\n",
       "0  0    -0.595215\n",
       "1    -0.595215\n",
       "2          NaN\n",
       "3...   \n",
       "0  0          NaN\n",
       "1          NaN\n",
       "2          NaN\n",
       "3...   \n",
       "0  0    -3.420013\n",
       "1    -3.420013\n",
       "2    -0.190955\n",
       "3...   \n",
       "0  0    -1.543276\n",
       "1    -1.543276\n",
       "2    -1.377267\n",
       "3...   \n",
       "0  0          NaN\n",
       "1          NaN\n",
       "2    -1.568200\n",
       "3...   \n",
       "\n",
       "                                           log_dim_3  \\\n",
       "0  0    -1.045361\n",
       "1    -1.045361\n",
       "2          NaN\n",
       "3...   \n",
       "0  0    NaN\n",
       "1    NaN\n",
       "2    NaN\n",
       "3    NaN\n",
       "4    NaN\n",
       " ...   \n",
       "0  0    -3.848720\n",
       "1    -3.848720\n",
       "2          NaN\n",
       "3...   \n",
       "0  0          NaN\n",
       "1          NaN\n",
       "2    -3.982231\n",
       "3...   \n",
       "0  0          NaN\n",
       "1          NaN\n",
       "2          NaN\n",
       "3...   \n",
       "\n",
       "                                           log_dim_4  \\\n",
       "0  0    -3.730952\n",
       "1    -3.730952\n",
       "2          NaN\n",
       "3...   \n",
       "0  0          NaN\n",
       "1          NaN\n",
       "2          NaN\n",
       "3...   \n",
       "0  0    -2.099522\n",
       "1    -2.099522\n",
       "2          NaN\n",
       "3...   \n",
       "0  0    -2.595963\n",
       "1    -2.595963\n",
       "2    -4.829565\n",
       "3...   \n",
       "0  0    -2.837123\n",
       "1    -2.837123\n",
       "2    -1.738505\n",
       "3...   \n",
       "\n",
       "                                           log_dim_5  \n",
       "0  0    -0.455891\n",
       "1    -0.455891\n",
       "2    -0.028265\n",
       "3...  \n",
       "0  0          NaN\n",
       "1          NaN\n",
       "2          NaN\n",
       "3...  \n",
       "0  0    -0.254839\n",
       "1    -0.254839\n",
       "2    -0.958348\n",
       "3...  \n",
       "0  0          NaN\n",
       "1          NaN\n",
       "2    -1.439526\n",
       "3...  \n",
       "0  0          NaN\n",
       "1          NaN\n",
       "2    -2.166962\n",
       "3...  "
      ]
     },
     "execution_count": 45,
     "metadata": {},
     "output_type": "execute_result"
    }
   ],
   "source": [
    "transformer = make_instance_transformer(LogTransformer(), prefix=\"log\")\n",
    "Xt = transformer.fit_transform(X)\n",
    "Xt.head()"
   ]
  },
  {
   "cell_type": "markdown",
   "metadata": {},
   "source": [
    "## Pipelining\n",
    "\n",
    "### Forecasting\n",
    "* implement ForecastingPipeline for exogenous transformations\n",
    "* implement TransformedTargetForecaster for endogenous transformations"
   ]
  },
  {
   "cell_type": "code",
   "execution_count": 46,
   "metadata": {},
   "outputs": [],
   "source": [
    "from sktime.forecasting.base._base import BaseForecaster\n",
    "from sktime.forecasting.base._sktime import BaseSktimeForecaster\n",
    "from sktime.forecasting.base._sktime import OptionalForecastingHorizonMixin"
   ]
  },
  {
   "cell_type": "code",
   "execution_count": 47,
   "metadata": {},
   "outputs": [],
   "source": [
    "class ForecastingPipeline(OptionalForecastingHorizonMixin, BaseSktimeForecaster):\n",
    "    \n",
    "    def __init__(self, estimators):\n",
    "        self.estimators = estimators\n",
    "        super(ForecastingPipeline, self).__init__()\n",
    "        \n",
    "    def fit(self, y, X=None, fh=None):\n",
    "        # even though this is a meta-estimator, we need to keep track of fh\n",
    "        # and the cutoff to pre-initialise X in predict if no X is given\n",
    "        self._set_y_X(y, X)\n",
    "        self._set_fh(fh) \n",
    "        \n",
    "        _check_estimators(self.estimators)\n",
    "        \n",
    "        # check and clone estimators \n",
    "        self.estimators_ = [(name, clone(estimator)) for name, estimator in self.estimators]\n",
    "        \n",
    "        # 1. transformations\n",
    "        for i, name, transformer in self.transformers_():\n",
    "            X = transformer.fit_transform(X, y)\n",
    "            self.estimators_[i] = (name, transformer)\n",
    "\n",
    "        # 2. fit final forecaster\n",
    "        name, forecaster = self.forecaster_\n",
    "        forecaster.fit(y, fh=fh, X_train=X)\n",
    "        self.estimators_[-1] = (name, forecaster)\n",
    "        \n",
    "        self._is_fitted = True\n",
    "        return self\n",
    "    \n",
    "    def predict(self, fh=None, X=None):\n",
    "        self.check_is_fitted()\n",
    "        self._set_fh(fh)\n",
    "        \n",
    "        # if no exogneous variables are given, we need to pre-initialise \n",
    "        if X is None:\n",
    "            y_pred = pd.Series(index=self.fh.to_absolute(self.cutoff).to_pandas(), dtype=np.float)\n",
    "        \n",
    "        # 1. exogeneous transformations\n",
    "        for _, _, transformer in self.transformers_():\n",
    "            X = transformer.transform(X, y_pred)\n",
    "        \n",
    "        # 2. prediction\n",
    "        _, forecaster = self.forecaster_\n",
    "        y_pred = forecaster.predict(self.fh, X)\n",
    "            \n",
    "        return y_pred\n",
    "    \n",
    "    def transform(self, y=None, X=None):\n",
    "        self.check_is_fitted()\n",
    "        for i, name, transformer in self.transformers_():\n",
    "            X = transformer.transform(X, y)\n",
    "        return X\n",
    "        \n",
    "    @property\n",
    "    def forecaster_(self):\n",
    "        return self.estimators_[-1]\n",
    "        \n",
    "    def transformers_(self):\n",
    "        transformers = self.estimators_[:-1]\n",
    "        for i, (name, transformer) in enumerate(transformers):\n",
    "            yield i, name, transformer\n",
    "        \n",
    "def make_pipeline(*estimators): \n",
    "    estimators = [(_get_name(estimator), estimator) for estimator in estimators]\n",
    "    return ForecastingPipeline(estimators)"
   ]
  },
  {
   "cell_type": "code",
   "execution_count": 48,
   "metadata": {},
   "outputs": [
    {
     "data": {
      "image/png": "[encoded data removed]",
      "text/plain": [
       "<Figure size 1152x288 with 1 Axes>"
      ]
     },
     "metadata": {
      "needs_background": "light"
     },
     "output_type": "display_data"
    }
   ],
   "source": [
    "y = load_airline()\n",
    "k = 6\n",
    "y_train, y_test = temporal_train_test_split(y, test_size=10)\n",
    "fh = ForecastingHorizon(y_test.index, is_relative=False)\n",
    "forecaster = make_pipeline(FourierFeaturizer(sp=12, k=k), AutoARIMA(seasonal=False, max_p=2, max_q=2, max_d=1, suppress_warnings=True))\n",
    "forecaster.fit(y_train)\n",
    "\n",
    "# tests\n",
    "_data = forecaster.forecaster_[-1]._forecaster.model_.arima_res_.data\n",
    "_X = _data.exog\n",
    "assert _X.shape == (y_train.shape[0], k * 2), print(_X.shape)\n",
    "_y = _data.endog\n",
    "np.testing.assert_array_equal(_y, y_train)\n",
    "\n",
    "y_pred = forecaster.predict(fh)\n",
    "plot_series(y_train, y_test, y_pred, labels=[\"y_train\", \"y_test\", \"y_pred\"]);"
   ]
  },
  {
   "cell_type": "code",
   "execution_count": 49,
   "metadata": {},
   "outputs": [],
   "source": [
    "class TransformedTargetForecaster(BaseSktimeForecaster):\n",
    "    \n",
    "    def __init__(self, estimators):\n",
    "        self.estimators = estimators\n",
    "        \n",
    "    def fit(self, y, fh=None, X=None):\n",
    "        _check_estimators(self.estimators)\n",
    "        self.estimators_ = [(name, clone(estimator)) for name, estimator in self.estimators]\n",
    "        \n",
    "        # 1. transform\n",
    "        for i, name, transformer in self.transformers_():\n",
    "            y = transformer.fit_transform(y)\n",
    "            self.estimators_[i] = (name, transformer)\n",
    "            \n",
    "        # 2. fit final forecaster\n",
    "        name, forecaster = self.forecaster_\n",
    "        forecaster.fit(y, fh, X)\n",
    "        self.estimators_[-1] = (name, forecaster)\n",
    "        \n",
    "        self._is_fitted = True\n",
    "        return self\n",
    "    \n",
    "    def predict(self, fh=None, X=None):\n",
    "        self.check_is_fitted()\n",
    "        \n",
    "        # 1. predict\n",
    "        _, forecaster = self.forecaster_\n",
    "        y_pred = forecaster.predict(fh, X)\n",
    "        \n",
    "        # 2. inverse-transform \n",
    "        for _, _, transformer in self.transformers_(reverse=True):\n",
    "            y_pred = transformer.inverse_transform(y_pred)\n",
    "            \n",
    "        return y_pred\n",
    "    \n",
    "    def transformers_(self, reverse=False):\n",
    "        transformers = self.estimators_[:-1]\n",
    "        if reverse:\n",
    "            transformers = reversed(transformers)\n",
    "        for i, (name, transformer) in enumerate(transformers):\n",
    "            yield i, name, transformer        \n",
    "    \n",
    "    @property\n",
    "    def forecaster_(self):\n",
    "        return self.estimators_[-1]"
   ]
  },
  {
   "cell_type": "code",
   "execution_count": 50,
   "metadata": {},
   "outputs": [
    {
     "data": {
      "image/png": "[encoded data removed]",
      "text/plain": [
       "<Figure size 1152x288 with 1 Axes>"
      ]
     },
     "metadata": {
      "needs_background": "light"
     },
     "output_type": "display_data"
    }
   ],
   "source": [
    "pipe = TransformedTargetForecaster([(\"log\", LogTransformer()), (\"forecaster\", forecaster)])\n",
    "pipe.fit(y_train)\n",
    "\n",
    "# tests\n",
    "_data = pipe.forecaster_[-1].forecaster_[-1]._forecaster.model_.arima_res_.data\n",
    "_X = _data.exog\n",
    "assert _X.shape == (y_train.shape[0], k * 2), print(_X.shape)\n",
    "_y = _data.endog\n",
    "np.testing.assert_array_equal(_y, np.log(y_train))\n",
    "\n",
    "y_pred = forecaster.predict(fh)\n",
    "plot_series(y_train, y_test, y_pred, labels=[\"y_train\", \"y_test\", \"y_pred\"]);"
   ]
  },
  {
   "cell_type": "markdown",
   "metadata": {},
   "source": [
    "### Series-as-features setting\n",
    "* use scikit-learn pipeline"
   ]
  },
  {
   "cell_type": "code",
   "execution_count": 51,
   "metadata": {},
   "outputs": [],
   "source": [
    "from sklearn.pipeline import make_pipeline as make_pipeline\n",
    "from sklearn.tree import DecisionTreeClassifier\n",
    "from sklearn.model_selection import train_test_split\n",
    "from sklearn.metrics import confusion_matrix"
   ]
  },
  {
   "cell_type": "code",
   "execution_count": 52,
   "metadata": {},
   "outputs": [
    {
     "data": {
      "text/plain": [
       "array([[69,  0],\n",
       "       [ 0, 56]])"
      ]
     },
     "execution_count": 52,
     "metadata": {},
     "output_type": "execute_result"
    }
   ],
   "source": [
    "X, y = make_classification_problem(n_instances=500, n_columns=2)\n",
    "X += 100\n",
    "X_train, X_test, y_train, y_test = train_test_split(X, y)\n",
    "classifier = make_pipeline(\n",
    "    make_instance_transformer(LogTransformer()),\n",
    "    make_instance_transformer(QuantileTransformer()), \n",
    "    DecisionTreeClassifier())\n",
    "classifier.fit(X_train, y_train)\n",
    "y_pred = classifier.predict(X_test)\n",
    "confusion_matrix(y_test, y_pred)"
   ]
  }
 ],
 "metadata": {
  "kernelspec": {
   "display_name": "Python 3",
   "language": "python",
   "name": "python3"
  },
  "language_info": {
   "codemirror_mode": {
    "name": "ipython",
    "version": 3
   },
   "file_extension": ".py",
   "mimetype": "text/x-python",
   "name": "python",
   "nbconvert_exporter": "python",
   "pygments_lexer": "ipython3",
   "version": "3.7.8"
  }
 },
 "nbformat": 4,
 "nbformat_minor": 4
}
