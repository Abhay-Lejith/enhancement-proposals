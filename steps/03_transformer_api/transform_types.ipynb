{
 "cells": [
  {
   "cell_type": "markdown",
   "metadata": {},
   "source": [
    "# Typing time series transformations\n",
    "\n",
    "## Problem statement\n",
    "Time series data comes in many different forms: univariate or multivariate, a single instances or multiple instances. \n",
    "\n",
    "Correspondingly, there are many different forms of transformations that can be applied to time series data. \n",
    "\n",
    "This is an attempt to organise these transformations into categories with common APIs.\n",
    "\n",
    "1. Find a taxonomy of time series transformations using scientific types based on input and output types\n",
    "2. Develop transformer class structure/hierarchies in Python based on scitype taxonomy"
   ]
  },
  {
   "cell_type": "code",
   "execution_count": 1,
   "metadata": {},
   "outputs": [],
   "source": [
    "from sktime.forecasting.all import *\n",
    "from sktime.forecasting.model_selection import temporal_train_test_split\n",
    "from sklearn.preprocessing import FunctionTransformer\n",
    "from sklearn.base import BaseEstimator\n",
    "import typing\n",
    "from typing import Union, NewType\n",
    "import pandas as pd\n",
    "import numpy as np"
   ]
  },
  {
   "cell_type": "markdown",
   "metadata": {},
   "source": [
    "## Data types\n",
    "\n",
    "### Primitives\n",
    "* single or multiple primitives\n",
    "* primitive types or 1d array "
   ]
  },
  {
   "cell_type": "code",
   "execution_count": 2,
   "metadata": {},
   "outputs": [],
   "source": [
    "# single or mulitple primitives\n",
    "Primitive = Union[np.integer, int, np.float, float, str]\n",
    "Primitives = np.ndarray"
   ]
  },
  {
   "cell_type": "markdown",
   "metadata": {},
   "source": [
    "### Tabular\n",
    "* scikit-learn-like data\n",
    "* 2d arrays: rows represent instances, columns represent variables/features, cells contain Primitives"
   ]
  },
  {
   "cell_type": "code",
   "execution_count": 3,
   "metadata": {},
   "outputs": [],
   "source": [
    "Tabular = Union[pd.DataFrame, np.ndarray]  # 2d arrays"
   ]
  },
  {
   "cell_type": "markdown",
   "metadata": {},
   "source": [
    "### Series\n",
    "* univariate or multivariate\n",
    "* 1d or 2d arrays: rows represent time points, columns represent variables, cells represent observations\n",
    "* observations are Primitives\n",
    "* observations are ordered (usually in time)"
   ]
  },
  {
   "cell_type": "code",
   "execution_count": 4,
   "metadata": {},
   "outputs": [],
   "source": [
    "# univariate or multivariate\n",
    "UnivariateSeries = Union[pd.Series, np.ndarray]\n",
    "MultivariateSeries = Union[pd.DataFrame, np.ndarray]\n",
    "Series = Union[UnivariateSeries, MultivariateSeries]"
   ]
  },
  {
   "cell_type": "code",
   "execution_count": 5,
   "metadata": {},
   "outputs": [],
   "source": [
    "def make_series(n_timepoints=10, n_variables=1):\n",
    "    assert n_timepoints > 1\n",
    "    assert n_variables > 0\n",
    "    index = pd.date_range(\"2020-01-01\", periods=n_timepoints, freq=\"D\")\n",
    "    if n_variables == 1:\n",
    "        return pd.Series(np.random.lognormal(size=n_timepoints), index=index, name=\"Data\")\n",
    "    else:\n",
    "        return pd.DataFrame(np.random.lognormal(size=(n_timepoints, n_variables)), index=index)"
   ]
  },
  {
   "cell_type": "code",
   "execution_count": 6,
   "metadata": {},
   "outputs": [],
   "source": [
    "y = make_series(n_timepoints=10)\n",
    "Y  = make_series(n_timepoints=10, n_variables=3)\n",
    "y_train, y_test = temporal_train_test_split(make_series(n_timepoints=20))"
   ]
  },
  {
   "cell_type": "markdown",
   "metadata": {},
   "source": [
    "### Series-as-features\n",
    "* panel/longitudinal data with multiple instances of univariate/multivariate Series (and potentially Primitives)\n",
    "* nested/3d arrays, potentially also awkward array: rows represent instances, columns represent variables/features, 3rd dimension represents time points"
   ]
  },
  {
   "cell_type": "code",
   "execution_count": 7,
   "metadata": {},
   "outputs": [],
   "source": [
    "SeriesAsFeatures = Union[pd.DataFrame, np.ndarray]"
   ]
  },
  {
   "cell_type": "markdown",
   "metadata": {},
   "source": [
    "## Transformation types\n",
    "\n",
    "### 1. Series -> Primitives\n",
    "* encapsulated in functions - not classes - because not fittable, so no parameters have to be stored (not stateful)\n",
    "* may have tuneable arguments (e.g. which quantile to extract), which can be exposed in comopsitions via FunctionTransformer\n",
    "* optionally, wrapped in classes for convenience\n",
    "\n",
    "#### Examples:\n",
    "* mean\n",
    "* quantile"
   ]
  },
  {
   "cell_type": "code",
   "execution_count": 8,
   "metadata": {},
   "outputs": [],
   "source": [
    "def series_to_primitive(x: Series, **kwargs) -> Primitives:\n",
    "    # non-fittable\n",
    "    pass"
   ]
  },
  {
   "cell_type": "code",
   "execution_count": 9,
   "metadata": {},
   "outputs": [],
   "source": [
    "# example\n",
    "def quantile(x, q=0.5):\n",
    "    # non-fittable\n",
    "    return np.quantile(x, q, axis=0)"
   ]
  },
  {
   "cell_type": "code",
   "execution_count": 10,
   "metadata": {},
   "outputs": [
    {
     "data": {
      "text/plain": [
       "0.8963798444680823"
      ]
     },
     "execution_count": 10,
     "metadata": {},
     "output_type": "execute_result"
    }
   ],
   "source": [
    "quantile(y)"
   ]
  },
  {
   "cell_type": "code",
   "execution_count": 11,
   "metadata": {},
   "outputs": [
    {
     "data": {
      "text/plain": [
       "array([1.88688826, 1.08737922, 1.11028536])"
      ]
     },
     "execution_count": 11,
     "metadata": {},
     "output_type": "execute_result"
    }
   ],
   "source": [
    "quantile(Y)"
   ]
  },
  {
   "cell_type": "code",
   "execution_count": 12,
   "metadata": {},
   "outputs": [
    {
     "data": {
      "text/plain": [
       "0.8963798444680823"
      ]
     },
     "execution_count": 12,
     "metadata": {},
     "output_type": "execute_result"
    }
   ],
   "source": [
    "# turn functions into classes for model composition \n",
    "from sklearn.preprocessing import FunctionTransformer\n",
    "transformer = FunctionTransformer(quantile)\n",
    "transformer.fit_transform(y)"
   ]
  },
  {
   "cell_type": "markdown",
   "metadata": {},
   "source": [
    "#### Aside: Callable transformers\n",
    "Optionally, we can create callable transformers, but not sure if they add much. "
   ]
  },
  {
   "cell_type": "code",
   "execution_count": 13,
   "metadata": {},
   "outputs": [],
   "source": [
    "# alternatively, base class with __call__\n",
    "class _SeriesToPrimitivesTransformer(BaseEstimator):\n",
    "    \n",
    "    def __init__(self, **kwargs):\n",
    "        self.func = None\n",
    "        self.kwargs = kwargs\n",
    "        self._fixed_kwargs = None\n",
    "    \n",
    "    def __call__(self, X: Series, q=0.5) -> Primitives:\n",
    "        # call function with kwargs\n",
    "        # ignore kwargs passed to __init__\n",
    "        return self.func(X, q, **self._fixed_kwargs)\n",
    "    \n",
    "    def fit(self, X: Series, y=None):\n",
    "        # empty fit\n",
    "        return self\n",
    "    \n",
    "    def transform(self, X: Series, y=None) -> Primitives:\n",
    "        return self.func(X, **self.kwargs)\n",
    "    \n",
    "    def fit_transform(self, X: Series, y=None) -> Primitives:\n",
    "        return self.fit(X, y).transform(X, y)\n",
    "    \n",
    "    def inverse_transform(self, X: Series, y=None) -> Primitives:\n",
    "        # any examples of inverse transform? \n",
    "        # all series -> primitive transforms seem lossy \n",
    "        raise NotImplementedError(\"abstract method\")"
   ]
  },
  {
   "cell_type": "code",
   "execution_count": 14,
   "metadata": {},
   "outputs": [],
   "source": [
    "# example\n",
    "class QuantileTransformer(_SeriesToPrimitivesTransformer):\n",
    "    \n",
    "    def __init__(self, q=0.5):\n",
    "        self.q = q\n",
    "        self._fixed_kwargs = {\"axis\": 0}\n",
    "        self.func = np.quantile\n",
    "        \n",
    "    def transform(self, X, y=None):\n",
    "        return self.func(X, self.q, **self._fixed_kwargs)\n",
    "    \n",
    "    def fit_transform(self, X: Series, y=None) -> Primitives:\n",
    "        return self.fit(X, y).transform(X, y)"
   ]
  },
  {
   "cell_type": "code",
   "execution_count": 15,
   "metadata": {},
   "outputs": [
    {
     "data": {
      "text/plain": [
       "0.3723096202400945"
      ]
     },
     "execution_count": 15,
     "metadata": {},
     "output_type": "execute_result"
    }
   ],
   "source": [
    "# call, but not too useful, since we still have to instantiate the class\n",
    "transformer = QuantileTransformer()\n",
    "transformer(y, q=0.25)"
   ]
  },
  {
   "cell_type": "code",
   "execution_count": 16,
   "metadata": {},
   "outputs": [
    {
     "data": {
      "text/plain": [
       "0.3723096202400945"
      ]
     },
     "execution_count": 16,
     "metadata": {},
     "output_type": "execute_result"
    }
   ],
   "source": [
    "transformer = QuantileTransformer(q=0.25)\n",
    "transformer.fit_transform(y)"
   ]
  },
  {
   "cell_type": "markdown",
   "metadata": {},
   "source": [
    "### 2. Series -> Series\n",
    "* may be fittable (e.g. extract AR coefficients from series)\n",
    "* if not fittable, encapsulated as functions, composable via FunctionTransformer, optionally wrapped in classes for convenience\n",
    "* if fittable, encapsulated in classes\n",
    "* input and output of transform may have different number of time points and different index\n",
    "* input and output may have different domain (no longer on the same time line)\n",
    "* in a forecasting pipeline, fit_transform is called before call fit of the final forecaster, and inverse_transform is called after calling predict of the final forecaster\n",
    "\n",
    "#### Examples\n",
    "* Box-Cox transform\n",
    "* logarithm\n",
    "* smoothing, filters\n",
    "* detrender\n",
    "* deseasonalisation \n",
    "* Change point annotator (e.g. returns sequence of change point waiting times)\n",
    "* Adding holiday dummies \n",
    "* Adding Fourier terms"
   ]
  },
  {
   "cell_type": "code",
   "execution_count": 17,
   "metadata": {},
   "outputs": [],
   "source": [
    "def series_to_series(x: Series, **kwargs) -> Series:\n",
    "    # non-fittable\n",
    "    pass"
   ]
  },
  {
   "cell_type": "code",
   "execution_count": 18,
   "metadata": {},
   "outputs": [],
   "source": [
    "def fourier_transform(x): \n",
    "    return np.fft.fft(x, axis=0)"
   ]
  },
  {
   "cell_type": "code",
   "execution_count": 19,
   "metadata": {},
   "outputs": [
    {
     "data": {
      "text/plain": [
       "(10,)"
      ]
     },
     "execution_count": 19,
     "metadata": {},
     "output_type": "execute_result"
    }
   ],
   "source": [
    "fourier_transform(y).shape"
   ]
  },
  {
   "cell_type": "code",
   "execution_count": 20,
   "metadata": {},
   "outputs": [
    {
     "data": {
      "text/plain": [
       "(10, 3)"
      ]
     },
     "execution_count": 20,
     "metadata": {},
     "output_type": "execute_result"
    }
   ],
   "source": [
    "fourier_transform(Y).shape"
   ]
  },
  {
   "cell_type": "code",
   "execution_count": 21,
   "metadata": {},
   "outputs": [
    {
     "data": {
      "text/plain": [
       "(10,)"
      ]
     },
     "execution_count": 21,
     "metadata": {},
     "output_type": "execute_result"
    }
   ],
   "source": [
    "# scikit-learn FunctionTransformer\n",
    "transformer = FunctionTransformer(fourier_transform)\n",
    "transformer.fit_transform(y).shape"
   ]
  },
  {
   "cell_type": "code",
   "execution_count": 22,
   "metadata": {},
   "outputs": [],
   "source": [
    "# bespoke class implementations\n",
    "class _SeriesToSeriesTransformer(BaseEstimator):\n",
    "    \n",
    "    def fit(self, X: Series, y=None):\n",
    "        # empty fit by default, but some series-to-series transformers \n",
    "        # are fittable (detrender)\n",
    "        return self\n",
    "    \n",
    "    def transform(self, X: Series, y=None) -> Series:\n",
    "        raise NotImplementedError(\"abstract method\")\n",
    "        \n",
    "    def inverse_transform(self, X: Series, y=None) -> Series:\n",
    "        raise NotImplementedError(\"abstract method\")\n",
    "    \n",
    "    def fit_transform(self, X: Series, y=None) -> Series:\n",
    "        return self.fit(X, y).transform(X, y)"
   ]
  },
  {
   "cell_type": "code",
   "execution_count": 23,
   "metadata": {},
   "outputs": [],
   "source": [
    "# example\n",
    "class LogTransformer(_SeriesToSeriesTransformer):\n",
    "    \n",
    "    def transform(self, X, y=None):\n",
    "        return np.log(X)\n",
    "    \n",
    "    def inverse_transform(self, X, y=None):\n",
    "        return np.exp(X)"
   ]
  },
  {
   "cell_type": "code",
   "execution_count": 24,
   "metadata": {},
   "outputs": [
    {
     "data": {
      "text/html": [
       "<div>\n",
       "<style scoped>\n",
       "    .dataframe tbody tr th:only-of-type {\n",
       "        vertical-align: middle;\n",
       "    }\n",
       "\n",
       "    .dataframe tbody tr th {\n",
       "        vertical-align: top;\n",
       "    }\n",
       "\n",
       "    .dataframe thead th {\n",
       "        text-align: right;\n",
       "    }\n",
       "</style>\n",
       "<table border=\"1\" class=\"dataframe\">\n",
       "  <thead>\n",
       "    <tr style=\"text-align: right;\">\n",
       "      <th></th>\n",
       "      <th>0</th>\n",
       "      <th>1</th>\n",
       "      <th>2</th>\n",
       "    </tr>\n",
       "  </thead>\n",
       "  <tbody>\n",
       "    <tr>\n",
       "      <th>2020-01-01</th>\n",
       "      <td>0.925512</td>\n",
       "      <td>-1.080309</td>\n",
       "      <td>0.967747</td>\n",
       "    </tr>\n",
       "    <tr>\n",
       "      <th>2020-01-02</th>\n",
       "      <td>0.854787</td>\n",
       "      <td>0.741134</td>\n",
       "      <td>0.193037</td>\n",
       "    </tr>\n",
       "    <tr>\n",
       "      <th>2020-01-03</th>\n",
       "      <td>-1.372045</td>\n",
       "      <td>-1.879808</td>\n",
       "      <td>1.678309</td>\n",
       "    </tr>\n",
       "    <tr>\n",
       "      <th>2020-01-04</th>\n",
       "      <td>0.352699</td>\n",
       "      <td>0.406791</td>\n",
       "      <td>-0.037650</td>\n",
       "    </tr>\n",
       "    <tr>\n",
       "      <th>2020-01-05</th>\n",
       "      <td>-1.643720</td>\n",
       "      <td>-0.704797</td>\n",
       "      <td>2.132498</td>\n",
       "    </tr>\n",
       "    <tr>\n",
       "      <th>2020-01-06</th>\n",
       "      <td>1.025384</td>\n",
       "      <td>-0.126844</td>\n",
       "      <td>0.007614</td>\n",
       "    </tr>\n",
       "    <tr>\n",
       "      <th>2020-01-07</th>\n",
       "      <td>1.045812</td>\n",
       "      <td>0.892483</td>\n",
       "      <td>0.842198</td>\n",
       "    </tr>\n",
       "    <tr>\n",
       "      <th>2020-01-08</th>\n",
       "      <td>2.139739</td>\n",
       "      <td>-0.442389</td>\n",
       "      <td>-1.588591</td>\n",
       "    </tr>\n",
       "    <tr>\n",
       "      <th>2020-01-09</th>\n",
       "      <td>0.307693</td>\n",
       "      <td>0.503993</td>\n",
       "      <td>-0.744695</td>\n",
       "    </tr>\n",
       "    <tr>\n",
       "      <th>2020-01-10</th>\n",
       "      <td>0.239217</td>\n",
       "      <td>0.257651</td>\n",
       "      <td>-0.651471</td>\n",
       "    </tr>\n",
       "  </tbody>\n",
       "</table>\n",
       "</div>"
      ],
      "text/plain": [
       "                   0         1         2\n",
       "2020-01-01  0.925512 -1.080309  0.967747\n",
       "2020-01-02  0.854787  0.741134  0.193037\n",
       "2020-01-03 -1.372045 -1.879808  1.678309\n",
       "2020-01-04  0.352699  0.406791 -0.037650\n",
       "2020-01-05 -1.643720 -0.704797  2.132498\n",
       "2020-01-06  1.025384 -0.126844  0.007614\n",
       "2020-01-07  1.045812  0.892483  0.842198\n",
       "2020-01-08  2.139739 -0.442389 -1.588591\n",
       "2020-01-09  0.307693  0.503993 -0.744695\n",
       "2020-01-10  0.239217  0.257651 -0.651471"
      ]
     },
     "execution_count": 24,
     "metadata": {},
     "output_type": "execute_result"
    }
   ],
   "source": [
    "transformer = LogTransformer()\n",
    "transformer.fit_transform(Y)"
   ]
  },
  {
   "cell_type": "markdown",
   "metadata": {},
   "source": [
    "### Special case: Featurizer\n",
    "In a forecasting pipeline, fit_transform is called before calling fit of the final forecaster and transform is called *before* calling predict of the final forecaster. So, Featurizers need to be aware of the forecasting horizon and need to be able to return transformed data even when y (forecasted values) are not available yet."
   ]
  },
  {
   "cell_type": "code",
   "execution_count": 25,
   "metadata": {},
   "outputs": [],
   "source": [
    "class _SeriesToSeriesFeaturizer(BaseEstimator):\n",
    "    \n",
    "    def fit(self, X: Series, y=None):\n",
    "        # empty fit by default, but some series-to-series transformers \n",
    "        # are fittable (detrender)\n",
    "        return self\n",
    "    \n",
    "    def transform(self, X: Series, y=None) -> [Series, Series]:\n",
    "        raise NotImplementedError(\"abstract method\")\n",
    "        \n",
    "    def inverse_transform(self, X: Series, y=None) -> [Series, Series]:\n",
    "        raise NotImplementedError(\"abstract method\")\n",
    "    \n",
    "    def fit_transform(self, X: Series, y=None) -> [Series, Series]:\n",
    "        return self.fit(X, y).transform(X, y)"
   ]
  },
  {
   "cell_type": "code",
   "execution_count": 96,
   "metadata": {},
   "outputs": [],
   "source": [
    "# examples\n",
    "from pmdarima.preprocessing.exog.fourier import _fourier_terms\n",
    "\n",
    "def _get_index(X=None, y=None):\n",
    "        assert X is not None or y is not None\n",
    "        if X is None:\n",
    "            return y.index\n",
    "        else:\n",
    "            return X.index\n",
    "\n",
    "class HolidayFeaturizer(_SeriesToSeriesTransformer):\n",
    "    \n",
    "    def __init__(self, calendar=None):\n",
    "        self.calendar = calendar\n",
    "    \n",
    "    def transform(self, X, y=None):\n",
    "        index = _get_index(X, y)\n",
    "        start, end = index[0], index[-1]\n",
    "        holidays = self.calendar.holidays(start, end, return_name=True)\n",
    "        if holidays.empty:\n",
    "            return X\n",
    "        \n",
    "        Xt = pd.get_dummies(holidays.reindex(y))\n",
    "        return pd.concat([X, Xt], axis=1)\n",
    "    \n",
    "class FourierFeaturizer(_SeriesToSeriesTransformer):\n",
    "    \n",
    "    def __init__(self, sp=None, k=None):\n",
    "        self.sp = sp\n",
    "        self.k = k\n",
    "        \n",
    "    def fit(self, X, y=None):\n",
    "        index = _get_index(X, y)\n",
    "        assert self.sp is not None\n",
    "        if self.k is None:\n",
    "            k = self.sp // 2\n",
    "        else:\n",
    "            k = self.k\n",
    "            \n",
    "        if 2 * k > self.sp or k < 1:\n",
    "            raise ValueError(\"k must be a positive integer not greater \"\n",
    "                             \"than sp//2\")\n",
    "\n",
    "        # Compute the periods of all Fourier terms. Since R allows multiple\n",
    "        # seasonality and we do not, we can do this much more simply.\n",
    "        p = ((np.arange(k) + 1) / self.sp).astype(np.float64)  # 1:K / m\n",
    "\n",
    "        # If sinpi is 0... maybe blow up?\n",
    "        # if abs(2 * p - round(2 * p)) < np.finfo(y.dtype).eps:  # min eps\n",
    "\n",
    "        self.p_ = p\n",
    "        self.k_ = k\n",
    "        self.n_ = index.shape[0]\n",
    "        self._start = index[0]\n",
    "        self._cutoff = index[-1]\n",
    "        return self\n",
    "    \n",
    "    def transform(self, X, y=None):\n",
    "        index = _get_index(X, y)\n",
    "        # extrapolate fourier terms \n",
    "        fh = ForecastingHorizon(index, is_relative=False)\n",
    "        start = self._start\n",
    "        cutoff = self._cutoff\n",
    "        times = fh.to_absolute_int(start, cutoff).to_numpy(dtype=np.float64) + 1\n",
    "        Xt = pd.DataFrame(_fourier_terms(self.p_, times), index=index)\n",
    "        return pd.concat([X, Xt], axis=1)"
   ]
  },
  {
   "cell_type": "code",
   "execution_count": 98,
   "metadata": {},
   "outputs": [
    {
     "data": {
      "text/html": [
       "<div>\n",
       "<style scoped>\n",
       "    .dataframe tbody tr th:only-of-type {\n",
       "        vertical-align: middle;\n",
       "    }\n",
       "\n",
       "    .dataframe tbody tr th {\n",
       "        vertical-align: top;\n",
       "    }\n",
       "\n",
       "    .dataframe thead th {\n",
       "        text-align: right;\n",
       "    }\n",
       "</style>\n",
       "<table border=\"1\" class=\"dataframe\">\n",
       "  <thead>\n",
       "    <tr style=\"text-align: right;\">\n",
       "      <th></th>\n",
       "      <th>0</th>\n",
       "      <th>1</th>\n",
       "      <th>2</th>\n",
       "      <th>3</th>\n",
       "    </tr>\n",
       "    <tr>\n",
       "      <th>Period</th>\n",
       "      <th></th>\n",
       "      <th></th>\n",
       "      <th></th>\n",
       "      <th></th>\n",
       "    </tr>\n",
       "  </thead>\n",
       "  <tbody>\n",
       "    <tr>\n",
       "      <th>1959-10</th>\n",
       "      <td>-0.866024</td>\n",
       "      <td>0.500002</td>\n",
       "      <td>-0.866027</td>\n",
       "      <td>-0.499997</td>\n",
       "    </tr>\n",
       "    <tr>\n",
       "      <th>1959-11</th>\n",
       "      <td>-0.499998</td>\n",
       "      <td>0.866026</td>\n",
       "      <td>-0.866023</td>\n",
       "      <td>0.500003</td>\n",
       "    </tr>\n",
       "    <tr>\n",
       "      <th>1959-12</th>\n",
       "      <td>0.000002</td>\n",
       "      <td>1.000000</td>\n",
       "      <td>0.000004</td>\n",
       "      <td>1.000000</td>\n",
       "    </tr>\n",
       "    <tr>\n",
       "      <th>1960-01</th>\n",
       "      <td>0.500002</td>\n",
       "      <td>0.866024</td>\n",
       "      <td>0.866027</td>\n",
       "      <td>0.499997</td>\n",
       "    </tr>\n",
       "    <tr>\n",
       "      <th>1960-02</th>\n",
       "      <td>0.866026</td>\n",
       "      <td>0.499998</td>\n",
       "      <td>0.866023</td>\n",
       "      <td>-0.500003</td>\n",
       "    </tr>\n",
       "  </tbody>\n",
       "</table>\n",
       "</div>"
      ],
      "text/plain": [
       "                0         1         2         3\n",
       "Period                                         \n",
       "1959-10 -0.866024  0.500002 -0.866027 -0.499997\n",
       "1959-11 -0.499998  0.866026 -0.866023  0.500003\n",
       "1959-12  0.000002  1.000000  0.000004  1.000000\n",
       "1960-01  0.500002  0.866024  0.866027  0.499997\n",
       "1960-02  0.866026  0.499998  0.866023 -0.500003"
      ]
     },
     "execution_count": 98,
     "metadata": {},
     "output_type": "execute_result"
    }
   ],
   "source": [
    "# fitting \n",
    "X_train = None\n",
    "t = FourierFeaturizer(sp=12, k=2)\n",
    "Xt = t.fit_transform(X_train, y=y_train)\n",
    "Xt.tail(5)"
   ]
  },
  {
   "cell_type": "code",
   "execution_count": 28,
   "metadata": {},
   "outputs": [
    {
     "data": {
      "text/html": [
       "<div>\n",
       "<style scoped>\n",
       "    .dataframe tbody tr th:only-of-type {\n",
       "        vertical-align: middle;\n",
       "    }\n",
       "\n",
       "    .dataframe tbody tr th {\n",
       "        vertical-align: top;\n",
       "    }\n",
       "\n",
       "    .dataframe thead th {\n",
       "        text-align: right;\n",
       "    }\n",
       "</style>\n",
       "<table border=\"1\" class=\"dataframe\">\n",
       "  <thead>\n",
       "    <tr style=\"text-align: right;\">\n",
       "      <th></th>\n",
       "      <th>0</th>\n",
       "      <th>1</th>\n",
       "    </tr>\n",
       "  </thead>\n",
       "  <tbody>\n",
       "    <tr>\n",
       "      <th>2020-01-16</th>\n",
       "      <td>8.660253e-01</td>\n",
       "      <td>-0.500000</td>\n",
       "    </tr>\n",
       "    <tr>\n",
       "      <th>2020-01-17</th>\n",
       "      <td>4.999998e-01</td>\n",
       "      <td>-0.866026</td>\n",
       "    </tr>\n",
       "    <tr>\n",
       "      <th>2020-01-18</th>\n",
       "      <td>-2.622683e-07</td>\n",
       "      <td>-1.000000</td>\n",
       "    </tr>\n",
       "    <tr>\n",
       "      <th>2020-01-19</th>\n",
       "      <td>-5.000002e-01</td>\n",
       "      <td>-0.866025</td>\n",
       "    </tr>\n",
       "    <tr>\n",
       "      <th>2020-01-20</th>\n",
       "      <td>-8.660255e-01</td>\n",
       "      <td>-0.500000</td>\n",
       "    </tr>\n",
       "  </tbody>\n",
       "</table>\n",
       "</div>"
      ],
      "text/plain": [
       "                       0         1\n",
       "2020-01-16  8.660253e-01 -0.500000\n",
       "2020-01-17  4.999998e-01 -0.866026\n",
       "2020-01-18 -2.622683e-07 -1.000000\n",
       "2020-01-19 -5.000002e-01 -0.866025\n",
       "2020-01-20 -8.660255e-01 -0.500000"
      ]
     },
     "execution_count": 28,
     "metadata": {},
     "output_type": "execute_result"
    }
   ],
   "source": [
    "# predicting\n",
    "X_test = None\n",
    "fh = ForecastingHorizon(y_test.index, is_relative=False)\n",
    "\n",
    "# pre-initialised empty y_pred with fh as index\n",
    "if X_test is None:\n",
    "    X_test = pd.DataFrame(index=fh.to_absolute(t._cutoff).to_pandas(), dtype=np.float)\n",
    "X_test = t.transform(X_test)\n",
    "X_test.head(5)"
   ]
  },
  {
   "cell_type": "markdown",
   "metadata": {},
   "source": [
    "### 3. Series-as-features -> Tabular\n",
    "* usually fittable and encapsualted in classes\n",
    "* input of fit and transform always needs to have the same number of columns and time points, but may have different number of instances\n",
    "* input and output of transform always has the same number of instances, but may have different numbers of columns and time points\n",
    "\n",
    "#### Examples\n",
    "* Shapelet transform (returns minimum distance of each instance to found shapelets as tabular matrix)\n",
    "* Feature extractors\n",
    "* Tabularizer/TimeBinner\n",
    "* composite transformers, e.g. applying series-to-primitives transform iteratively over instances/rows"
   ]
  },
  {
   "cell_type": "code",
   "execution_count": 29,
   "metadata": {},
   "outputs": [],
   "source": [
    "class _SeriesAsFeaturesToTabularTransformer(BaseEstimator):\n",
    "\n",
    "    def fit(self, X: SeriesAsFeatures, y=None):\n",
    "        return self\n",
    "        \n",
    "    def transform(self, X: SeriesAsFeatures, y=None) -> Tabular:\n",
    "        return Xt  # tabular\n",
    "\n",
    "    def inverse_transform(self, X: SeriesAsFeatures, y=None) -> Tabular:\n",
    "        return Xt  # tabular\n",
    "    \n",
    "    def fit_transform(self, X: SeriesAsFeatures, y=None) -> Tabular:\n",
    "        return self.fit(X, y).transform(X, y)"
   ]
  },
  {
   "cell_type": "code",
   "execution_count": 30,
   "metadata": {},
   "outputs": [],
   "source": [
    "# example\n",
    "from sktime.transformers.series_as_features.summarize import RandomIntervalFeatureExtractor\n",
    "from sktime.utils._testing import make_classification_problem"
   ]
  },
  {
   "cell_type": "code",
   "execution_count": 31,
   "metadata": {},
   "outputs": [
    {
     "data": {
      "text/html": [
       "<div>\n",
       "<style scoped>\n",
       "    .dataframe tbody tr th:only-of-type {\n",
       "        vertical-align: middle;\n",
       "    }\n",
       "\n",
       "    .dataframe tbody tr th {\n",
       "        vertical-align: top;\n",
       "    }\n",
       "\n",
       "    .dataframe thead th {\n",
       "        text-align: right;\n",
       "    }\n",
       "</style>\n",
       "<table border=\"1\" class=\"dataframe\">\n",
       "  <thead>\n",
       "    <tr style=\"text-align: right;\">\n",
       "      <th></th>\n",
       "      <th>var_5_8_mean</th>\n",
       "      <th>var_16_20_mean</th>\n",
       "      <th>var_16_19_mean</th>\n",
       "      <th>var_2_7_mean</th>\n",
       "    </tr>\n",
       "  </thead>\n",
       "  <tbody>\n",
       "    <tr>\n",
       "      <th>0</th>\n",
       "      <td>0.149379</td>\n",
       "      <td>0.138548</td>\n",
       "      <td>0.017907</td>\n",
       "      <td>0.175457</td>\n",
       "    </tr>\n",
       "    <tr>\n",
       "      <th>1</th>\n",
       "      <td>20.078344</td>\n",
       "      <td>20.031539</td>\n",
       "      <td>20.142636</td>\n",
       "      <td>19.857846</td>\n",
       "    </tr>\n",
       "    <tr>\n",
       "      <th>2</th>\n",
       "      <td>0.017054</td>\n",
       "      <td>-0.147711</td>\n",
       "      <td>-0.457059</td>\n",
       "      <td>-0.117747</td>\n",
       "    </tr>\n",
       "    <tr>\n",
       "      <th>3</th>\n",
       "      <td>0.138872</td>\n",
       "      <td>0.257527</td>\n",
       "      <td>0.146016</td>\n",
       "      <td>0.289496</td>\n",
       "    </tr>\n",
       "    <tr>\n",
       "      <th>4</th>\n",
       "      <td>20.190003</td>\n",
       "      <td>20.441772</td>\n",
       "      <td>20.397972</td>\n",
       "      <td>20.012590</td>\n",
       "    </tr>\n",
       "  </tbody>\n",
       "</table>\n",
       "</div>"
      ],
      "text/plain": [
       "   var_5_8_mean  var_16_20_mean  var_16_19_mean  var_2_7_mean\n",
       "0      0.149379        0.138548        0.017907      0.175457\n",
       "1     20.078344       20.031539       20.142636     19.857846\n",
       "2      0.017054       -0.147711       -0.457059     -0.117747\n",
       "3      0.138872        0.257527        0.146016      0.289496\n",
       "4     20.190003       20.441772       20.397972     20.012590"
      ]
     },
     "execution_count": 31,
     "metadata": {},
     "output_type": "execute_result"
    }
   ],
   "source": [
    "X, y = make_classification_problem()\n",
    "X.columns = [\"var\"]\n",
    "transformer = RandomIntervalFeatureExtractor()\n",
    "Xt = transformer.fit_transform(X)\n",
    "Xt.head()"
   ]
  },
  {
   "cell_type": "code",
   "execution_count": 154,
   "metadata": {},
   "outputs": [],
   "source": [
    "from sklearn.base import clone\n",
    "# example\n",
    "class InstanceTransformer(_SeriesAsFeaturesToTabularTransformer):\n",
    "    \n",
    "    def __init__(self, transformer):\n",
    "        self.transformer = transformer\n",
    "        \n",
    "    def fit(self, X, y=None):\n",
    "        assert isinstance(self.transformer, _SeriesToPrimitivesTransformer), \"transformer must be a SeriesToPrimitivesTransformer\"\n",
    "        transformer = clone(self.transformer)\n",
    "        self.transformer_ = transformer.fit(X, y)\n",
    "        return self\n",
    "    \n",
    "    def transform(self, X, y=None):\n",
    "        assert X.shape[1] == 1, \"X must be univariate\"\n",
    "        Xt = np.zeros((X.shape[0], 1))\n",
    "        for i, (_, x) in enumerate(X.iterrows()):\n",
    "            x = x.iloc[0]  # unnest\n",
    "            Xt[i] = self.transformer_.transform(x)\n",
    "        return Xt"
   ]
  },
  {
   "cell_type": "code",
   "execution_count": 33,
   "metadata": {},
   "outputs": [
    {
     "data": {
      "text/plain": [
       "array([[ 0.28608628],\n",
       "       [19.87889821],\n",
       "       [-0.13511312],\n",
       "       [ 0.29679483],\n",
       "       [20.25555441],\n",
       "       [20.2325113 ],\n",
       "       [ 0.20158374],\n",
       "       [20.00000923],\n",
       "       [20.2050493 ],\n",
       "       [-0.15349801],\n",
       "       [ 0.03472235],\n",
       "       [20.01478622],\n",
       "       [19.85750362],\n",
       "       [ 0.04144365],\n",
       "       [20.10976713],\n",
       "       [20.14862495],\n",
       "       [20.02360902],\n",
       "       [-0.16677571],\n",
       "       [ 0.12237116],\n",
       "       [20.1151807 ]])"
      ]
     },
     "execution_count": 33,
     "metadata": {},
     "output_type": "execute_result"
    }
   ],
   "source": [
    "series_to_primitive_transformer = QuantileTransformer()\n",
    "transformer = InstanceTransformer(series_to_primitive_transformer)\n",
    "transformer.fit_transform(X)"
   ]
  },
  {
   "cell_type": "markdown",
   "metadata": {},
   "source": [
    "### 4. Series-as-features -> Series-as-features\n",
    "* usually fittable and encapsualted in classes\n",
    "* input of fit and transform always needs to have the same number of columns and time points, but may have different number of instances\n",
    "* input and output of transform always has same number of instances, but may have different numbers of columns and time points (including going from time-homogeneous data to time-heterogenous data)\n",
    "\n",
    "#### Examples\n",
    "* dictionary-based transforms \n",
    "* time series segmentation, e.g. splitting a time series columns into multiple ones, see IntervalSegmenter\n",
    "* time series concatenation, e.g. merging multiple time series columns into a single one, see ColumnConcatenator\n",
    "* composite transformers, e.g. applying series-to-series or series-to-primitive transforms iteratively over instances/rows"
   ]
  },
  {
   "cell_type": "code",
   "execution_count": 34,
   "metadata": {},
   "outputs": [],
   "source": [
    "class _SeriesAsFeaturesToSeriesAsFeaturesTransformer(BaseEstimator):\n",
    "\n",
    "    def fit(self, X: SeriesAsFeatures, y=None):\n",
    "        return self\n",
    "        \n",
    "    def transform(self, X: SeriesAsFeatures, y=None) -> SeriesAsFeatures:\n",
    "        return Xt  # tabular\n",
    "\n",
    "    def inverse_transform(self, X: SeriesAsFeatures, y=None) -> SeriesAsFeatures:\n",
    "        return Xt  # tabular\n",
    "    \n",
    "    def fit_transform(self, X: SeriesAsFeatures, y=None) -> SeriesAsFeatures:\n",
    "        return self.fit(X, y).transform(X, y)"
   ]
  },
  {
   "cell_type": "code",
   "execution_count": 35,
   "metadata": {},
   "outputs": [],
   "source": [
    "# example\n",
    "from sktime.transformers.series_as_features.segment import RandomIntervalSegmenter"
   ]
  },
  {
   "cell_type": "code",
   "execution_count": 36,
   "metadata": {},
   "outputs": [
    {
     "name": "stdout",
     "output_type": "stream",
     "text": [
      "[[14 20]\n",
      " [ 2 10]\n",
      " [14 19]]\n"
     ]
    },
    {
     "data": {
      "text/html": [
       "<div>\n",
       "<style scoped>\n",
       "    .dataframe tbody tr th:only-of-type {\n",
       "        vertical-align: middle;\n",
       "    }\n",
       "\n",
       "    .dataframe tbody tr th {\n",
       "        vertical-align: top;\n",
       "    }\n",
       "\n",
       "    .dataframe thead th {\n",
       "        text-align: right;\n",
       "    }\n",
       "</style>\n",
       "<table border=\"1\" class=\"dataframe\">\n",
       "  <thead>\n",
       "    <tr style=\"text-align: right;\">\n",
       "      <th></th>\n",
       "      <th>var_14_20</th>\n",
       "      <th>var_2_10</th>\n",
       "      <th>var_14_19</th>\n",
       "    </tr>\n",
       "  </thead>\n",
       "  <tbody>\n",
       "    <tr>\n",
       "      <th>0</th>\n",
       "      <td>[-0.1664083773079519, -0.4516339022448201, 0.4...</td>\n",
       "      <td>[0.9392444675032071, 0.27832061547204706, -0.3...</td>\n",
       "      <td>[-0.1664083773079519, -0.4516339022448201, 0.4...</td>\n",
       "    </tr>\n",
       "    <tr>\n",
       "      <th>1</th>\n",
       "      <td>[20.31056135404197, 19.717423968674357, 20.222...</td>\n",
       "      <td>[19.40685417867771, 20.12117752219243, 20.0592...</td>\n",
       "      <td>[20.31056135404197, 19.717423968674357, 20.222...</td>\n",
       "    </tr>\n",
       "    <tr>\n",
       "      <th>2</th>\n",
       "      <td>[-0.14273888725784223, 0.16231697757219032, -0...</td>\n",
       "      <td>[-0.3937913346085863, -1.0667649083426463, 0.6...</td>\n",
       "      <td>[-0.14273888725784223, 0.16231697757219032, -0...</td>\n",
       "    </tr>\n",
       "    <tr>\n",
       "      <th>3</th>\n",
       "      <td>[-1.006372348536662, 0.7802004289114629, -0.23...</td>\n",
       "      <td>[-0.5409557883489764, 0.5568230754410223, 0.87...</td>\n",
       "      <td>[-1.006372348536662, 0.7802004289114629, -0.23...</td>\n",
       "    </tr>\n",
       "    <tr>\n",
       "      <th>4</th>\n",
       "      <td>[21.10578997144758, 20.257265898531568, 20.074...</td>\n",
       "      <td>[19.303251450012823, 20.675425620409552, 19.65...</td>\n",
       "      <td>[21.10578997144758, 20.257265898531568, 20.074...</td>\n",
       "    </tr>\n",
       "  </tbody>\n",
       "</table>\n",
       "</div>"
      ],
      "text/plain": [
       "                                           var_14_20  \\\n",
       "0  [-0.1664083773079519, -0.4516339022448201, 0.4...   \n",
       "1  [20.31056135404197, 19.717423968674357, 20.222...   \n",
       "2  [-0.14273888725784223, 0.16231697757219032, -0...   \n",
       "3  [-1.006372348536662, 0.7802004289114629, -0.23...   \n",
       "4  [21.10578997144758, 20.257265898531568, 20.074...   \n",
       "\n",
       "                                            var_2_10  \\\n",
       "0  [0.9392444675032071, 0.27832061547204706, -0.3...   \n",
       "1  [19.40685417867771, 20.12117752219243, 20.0592...   \n",
       "2  [-0.3937913346085863, -1.0667649083426463, 0.6...   \n",
       "3  [-0.5409557883489764, 0.5568230754410223, 0.87...   \n",
       "4  [19.303251450012823, 20.675425620409552, 19.65...   \n",
       "\n",
       "                                           var_14_19  \n",
       "0  [-0.1664083773079519, -0.4516339022448201, 0.4...  \n",
       "1  [20.31056135404197, 19.717423968674357, 20.222...  \n",
       "2  [-0.14273888725784223, 0.16231697757219032, -0...  \n",
       "3  [-1.006372348536662, 0.7802004289114629, -0.23...  \n",
       "4  [21.10578997144758, 20.257265898531568, 20.074...  "
      ]
     },
     "execution_count": 36,
     "metadata": {},
     "output_type": "execute_result"
    }
   ],
   "source": [
    "transformer = RandomIntervalSegmenter(n_intervals=3)\n",
    "Xt = transformer.fit_transform(X)\n",
    "Xt.head()"
   ]
  },
  {
   "cell_type": "markdown",
   "metadata": {},
   "source": [
    "## Pipelining\n",
    "\n",
    "### Forecasting\n",
    "* implement ForecastingPipeline for exogenous transformations\n",
    "* implement TransformedTargetForecaster for endogenous transformations"
   ]
  },
  {
   "cell_type": "code",
   "execution_count": 37,
   "metadata": {},
   "outputs": [],
   "source": [
    "from sktime.forecasting.base._base import BaseForecaster\n",
    "from sktime.forecasting.base._sktime import BaseSktimeForecaster\n",
    "from sktime.forecasting.base._sktime import OptionalForecastingHorizonMixin"
   ]
  },
  {
   "cell_type": "code",
   "execution_count": 105,
   "metadata": {},
   "outputs": [],
   "source": [
    "def _check_estimators(estimators):\n",
    "    assert isinstance(estimators, list)\n",
    "    assert len(estimators) > 0\n",
    "    \n",
    "    for estimator in estimators:\n",
    "        assert isinstance(estimator, tuple)\n",
    "    \n",
    "    names = [name for name, _ in estimators]\n",
    "    assert len(set(names)) == len(names)\n",
    "    \n",
    "    return estimators\n",
    "\n",
    "class ForecastingPipeline(OptionalForecastingHorizonMixin, BaseSktimeForecaster):\n",
    "    \n",
    "    def __init__(self, estimators):\n",
    "        self.estimators = estimators\n",
    "        super(ForecastingPipeline, self).__init__()\n",
    "        \n",
    "    def fit(self, y, X=None, fh=None):\n",
    "        # even though this is a meta-estimator, we need to keep track of fh\n",
    "        # and the cutoff to pre-initialise X in predict if no X is given\n",
    "        self._set_y_X(y, X)\n",
    "        self._set_fh(fh) \n",
    "        \n",
    "        _check_estimators(self.estimators)\n",
    "        \n",
    "        # check and clone estimators \n",
    "        self.estimators_ = [(name, clone(estimator)) for name, estimator in self.estimators]\n",
    "        \n",
    "        # 1. transformations\n",
    "        for i, name, transformer in self.transformers_():\n",
    "            X = transformer.fit_transform(X, y)\n",
    "            self.estimators_[i] = (name, transformer)\n",
    "\n",
    "        # 2. fit final forecaster\n",
    "        name, forecaster = self.forecaster_\n",
    "        forecaster.fit(y, fh=fh, X_train=X)\n",
    "        self.estimators_[-1] = (name, forecaster)\n",
    "        \n",
    "        self._is_fitted = True\n",
    "        return self\n",
    "    \n",
    "    def predict(self, fh=None, X=None):\n",
    "        self.check_is_fitted()\n",
    "        self._set_fh(fh)\n",
    "        \n",
    "        # if no exogneous variables are given, we need to pre-initialise \n",
    "        if X is None:\n",
    "            y_pred = pd.Series(index=self.fh.to_absolute(self.cutoff).to_pandas(), dtype=np.float)\n",
    "        \n",
    "        # 1. exogeneous transformations\n",
    "        for _, _, transformer in self.transformers_():\n",
    "            X = transformer.transform(X, y_pred)\n",
    "        \n",
    "        # 2. prediction\n",
    "        _, forecaster = self.forecaster_\n",
    "        y_pred = forecaster.predict(self.fh, X)\n",
    "            \n",
    "        return y_pred\n",
    "    \n",
    "    def transform(self, y=None, X=None):\n",
    "        self.check_is_fitted()\n",
    "        for i, name, transformer in self.transformers_():\n",
    "            X = transformer.transform(X, y)\n",
    "        return X\n",
    "        \n",
    "    @property\n",
    "    def forecaster_(self):\n",
    "        return self.estimators_[-1]\n",
    "        \n",
    "    def transformers_(self):\n",
    "        transformers = self.estimators_[:-1]\n",
    "        for i, (name, transformer) in enumerate(transformers):\n",
    "            yield i, name, transformer\n",
    "        \n",
    "def make_pipeline(*estimators):\n",
    "    \n",
    "    def _get_name(estimator):\n",
    "        return estimator.__class__.__name__\n",
    "    \n",
    "    estimators = [(_get_name(estimator), estimator) for estimator in estimators]\n",
    "    return ForecastingPipeline(estimators)"
   ]
  },
  {
   "cell_type": "code",
   "execution_count": 123,
   "metadata": {},
   "outputs": [
    {
     "data": {
      "image/png": "[encoded data removed]",
      "text/plain": [
       "<Figure size 1152x288 with 1 Axes>"
      ]
     },
     "metadata": {
      "needs_background": "light"
     },
     "output_type": "display_data"
    }
   ],
   "source": [
    "y = load_airline()\n",
    "k = 6\n",
    "y_train, y_test = temporal_train_test_split(y, test_size=10)\n",
    "fh = ForecastingHorizon(y_test.index, is_relative=False)\n",
    "forecaster = make_pipeline(FourierFeaturizer(sp=12, k=k), AutoARIMA(seasonal=False, max_p=2, max_q=2, max_d=1, suppress_warnings=True))\n",
    "forecaster.fit(y_train)\n",
    "\n",
    "# tests\n",
    "_data = forecaster.forecaster_[-1]._forecaster.model_.arima_res_.data\n",
    "_X = _data.exog\n",
    "assert _X.shape == (y_train.shape[0], k * 2), print(_X.shape)\n",
    "_y = _data.endog\n",
    "np.testing.assert_array_equal(_y, y_train)\n",
    "\n",
    "y_pred = forecaster.predict(fh)\n",
    "plot_series(y_train, y_test, y_pred, labels=[\"y_train\", \"y_test\", \"y_pred\"]);"
   ]
  },
  {
   "cell_type": "code",
   "execution_count": 124,
   "metadata": {},
   "outputs": [],
   "source": [
    "class TransformedTargetForecaster(BaseSktimeForecaster):\n",
    "    \n",
    "    def __init__(self, estimators):\n",
    "        self.estimators = estimators\n",
    "        \n",
    "    def fit(self, y, fh=None, X=None):\n",
    "        _check_estimators(self.estimators)\n",
    "        self.estimators_ = [(name, clone(estimator)) for name, estimator in self.estimators]\n",
    "        \n",
    "        # 1. transform\n",
    "        for i, name, transformer in self.transformers_():\n",
    "            y = transformer.fit_transform(y)\n",
    "            self.estimators_[i] = (name, transformer)\n",
    "            \n",
    "        # 2. fit final forecaster\n",
    "        name, forecaster = self.forecaster_\n",
    "        forecaster.fit(y, fh, X)\n",
    "        self.estimators_[-1] = (name, forecaster)\n",
    "        \n",
    "        self._is_fitted = True\n",
    "        return self\n",
    "    \n",
    "    def predict(self, fh=None, X=None):\n",
    "        self.check_is_fitted()\n",
    "        \n",
    "        # 1. predict\n",
    "        _, forecaster = self.forecaster_\n",
    "        y_pred = forecaster.predict(fh, X)\n",
    "        \n",
    "        # 2. inverse-transform \n",
    "        for _, _, transformer in self.transformers_(reverse=True):\n",
    "            y_pred = transformer.inverse_transform(y_pred)\n",
    "            \n",
    "        return y_pred\n",
    "    \n",
    "    def transformers_(self, reverse=False):\n",
    "        transformers = self.estimators_[:-1]\n",
    "        if reverse:\n",
    "            transformers = reversed(transformers)\n",
    "        for i, (name, transformer) in enumerate(transformers):\n",
    "            yield i, name, transformer        \n",
    "    \n",
    "    @property\n",
    "    def forecaster_(self):\n",
    "        return self.estimators_[-1]"
   ]
  },
  {
   "cell_type": "code",
   "execution_count": 131,
   "metadata": {},
   "outputs": [
    {
     "data": {
      "image/png": "[encoded data removed]",
      "text/plain": [
       "<Figure size 1152x288 with 1 Axes>"
      ]
     },
     "metadata": {
      "needs_background": "light"
     },
     "output_type": "display_data"
    }
   ],
   "source": [
    "pipe = TransformedTargetForecaster([(\"log\", LogTransformer()), (\"forecaster\", forecaster)])\n",
    "pipe.fit(y_train)\n",
    "\n",
    "# tests\n",
    "_data = pipe.forecaster_[-1].forecaster_[-1]._forecaster.model_.arima_res_.data\n",
    "_X = _data.exog\n",
    "assert _X.shape == (y_train.shape[0], k * 2), print(_X.shape)\n",
    "_y = _data.endog\n",
    "np.testing.assert_array_equal(_y, np.log(y_train))\n",
    "\n",
    "y_pred = forecaster.predict(fh)\n",
    "plot_series(y_train, y_test, y_pred, labels=[\"y_train\", \"y_test\", \"y_pred\"]);"
   ]
  },
  {
   "cell_type": "markdown",
   "metadata": {},
   "source": [
    "### Series-as-features setting\n",
    "* use scikit-learn pipeline"
   ]
  },
  {
   "cell_type": "code",
   "execution_count": 155,
   "metadata": {},
   "outputs": [],
   "source": [
    "from sklearn.pipeline import make_pipeline as make_pipeline\n",
    "from sklearn.tree import DecisionTreeClassifier\n",
    "from sklearn.model_selection import train_test_split\n",
    "from sklearn.metrics import confusion_matrix"
   ]
  },
  {
   "cell_type": "code",
   "execution_count": 161,
   "metadata": {},
   "outputs": [
    {
     "data": {
      "text/plain": [
       "array([[75,  0],\n",
       "       [ 0, 50]])"
      ]
     },
     "execution_count": 161,
     "metadata": {},
     "output_type": "execute_result"
    }
   ],
   "source": [
    "X, y = make_classification_problem(n_instances=500, n_columns=1)\n",
    "X_train, X_test, y_train, y_test = train_test_split(X, y)\n",
    "classifier = make_pipeline(InstanceTransformer(QuantileTransformer()), DecisionTreeClassifier())\n",
    "classifier.fit(X_train, y_train)\n",
    "y_pred = classifier.predict(X_test)\n",
    "confusion_matrix(y_test, y_pred)"
   ]
  }
 ],
 "metadata": {
  "kernelspec": {
   "display_name": "Python 3",
   "language": "python",
   "name": "python3"
  },
  "language_info": {
   "codemirror_mode": {
    "name": "ipython",
    "version": 3
   },
   "file_extension": ".py",
   "mimetype": "text/x-python",
   "name": "python",
   "nbconvert_exporter": "python",
   "pygments_lexer": "ipython3",
   "version": "3.7.8"
  }
 },
 "nbformat": 4,
 "nbformat_minor": 4
}
