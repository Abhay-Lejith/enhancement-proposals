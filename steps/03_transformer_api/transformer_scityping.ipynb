{
 "cells": [
  {
   "cell_type": "markdown",
   "metadata": {},
   "source": [
    "# Transformer scientific typing\n",
    "\n",
    "## Problem statement\n",
    "Time series data comes in many different forms: univariate or multivariate, a single instances or multiple instances. \n",
    "\n",
    "Correspondingly, there are many different forms of transformations that can be applied to time series data. \n",
    "\n",
    "This is an attempt to organise these transformations into categories with common APIs.\n",
    "\n",
    "1. Find a taxonomy of time series transformations using scientific types based on input and output types\n",
    "2. Develop transformer class structure/hierarchies in Python based on scitype taxonomy"
   ]
  },
  {
   "cell_type": "code",
   "execution_count": 1,
   "metadata": {},
   "outputs": [],
   "source": [
    "from sktime.forecasting.all import *\n",
    "from sktime.forecasting.model_selection import temporal_train_test_split\n",
    "from sklearn.preprocessing import FunctionTransformer\n",
    "from sklearn.base import BaseEstimator\n",
    "import typing\n",
    "from typing import Union, NewType\n",
    "import pandas as pd\n",
    "import numpy as np"
   ]
  },
  {
   "cell_type": "markdown",
   "metadata": {},
   "source": [
    "## Data types\n",
    "\n",
    "### Primitives\n",
    "* single or multiple primitives\n",
    "* primitive types or 1d array "
   ]
  },
  {
   "cell_type": "code",
   "execution_count": 2,
   "metadata": {},
   "outputs": [],
   "source": [
    "# single or mulitple primitives\n",
    "Primitive = Union[np.integer, int, np.float, float, str]\n",
    "Primitives = np.ndarray"
   ]
  },
  {
   "cell_type": "markdown",
   "metadata": {},
   "source": [
    "### Tabular\n",
    "* scikit-learn-like data\n",
    "* 2d arrays: rows represent instances, columns represent variables/features, cells contain Primitives"
   ]
  },
  {
   "cell_type": "code",
   "execution_count": 3,
   "metadata": {},
   "outputs": [],
   "source": [
    "Tabular = Union[pd.DataFrame, np.ndarray]  # 2d arrays"
   ]
  },
  {
   "cell_type": "markdown",
   "metadata": {},
   "source": [
    "### Series\n",
    "* univariate or multivariate\n",
    "* 1d or 2d arrays: rows represent time points, columns represent variables"
   ]
  },
  {
   "cell_type": "code",
   "execution_count": 4,
   "metadata": {},
   "outputs": [],
   "source": [
    "# univariate or multivariate\n",
    "UnivariateSeries = Union[pd.Series, np.ndarray]\n",
    "MultivariateSeries = Union[pd.DataFrame, np.ndarray]\n",
    "Series = Union[UnivariateSeries, MultivariateSeries]"
   ]
  },
  {
   "cell_type": "code",
   "execution_count": 5,
   "metadata": {},
   "outputs": [],
   "source": [
    "def make_series(n_timepoints=10, n_variables=1):\n",
    "    assert n_timepoints > 1\n",
    "    assert n_variables > 0\n",
    "    index = pd.date_range(\"2020-01-01\", periods=n_timepoints, freq=\"D\")\n",
    "    if n_variables == 1:\n",
    "        return pd.Series(np.random.lognormal(size=n_timepoints), index=index, name=\"Data\")\n",
    "    else:\n",
    "        return pd.DataFrame(np.random.lognormal(size=(n_timepoints, n_variables)), index=index)"
   ]
  },
  {
   "cell_type": "code",
   "execution_count": 6,
   "metadata": {},
   "outputs": [],
   "source": [
    "y = make_series(n_timepoints=10)\n",
    "Y  = make_series(n_timepoints=10, n_variables=3)\n",
    "y_train, y_test = temporal_train_test_split(make_series(n_timepoints=20))"
   ]
  },
  {
   "cell_type": "markdown",
   "metadata": {},
   "source": [
    "### Series-as-features\n",
    "* panel/longitudinal data with multiple instances of Series\n",
    "* univariate or multivariate\n",
    "* nested/3d arrays, potentially also awkward array: rows represent instances, columns represent variables/features, 3rd dimension represents time points"
   ]
  },
  {
   "cell_type": "code",
   "execution_count": 7,
   "metadata": {},
   "outputs": [],
   "source": [
    "SeriesAsFeatures = Union[pd.DataFrame, np.ndarray]"
   ]
  },
  {
   "cell_type": "markdown",
   "metadata": {},
   "source": [
    "## Transformation types\n",
    "\n",
    "### 1. Series -> Primitives\n",
    "* encapsulated in functions - not classes - because not fittable, so no parameters have to be stored (not stateful)\n",
    "* may have tuneable arguments (e.g. which quantile to extract), which can be exposed in comopsitions via FunctionTransformer\n",
    "* optionally, wrapped in classes for convenience\n",
    "\n",
    "#### Examples:\n",
    "* mean\n",
    "* quantile"
   ]
  },
  {
   "cell_type": "code",
   "execution_count": 8,
   "metadata": {},
   "outputs": [],
   "source": [
    "def series_to_primitive(x: Series, **kwargs) -> Primitives:\n",
    "    # non-fittable\n",
    "    pass"
   ]
  },
  {
   "cell_type": "code",
   "execution_count": 9,
   "metadata": {},
   "outputs": [],
   "source": [
    "# example\n",
    "def quantile(x, q=0.5):\n",
    "    # non-fittable\n",
    "    return np.quantile(x, q, axis=0)"
   ]
  },
  {
   "cell_type": "code",
   "execution_count": 10,
   "metadata": {},
   "outputs": [
    {
     "data": {
      "text/plain": [
       "1.7283128500854787"
      ]
     },
     "execution_count": 10,
     "metadata": {},
     "output_type": "execute_result"
    }
   ],
   "source": [
    "quantile(y)"
   ]
  },
  {
   "cell_type": "code",
   "execution_count": 11,
   "metadata": {},
   "outputs": [
    {
     "data": {
      "text/plain": [
       "array([0.93919498, 0.566029  , 0.79750065])"
      ]
     },
     "execution_count": 11,
     "metadata": {},
     "output_type": "execute_result"
    }
   ],
   "source": [
    "quantile(Y)"
   ]
  },
  {
   "cell_type": "code",
   "execution_count": 12,
   "metadata": {},
   "outputs": [
    {
     "data": {
      "text/plain": [
       "1.7283128500854787"
      ]
     },
     "execution_count": 12,
     "metadata": {},
     "output_type": "execute_result"
    }
   ],
   "source": [
    "# turn functions into classes for model composition \n",
    "from sklearn.preprocessing import FunctionTransformer\n",
    "transformer = FunctionTransformer(quantile)\n",
    "transformer.fit_transform(y)"
   ]
  },
  {
   "cell_type": "markdown",
   "metadata": {},
   "source": [
    "#### Aside: Callable transformers\n",
    "Optionally, we can create callable transformers, but not sure if they add much. "
   ]
  },
  {
   "cell_type": "code",
   "execution_count": 13,
   "metadata": {},
   "outputs": [],
   "source": [
    "# alternatively, base class with __call__\n",
    "class _SeriesToPrimitivesTransformer(BaseEstimator):\n",
    "    \n",
    "    def __init__(self, **kwargs):\n",
    "        self.func = None\n",
    "        self.kwargs = kwargs\n",
    "        self._fixed_kwargs = None\n",
    "    \n",
    "    def __call__(self, X: Series, q=0.5) -> Primitives:\n",
    "        # call function with kwargs\n",
    "        # ignore kwargs passed to __init__\n",
    "        return self.func(X, q, **self._fixed_kwargs)\n",
    "    \n",
    "    def fit(self, X: Series, y=None):\n",
    "        # empty fit\n",
    "        return self\n",
    "    \n",
    "    def transform(self, X: Series, y=None) -> Primitives:\n",
    "        return self.func(X, **self.kwargs)\n",
    "    \n",
    "    def fit_transform(self, X: Series, y=None) -> Primitives:\n",
    "        return self.fit(X, y).transform(X, y)\n",
    "    \n",
    "    def inverse_transform(self, X: Series, y=None) -> Primitives:\n",
    "        # any examples of inverse transform? \n",
    "        # all series -> primitive transforms seem lossy \n",
    "        raise NotImplementedError(\"abstract method\")"
   ]
  },
  {
   "cell_type": "code",
   "execution_count": 14,
   "metadata": {},
   "outputs": [],
   "source": [
    "# example\n",
    "class QuantileTransformer(_SeriesToPrimitivesTransformer):\n",
    "    \n",
    "    def __init__(self, q=0.5):\n",
    "        self.q = q\n",
    "        self._fixed_kwargs = {\"axis\": 0}\n",
    "        self.func = np.quantile\n",
    "        \n",
    "    def transform(self, X, y=None):\n",
    "        return self.func(X, self.q, **self._fixed_kwargs)\n",
    "    \n",
    "    def fit_transform(self, X: Series, y=None) -> Primitives:\n",
    "        return self.fit(X, y).transform(X, y)"
   ]
  },
  {
   "cell_type": "code",
   "execution_count": 15,
   "metadata": {},
   "outputs": [
    {
     "data": {
      "text/plain": [
       "1.072241053089623"
      ]
     },
     "execution_count": 15,
     "metadata": {},
     "output_type": "execute_result"
    }
   ],
   "source": [
    "# call, but not too useful, since we still have to instantiate the class\n",
    "transformer = QuantileTransformer()\n",
    "transformer(y, q=0.25)"
   ]
  },
  {
   "cell_type": "code",
   "execution_count": 16,
   "metadata": {},
   "outputs": [
    {
     "data": {
      "text/plain": [
       "1.072241053089623"
      ]
     },
     "execution_count": 16,
     "metadata": {},
     "output_type": "execute_result"
    }
   ],
   "source": [
    "transformer = QuantileTransformer(q=0.25)\n",
    "transformer.fit_transform(y)"
   ]
  },
  {
   "cell_type": "markdown",
   "metadata": {},
   "source": [
    "### 2. Series -> Series\n",
    "* may be fittable (e.g. extract AR coefficients from series)\n",
    "* if not fittable, encapsulated as functions, composable via FunctionTransformer, optionally wrapped in classes for convenience\n",
    "* if fittable, encapsulated in classes\n",
    "* input and output of transform may have different number of time points and different index\n",
    "* input and output may have different domain (no longer on the same time line)\n",
    "* in a forecasting pipeline, fit_transform is called before call fit of the final forecaster, and inverse_transform is called after calling predict of the final forecaster\n",
    "\n",
    "#### Examples\n",
    "* Box-Cox transform\n",
    "* logarithm\n",
    "* smoothing, filters\n",
    "* detrender\n",
    "* deseasonalisation \n",
    "* Change point annotator (e.g. returns sequence of change point waiting times)\n",
    "* Adding holiday dummies \n",
    "* Adding Fourier terms"
   ]
  },
  {
   "cell_type": "code",
   "execution_count": 17,
   "metadata": {},
   "outputs": [],
   "source": [
    "def series_to_series(x: Series, **kwargs) -> Series:\n",
    "    # non-fittable\n",
    "    pass"
   ]
  },
  {
   "cell_type": "code",
   "execution_count": 18,
   "metadata": {},
   "outputs": [],
   "source": [
    "def fourier_transform(x): \n",
    "    return np.fft.fft(x, axis=0)"
   ]
  },
  {
   "cell_type": "code",
   "execution_count": 19,
   "metadata": {},
   "outputs": [
    {
     "data": {
      "text/plain": [
       "(10,)"
      ]
     },
     "execution_count": 19,
     "metadata": {},
     "output_type": "execute_result"
    }
   ],
   "source": [
    "fourier_transform(y).shape"
   ]
  },
  {
   "cell_type": "code",
   "execution_count": 20,
   "metadata": {},
   "outputs": [
    {
     "data": {
      "text/plain": [
       "(10, 3)"
      ]
     },
     "execution_count": 20,
     "metadata": {},
     "output_type": "execute_result"
    }
   ],
   "source": [
    "fourier_transform(Y).shape"
   ]
  },
  {
   "cell_type": "code",
   "execution_count": 21,
   "metadata": {},
   "outputs": [
    {
     "data": {
      "text/plain": [
       "(10,)"
      ]
     },
     "execution_count": 21,
     "metadata": {},
     "output_type": "execute_result"
    }
   ],
   "source": [
    "# scikit-learn FunctionTransformer\n",
    "transformer = FunctionTransformer(fourier_transform)\n",
    "transformer.fit_transform(y).shape"
   ]
  },
  {
   "cell_type": "code",
   "execution_count": 22,
   "metadata": {},
   "outputs": [],
   "source": [
    "# bespoke class implementations\n",
    "class _SeriesToSeriesTransformer(BaseEstimator):\n",
    "    \n",
    "    def fit(self, X: Series, y=None):\n",
    "        # empty fit by default, but some series-to-series transformers \n",
    "        # are fittable (detrender)\n",
    "        return self\n",
    "    \n",
    "    def transform(self, X: Series, y=None) -> Series:\n",
    "        raise NotImplementedError(\"abstract method\")\n",
    "        \n",
    "    def inverse_transform(self, X: Series, y=None) -> Series:\n",
    "        raise NotImplementedError(\"abstract method\")\n",
    "    \n",
    "    def fit_transform(self, X: Series, y=None) -> Series:\n",
    "        return self.fit(X, y).transform(X, y)"
   ]
  },
  {
   "cell_type": "code",
   "execution_count": 23,
   "metadata": {},
   "outputs": [],
   "source": [
    "# example\n",
    "class LogTransformer(_SeriesToSeriesTransformer):\n",
    "    \n",
    "    def transform(self, X, y=None):\n",
    "        return np.log(X)\n",
    "    \n",
    "    def inverse_transform(self, X, y=None):\n",
    "        return np.exp(X)"
   ]
  },
  {
   "cell_type": "code",
   "execution_count": 24,
   "metadata": {},
   "outputs": [
    {
     "data": {
      "text/html": [
       "<div>\n",
       "<style scoped>\n",
       "    .dataframe tbody tr th:only-of-type {\n",
       "        vertical-align: middle;\n",
       "    }\n",
       "\n",
       "    .dataframe tbody tr th {\n",
       "        vertical-align: top;\n",
       "    }\n",
       "\n",
       "    .dataframe thead th {\n",
       "        text-align: right;\n",
       "    }\n",
       "</style>\n",
       "<table border=\"1\" class=\"dataframe\">\n",
       "  <thead>\n",
       "    <tr style=\"text-align: right;\">\n",
       "      <th></th>\n",
       "      <th>0</th>\n",
       "      <th>1</th>\n",
       "      <th>2</th>\n",
       "    </tr>\n",
       "  </thead>\n",
       "  <tbody>\n",
       "    <tr>\n",
       "      <th>2020-01-01</th>\n",
       "      <td>-0.601309</td>\n",
       "      <td>-1.270153</td>\n",
       "      <td>-0.527131</td>\n",
       "    </tr>\n",
       "    <tr>\n",
       "      <th>2020-01-02</th>\n",
       "      <td>-2.026348</td>\n",
       "      <td>-0.607713</td>\n",
       "      <td>-0.496220</td>\n",
       "    </tr>\n",
       "    <tr>\n",
       "      <th>2020-01-03</th>\n",
       "      <td>1.610769</td>\n",
       "      <td>-0.531942</td>\n",
       "      <td>0.019720</td>\n",
       "    </tr>\n",
       "    <tr>\n",
       "      <th>2020-01-04</th>\n",
       "      <td>-0.424994</td>\n",
       "      <td>-1.389078</td>\n",
       "      <td>1.048512</td>\n",
       "    </tr>\n",
       "    <tr>\n",
       "      <th>2020-01-05</th>\n",
       "      <td>0.902997</td>\n",
       "      <td>2.150501</td>\n",
       "      <td>-1.338515</td>\n",
       "    </tr>\n",
       "    <tr>\n",
       "      <th>2020-01-06</th>\n",
       "      <td>0.202628</td>\n",
       "      <td>0.454866</td>\n",
       "      <td>-0.680210</td>\n",
       "    </tr>\n",
       "    <tr>\n",
       "      <th>2020-01-07</th>\n",
       "      <td>0.894125</td>\n",
       "      <td>1.227955</td>\n",
       "      <td>-0.013923</td>\n",
       "    </tr>\n",
       "    <tr>\n",
       "      <th>2020-01-08</th>\n",
       "      <td>0.230705</td>\n",
       "      <td>-1.164551</td>\n",
       "      <td>0.239025</td>\n",
       "    </tr>\n",
       "    <tr>\n",
       "      <th>2020-01-09</th>\n",
       "      <td>-0.793806</td>\n",
       "      <td>0.392698</td>\n",
       "      <td>1.206601</td>\n",
       "    </tr>\n",
       "    <tr>\n",
       "      <th>2020-01-10</th>\n",
       "      <td>-0.573338</td>\n",
       "      <td>-0.620723</td>\n",
       "      <td>-1.417919</td>\n",
       "    </tr>\n",
       "  </tbody>\n",
       "</table>\n",
       "</div>"
      ],
      "text/plain": [
       "                   0         1         2\n",
       "2020-01-01 -0.601309 -1.270153 -0.527131\n",
       "2020-01-02 -2.026348 -0.607713 -0.496220\n",
       "2020-01-03  1.610769 -0.531942  0.019720\n",
       "2020-01-04 -0.424994 -1.389078  1.048512\n",
       "2020-01-05  0.902997  2.150501 -1.338515\n",
       "2020-01-06  0.202628  0.454866 -0.680210\n",
       "2020-01-07  0.894125  1.227955 -0.013923\n",
       "2020-01-08  0.230705 -1.164551  0.239025\n",
       "2020-01-09 -0.793806  0.392698  1.206601\n",
       "2020-01-10 -0.573338 -0.620723 -1.417919"
      ]
     },
     "execution_count": 24,
     "metadata": {},
     "output_type": "execute_result"
    }
   ],
   "source": [
    "transformer = LogTransformer()\n",
    "transformer.fit_transform(Y)"
   ]
  },
  {
   "cell_type": "markdown",
   "metadata": {},
   "source": [
    "### Special case: Featurizer\n",
    "In a forecasting pipeline, fit_transform is called before calling fit of the final forecaster and transform is called *before* calling predict of the final forecaster. So, Featurizers need to be aware of the forecasting horizon and need to be able to return transformed data even when y (forecasted values) are not available yet."
   ]
  },
  {
   "cell_type": "code",
   "execution_count": 25,
   "metadata": {},
   "outputs": [],
   "source": [
    "class _SeriesToSeriesFeaturizer(BaseEstimator):\n",
    "    \n",
    "    def fit(self, X: Series, y=None):\n",
    "        # empty fit by default, but some series-to-series transformers \n",
    "        # are fittable (detrender)\n",
    "        return self\n",
    "    \n",
    "    def transform(self, X: Series, y=None) -> [Series, Series]:\n",
    "        raise NotImplementedError(\"abstract method\")\n",
    "        \n",
    "    def inverse_transform(self, X: Series, y=None) -> [Series, Series]:\n",
    "        raise NotImplementedError(\"abstract method\")\n",
    "    \n",
    "    def fit_transform(self, X: Series, y=None) -> [Series, Series]:\n",
    "        return self.fit(X, y).transform(X, y)"
   ]
  },
  {
   "cell_type": "code",
   "execution_count": 26,
   "metadata": {},
   "outputs": [],
   "source": [
    "# examples\n",
    "from pmdarima.preprocessing.exog.fourier import _fourier_terms\n",
    "\n",
    "def _get_index(X=None, y=None):\n",
    "        assert X is not None or y is not None\n",
    "        if X is None:\n",
    "            return y.index\n",
    "        else:\n",
    "            return X.index\n",
    "\n",
    "class HolidayFeaturizer(_SeriesToSeriesTransformer):\n",
    "    \n",
    "    def __init__(self, calendar=None):\n",
    "        self.calendar = calendar\n",
    "    \n",
    "    def transform(self, X, y=None):\n",
    "        index = _get_index(X, y)\n",
    "        start, end = index[0], index[-1]\n",
    "        holidays = self.calendar.holidays(start, end, return_name=True)\n",
    "        if holidays.empty:\n",
    "            return X\n",
    "        \n",
    "        Xt = pd.get_dummies(holidays.reindex(y))\n",
    "        return pd.concat([X, Xt], axis=1)\n",
    "    \n",
    "class FourierFeaturizer(_SeriesToSeriesTransformer):\n",
    "    \n",
    "    def __init__(self, sp=None, k=None):\n",
    "        self.sp = sp\n",
    "        self.k = k\n",
    "        \n",
    "    def fit(self, X, y=None):\n",
    "        index = _get_index(X, y)\n",
    "        assert self.sp is not None\n",
    "        if self.k is None:\n",
    "            k = self.sp // 2\n",
    "        else:\n",
    "            k = self.k\n",
    "            \n",
    "        if 2 * k > self.sp or k < 1:\n",
    "            raise ValueError(\"k must be a positive integer not greater \"\n",
    "                             \"than sp//2\")\n",
    "\n",
    "        # Compute the periods of all Fourier terms. Since R allows multiple\n",
    "        # seasonality and we do not, we can do this much more simply.\n",
    "        p = ((np.arange(k) + 1) / self.sp).astype(np.float64)  # 1:K / m\n",
    "\n",
    "        # If sinpi is 0... maybe blow up?\n",
    "        # if abs(2 * p - round(2 * p)) < np.finfo(y.dtype).eps:  # min eps\n",
    "\n",
    "        self.p_ = p\n",
    "        self.k_ = k\n",
    "        self.n_ = index.shape[0]\n",
    "        self._start = index[0]\n",
    "        self._cutoff = index[-1]\n",
    "        return self\n",
    "    \n",
    "    def transform(self, X, y=None):\n",
    "        index = _get_index(X, y)\n",
    "        # extrapolate fourier terms \n",
    "        fh = ForecastingHorizon(index, is_relative=False)\n",
    "        start = self._start\n",
    "        cutoff = self._cutoff\n",
    "        times = fh.to_absolute_int(start, cutoff).to_numpy(dtype=np.float64) + 1\n",
    "        Xt = pd.DataFrame(_fourier_terms(t.p_, times), index=index)\n",
    "        return pd.concat([X, Xt], axis=1)"
   ]
  },
  {
   "cell_type": "code",
   "execution_count": 27,
   "metadata": {},
   "outputs": [
    {
     "data": {
      "text/html": [
       "<div>\n",
       "<style scoped>\n",
       "    .dataframe tbody tr th:only-of-type {\n",
       "        vertical-align: middle;\n",
       "    }\n",
       "\n",
       "    .dataframe tbody tr th {\n",
       "        vertical-align: top;\n",
       "    }\n",
       "\n",
       "    .dataframe thead th {\n",
       "        text-align: right;\n",
       "    }\n",
       "</style>\n",
       "<table border=\"1\" class=\"dataframe\">\n",
       "  <thead>\n",
       "    <tr style=\"text-align: right;\">\n",
       "      <th></th>\n",
       "      <th>0</th>\n",
       "      <th>1</th>\n",
       "    </tr>\n",
       "  </thead>\n",
       "  <tbody>\n",
       "    <tr>\n",
       "      <th>2020-01-11</th>\n",
       "      <td>-4.999999e-01</td>\n",
       "      <td>8.660255e-01</td>\n",
       "    </tr>\n",
       "    <tr>\n",
       "      <th>2020-01-12</th>\n",
       "      <td>1.748456e-07</td>\n",
       "      <td>1.000000e+00</td>\n",
       "    </tr>\n",
       "    <tr>\n",
       "      <th>2020-01-13</th>\n",
       "      <td>5.000002e-01</td>\n",
       "      <td>8.660253e-01</td>\n",
       "    </tr>\n",
       "    <tr>\n",
       "      <th>2020-01-14</th>\n",
       "      <td>8.660255e-01</td>\n",
       "      <td>4.999998e-01</td>\n",
       "    </tr>\n",
       "    <tr>\n",
       "      <th>2020-01-15</th>\n",
       "      <td>1.000000e+00</td>\n",
       "      <td>-2.185570e-07</td>\n",
       "    </tr>\n",
       "  </tbody>\n",
       "</table>\n",
       "</div>"
      ],
      "text/plain": [
       "                       0             1\n",
       "2020-01-11 -4.999999e-01  8.660255e-01\n",
       "2020-01-12  1.748456e-07  1.000000e+00\n",
       "2020-01-13  5.000002e-01  8.660253e-01\n",
       "2020-01-14  8.660255e-01  4.999998e-01\n",
       "2020-01-15  1.000000e+00 -2.185570e-07"
      ]
     },
     "execution_count": 27,
     "metadata": {},
     "output_type": "execute_result"
    }
   ],
   "source": [
    "# fitting \n",
    "X_train = None\n",
    "t = FourierFeaturizer(sp=12, k=1)\n",
    "Xt = t.fit_transform(X_train, y=y_train)\n",
    "Xt.tail(5)"
   ]
  },
  {
   "cell_type": "code",
   "execution_count": 28,
   "metadata": {},
   "outputs": [
    {
     "data": {
      "text/html": [
       "<div>\n",
       "<style scoped>\n",
       "    .dataframe tbody tr th:only-of-type {\n",
       "        vertical-align: middle;\n",
       "    }\n",
       "\n",
       "    .dataframe tbody tr th {\n",
       "        vertical-align: top;\n",
       "    }\n",
       "\n",
       "    .dataframe thead th {\n",
       "        text-align: right;\n",
       "    }\n",
       "</style>\n",
       "<table border=\"1\" class=\"dataframe\">\n",
       "  <thead>\n",
       "    <tr style=\"text-align: right;\">\n",
       "      <th></th>\n",
       "      <th>0</th>\n",
       "      <th>1</th>\n",
       "    </tr>\n",
       "  </thead>\n",
       "  <tbody>\n",
       "    <tr>\n",
       "      <th>2020-01-16</th>\n",
       "      <td>8.660253e-01</td>\n",
       "      <td>-0.500000</td>\n",
       "    </tr>\n",
       "    <tr>\n",
       "      <th>2020-01-17</th>\n",
       "      <td>4.999998e-01</td>\n",
       "      <td>-0.866026</td>\n",
       "    </tr>\n",
       "    <tr>\n",
       "      <th>2020-01-18</th>\n",
       "      <td>-2.622683e-07</td>\n",
       "      <td>-1.000000</td>\n",
       "    </tr>\n",
       "    <tr>\n",
       "      <th>2020-01-19</th>\n",
       "      <td>-5.000002e-01</td>\n",
       "      <td>-0.866025</td>\n",
       "    </tr>\n",
       "    <tr>\n",
       "      <th>2020-01-20</th>\n",
       "      <td>-8.660255e-01</td>\n",
       "      <td>-0.500000</td>\n",
       "    </tr>\n",
       "  </tbody>\n",
       "</table>\n",
       "</div>"
      ],
      "text/plain": [
       "                       0         1\n",
       "2020-01-16  8.660253e-01 -0.500000\n",
       "2020-01-17  4.999998e-01 -0.866026\n",
       "2020-01-18 -2.622683e-07 -1.000000\n",
       "2020-01-19 -5.000002e-01 -0.866025\n",
       "2020-01-20 -8.660255e-01 -0.500000"
      ]
     },
     "execution_count": 28,
     "metadata": {},
     "output_type": "execute_result"
    }
   ],
   "source": [
    "# predicting\n",
    "X_test = None\n",
    "fh = ForecastingHorizon(y_test.index, is_relative=False)\n",
    "\n",
    "# pre-initialised empty y_pred with fh as index\n",
    "if X_test is None:\n",
    "    X_test = pd.DataFrame(index=fh.to_absolute(t._cutoff).to_pandas(), dtype=np.float)\n",
    "X_test = t.transform(X_test)\n",
    "X_test.head(5)"
   ]
  },
  {
   "cell_type": "markdown",
   "metadata": {},
   "source": [
    "### 3. Series-as-features -> Tabular\n",
    "* usually fittable and encapsualted in classes\n",
    "* input of fit and transform always needs to have the same number of columns and time points, but may have different number of instances\n",
    "* input and output of transform always has the same number of instances, but may have different numbers of columns and time points\n",
    "\n",
    "#### Examples\n",
    "* Shapelet transform (returns minimum distance of each instance to found shapelets as tabular matrix)\n",
    "* Feature extractors\n",
    "* Tabularizer/TimeBinner\n",
    "* composite transformers, e.g. applying series-to-primitives transform iteratively over instances/rows"
   ]
  },
  {
   "cell_type": "code",
   "execution_count": 29,
   "metadata": {},
   "outputs": [],
   "source": [
    "class _SeriesAsFeaturesToTabularTransformer:\n",
    "\n",
    "    def fit(self, X: SeriesAsFeatures, y=None):\n",
    "        return self\n",
    "        \n",
    "    def transform(self, X: SeriesAsFeatures, y=None) -> Tabular:\n",
    "        return Xt  # tabular\n",
    "\n",
    "    def inverse_transform(self, X: SeriesAsFeatures, y=None) -> Tabular:\n",
    "        return Xt  # tabular\n",
    "    \n",
    "    def fit_transform(self, X: SeriesAsFeatures, y=None) -> Tabular:\n",
    "        return self.fit(X, y).transform(X, y)"
   ]
  },
  {
   "cell_type": "code",
   "execution_count": 30,
   "metadata": {},
   "outputs": [],
   "source": [
    "# example\n",
    "from sktime.transformers.series_as_features.summarize import RandomIntervalFeatureExtractor\n",
    "from sktime.utils._testing import make_classification_problem"
   ]
  },
  {
   "cell_type": "code",
   "execution_count": 31,
   "metadata": {},
   "outputs": [
    {
     "data": {
      "text/html": [
       "<div>\n",
       "<style scoped>\n",
       "    .dataframe tbody tr th:only-of-type {\n",
       "        vertical-align: middle;\n",
       "    }\n",
       "\n",
       "    .dataframe tbody tr th {\n",
       "        vertical-align: top;\n",
       "    }\n",
       "\n",
       "    .dataframe thead th {\n",
       "        text-align: right;\n",
       "    }\n",
       "</style>\n",
       "<table border=\"1\" class=\"dataframe\">\n",
       "  <thead>\n",
       "    <tr style=\"text-align: right;\">\n",
       "      <th></th>\n",
       "      <th>var_3_9_mean</th>\n",
       "      <th>var_11_13_mean</th>\n",
       "      <th>var_6_14_mean</th>\n",
       "      <th>var_11_16_mean</th>\n",
       "    </tr>\n",
       "  </thead>\n",
       "  <tbody>\n",
       "    <tr>\n",
       "      <th>0</th>\n",
       "      <td>-0.082192</td>\n",
       "      <td>0.120047</td>\n",
       "      <td>0.042570</td>\n",
       "      <td>-0.013457</td>\n",
       "    </tr>\n",
       "    <tr>\n",
       "      <th>1</th>\n",
       "      <td>20.188997</td>\n",
       "      <td>20.038806</td>\n",
       "      <td>20.079160</td>\n",
       "      <td>20.000210</td>\n",
       "    </tr>\n",
       "    <tr>\n",
       "      <th>2</th>\n",
       "      <td>0.038663</td>\n",
       "      <td>0.247701</td>\n",
       "      <td>0.144171</td>\n",
       "      <td>0.253148</td>\n",
       "    </tr>\n",
       "    <tr>\n",
       "      <th>3</th>\n",
       "      <td>0.122148</td>\n",
       "      <td>0.406688</td>\n",
       "      <td>0.320673</td>\n",
       "      <td>0.219109</td>\n",
       "    </tr>\n",
       "    <tr>\n",
       "      <th>4</th>\n",
       "      <td>0.073882</td>\n",
       "      <td>0.080773</td>\n",
       "      <td>0.142635</td>\n",
       "      <td>0.373833</td>\n",
       "    </tr>\n",
       "  </tbody>\n",
       "</table>\n",
       "</div>"
      ],
      "text/plain": [
       "   var_3_9_mean  var_11_13_mean  var_6_14_mean  var_11_16_mean\n",
       "0     -0.082192        0.120047       0.042570       -0.013457\n",
       "1     20.188997       20.038806      20.079160       20.000210\n",
       "2      0.038663        0.247701       0.144171        0.253148\n",
       "3      0.122148        0.406688       0.320673        0.219109\n",
       "4      0.073882        0.080773       0.142635        0.373833"
      ]
     },
     "execution_count": 31,
     "metadata": {},
     "output_type": "execute_result"
    }
   ],
   "source": [
    "X, y = make_classification_problem()\n",
    "X.columns = [\"var\"]\n",
    "transformer = RandomIntervalFeatureExtractor()\n",
    "Xt = transformer.fit_transform(X)\n",
    "Xt.head()"
   ]
  },
  {
   "cell_type": "code",
   "execution_count": 32,
   "metadata": {},
   "outputs": [],
   "source": [
    "from sklearn.base import clone\n",
    "# example\n",
    "class InstanceTransformer(_SeriesAsFeaturesToTabularTransformer):\n",
    "    \n",
    "    def __init__(self, transformer):\n",
    "        self.transformer = transformer\n",
    "        \n",
    "    def fit(self, X, y=None):\n",
    "        assert isinstance(self.transformer, _SeriesToPrimitivesTransformer), \"transformer must be a SeriesToPrimitivesTransformer\"\n",
    "        transformer = clone(self.transformer)\n",
    "        self.transformer_ = transformer.fit(X, y)\n",
    "        return self\n",
    "    \n",
    "    def transform(self, X, y=None):\n",
    "        assert X.shape[1] == 1, \"X must be univariate\"\n",
    "        Xt = np.zeros((X.shape[0], 1))\n",
    "        for i, (_, x) in enumerate(X.iterrows()):\n",
    "            x = x.iloc[0]  # unnest\n",
    "            Xt[i] = self.transformer_.transform(x)\n",
    "        return Xt"
   ]
  },
  {
   "cell_type": "code",
   "execution_count": 33,
   "metadata": {},
   "outputs": [
    {
     "data": {
      "text/plain": [
       "array([[-6.37745969e-02],\n",
       "       [ 2.01056542e+01],\n",
       "       [ 4.75435875e-02],\n",
       "       [ 7.37238897e-02],\n",
       "       [-9.09609977e-02],\n",
       "       [-2.46127900e-01],\n",
       "       [ 1.02652208e-02],\n",
       "       [ 1.20824901e-03],\n",
       "       [-1.16664139e-02],\n",
       "       [ 2.02438812e+01],\n",
       "       [ 2.00128580e+01],\n",
       "       [ 1.99848365e+01],\n",
       "       [-1.14447991e-01],\n",
       "       [ 2.01442869e+01],\n",
       "       [-1.24710635e-01],\n",
       "       [ 6.70814920e-02],\n",
       "       [ 2.00023348e+01],\n",
       "       [ 2.00262489e+01],\n",
       "       [-1.67622196e-02],\n",
       "       [ 1.98805785e+01]])"
      ]
     },
     "execution_count": 33,
     "metadata": {},
     "output_type": "execute_result"
    }
   ],
   "source": [
    "series_to_primitive_transformer = QuantileTransformer()\n",
    "transformer = InstanceTransformer(series_to_primitive_transformer)\n",
    "transformer.fit_transform(X)"
   ]
  },
  {
   "cell_type": "markdown",
   "metadata": {},
   "source": [
    "### 4. Series-as-features -> Series-as-features\n",
    "* usually fittable and encapsualted in classes\n",
    "* input of fit and transform always needs to have the same number of columns and time points, but may have different number of instances\n",
    "* input and output of transform always has same number of instances, but may have different numbers of columns and time points (including going from time-homogeneous data to time-heterogenous data)\n",
    "\n",
    "#### Examples\n",
    "* dictionary-based transforms \n",
    "* time series segmentation, e.g. splitting a time series columns into multiple ones, see IntervalSegmenter\n",
    "* time series concatenation, e.g. merging multiple time series columns into a single one, see ColumnConcatenator\n",
    "* composite transformers, e.g. applying series-to-series or series-to-primitive transforms iteratively over instances/rows"
   ]
  },
  {
   "cell_type": "code",
   "execution_count": 34,
   "metadata": {},
   "outputs": [],
   "source": [
    "class _SeriesAsFeaturesToSeriesAsFeaturesTransformer:\n",
    "\n",
    "    def fit(self, X: SeriesAsFeatures, y=None):\n",
    "        return self\n",
    "        \n",
    "    def transform(self, X: SeriesAsFeatures, y=None) -> SeriesAsFeatures:\n",
    "        return Xt  # tabular\n",
    "\n",
    "    def inverse_transform(self, X: SeriesAsFeatures, y=None) -> SeriesAsFeatures:\n",
    "        return Xt  # tabular\n",
    "    \n",
    "    def fit_transform(self, X: SeriesAsFeatures, y=None) -> SeriesAsFeatures:\n",
    "        return self.fit(X, y).transform(X, y)"
   ]
  },
  {
   "cell_type": "code",
   "execution_count": 35,
   "metadata": {},
   "outputs": [],
   "source": [
    "# example\n",
    "from sktime.transformers.series_as_features.segment import RandomIntervalSegmenter"
   ]
  },
  {
   "cell_type": "code",
   "execution_count": 36,
   "metadata": {},
   "outputs": [
    {
     "name": "stdout",
     "output_type": "stream",
     "text": [
      "[[14 16]\n",
      " [ 3  8]\n",
      " [ 2  4]]\n"
     ]
    },
    {
     "data": {
      "text/html": [
       "<div>\n",
       "<style scoped>\n",
       "    .dataframe tbody tr th:only-of-type {\n",
       "        vertical-align: middle;\n",
       "    }\n",
       "\n",
       "    .dataframe tbody tr th {\n",
       "        vertical-align: top;\n",
       "    }\n",
       "\n",
       "    .dataframe thead th {\n",
       "        text-align: right;\n",
       "    }\n",
       "</style>\n",
       "<table border=\"1\" class=\"dataframe\">\n",
       "  <thead>\n",
       "    <tr style=\"text-align: right;\">\n",
       "      <th></th>\n",
       "      <th>var_14_16</th>\n",
       "      <th>var_3_8</th>\n",
       "      <th>var_2_4</th>\n",
       "    </tr>\n",
       "  </thead>\n",
       "  <tbody>\n",
       "    <tr>\n",
       "      <th>0</th>\n",
       "      <td>[-0.2647499738541997, -0.07418519836514284]</td>\n",
       "      <td>[0.5599010138863696, -0.7093008204543497, -0.0...</td>\n",
       "      <td>[0.1011900125563006, 0.5599010138863696]</td>\n",
       "    </tr>\n",
       "    <tr>\n",
       "      <th>1</th>\n",
       "      <td>[19.645199257987077, 19.951407949803734]</td>\n",
       "      <td>[20.90092074650609, 19.73655743270104, 20.2163...</td>\n",
       "      <td>[19.279093432874262, 20.90092074650609]</td>\n",
       "    </tr>\n",
       "    <tr>\n",
       "      <th>2</th>\n",
       "      <td>[0.05899819153821709, 0.30505610018580925]</td>\n",
       "      <td>[0.03608898341015577, 0.40744981479662834, -0....</td>\n",
       "      <td>[0.8686462135567213, 0.03608898341015577]</td>\n",
       "    </tr>\n",
       "    <tr>\n",
       "      <th>3</th>\n",
       "      <td>[0.0992092591317817, 0.13471965266355374]</td>\n",
       "      <td>[-0.5828494648509979, -0.23008299207929372, -0...</td>\n",
       "      <td>[0.41137170937860945, -0.5828494648509979]</td>\n",
       "    </tr>\n",
       "    <tr>\n",
       "      <th>4</th>\n",
       "      <td>[1.1106714887177418, 0.7447159807103513]</td>\n",
       "      <td>[-0.9584539499174366, -0.6811243602822077, 0.9...</td>\n",
       "      <td>[-0.4256495420687192, -0.9584539499174366]</td>\n",
       "    </tr>\n",
       "  </tbody>\n",
       "</table>\n",
       "</div>"
      ],
      "text/plain": [
       "                                     var_14_16  \\\n",
       "0  [-0.2647499738541997, -0.07418519836514284]   \n",
       "1     [19.645199257987077, 19.951407949803734]   \n",
       "2   [0.05899819153821709, 0.30505610018580925]   \n",
       "3    [0.0992092591317817, 0.13471965266355374]   \n",
       "4     [1.1106714887177418, 0.7447159807103513]   \n",
       "\n",
       "                                             var_3_8  \\\n",
       "0  [0.5599010138863696, -0.7093008204543497, -0.0...   \n",
       "1  [20.90092074650609, 19.73655743270104, 20.2163...   \n",
       "2  [0.03608898341015577, 0.40744981479662834, -0....   \n",
       "3  [-0.5828494648509979, -0.23008299207929372, -0...   \n",
       "4  [-0.9584539499174366, -0.6811243602822077, 0.9...   \n",
       "\n",
       "                                      var_2_4  \n",
       "0    [0.1011900125563006, 0.5599010138863696]  \n",
       "1     [19.279093432874262, 20.90092074650609]  \n",
       "2   [0.8686462135567213, 0.03608898341015577]  \n",
       "3  [0.41137170937860945, -0.5828494648509979]  \n",
       "4  [-0.4256495420687192, -0.9584539499174366]  "
      ]
     },
     "execution_count": 36,
     "metadata": {},
     "output_type": "execute_result"
    }
   ],
   "source": [
    "transformer = RandomIntervalSegmenter(n_intervals=3)\n",
    "Xt = transformer.fit_transform(X)\n",
    "Xt.head()"
   ]
  }
 ],
 "metadata": {
  "kernelspec": {
   "display_name": "Python 3",
   "language": "python",
   "name": "python3"
  },
  "language_info": {
   "codemirror_mode": {
    "name": "ipython",
    "version": 3
   },
   "file_extension": ".py",
   "mimetype": "text/x-python",
   "name": "python",
   "nbconvert_exporter": "python",
   "pygments_lexer": "ipython3",
   "version": "3.7.8"
  }
 },
 "nbformat": 4,
 "nbformat_minor": 4
}
